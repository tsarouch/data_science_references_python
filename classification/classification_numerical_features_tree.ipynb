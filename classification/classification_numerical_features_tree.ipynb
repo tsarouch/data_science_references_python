{
 "cells": [
  {
   "cell_type": "code",
   "execution_count": 1,
   "metadata": {
    "collapsed": false
   },
   "outputs": [
    {
     "data": {
      "text/plain": [
       "' TODO '"
      ]
     },
     "execution_count": 1,
     "metadata": {},
     "output_type": "execute_result"
    }
   ],
   "source": [
    "\"\"\" TODO \"\"\""
   ]
  },
  {
   "cell_type": "code",
   "execution_count": 27,
   "metadata": {
    "collapsed": false
   },
   "outputs": [
    {
     "name": "stdout",
     "output_type": "stream",
     "text": [
      "The autoreload extension is already loaded. To reload it, use:\n",
      "  %reload_ext autoreload\n"
     ]
    }
   ],
   "source": [
    "import numpy as np\n",
    "import pandas as pd\n",
    "import sklearn\n",
    "from sklearn import datasets \n",
    "import matplotlib.pyplot as plt\n",
    "%matplotlib inline\n",
    "\n",
    "from sklearn import tree\n",
    "\n",
    "%load_ext autoreload\n",
    "%autoreload 2\n",
    "import sys\n",
    "sys.path.append(\"../lib_plot\")\n",
    "import scatter_boxplot as sp\n",
    "\n",
    "\n",
    "\n",
    "boston = datasets.load_boston()"
   ]
  },
  {
   "cell_type": "code",
   "execution_count": 3,
   "metadata": {
    "collapsed": false
   },
   "outputs": [
    {
     "data": {
      "text/html": [
       "<div style=\"max-height:1000px;max-width:1500px;overflow:auto;\">\n",
       "<table border=\"1\" class=\"dataframe\">\n",
       "  <thead>\n",
       "    <tr style=\"text-align: right;\">\n",
       "      <th></th>\n",
       "      <th>CRIM</th>\n",
       "      <th>ZN</th>\n",
       "      <th>INDUS</th>\n",
       "      <th>CHAS</th>\n",
       "      <th>NOX</th>\n",
       "      <th>RM</th>\n",
       "      <th>AGE</th>\n",
       "      <th>DIS</th>\n",
       "      <th>RAD</th>\n",
       "      <th>TAX</th>\n",
       "      <th>PTRATIO</th>\n",
       "      <th>B</th>\n",
       "      <th>LSTAT</th>\n",
       "      <th>MEDV</th>\n",
       "    </tr>\n",
       "  </thead>\n",
       "  <tbody>\n",
       "    <tr>\n",
       "      <th>0</th>\n",
       "      <td> 0.00632</td>\n",
       "      <td> 18</td>\n",
       "      <td> 2.31</td>\n",
       "      <td> 0</td>\n",
       "      <td> 0.538</td>\n",
       "      <td> 6.575</td>\n",
       "      <td> 65.2</td>\n",
       "      <td> 4.0900</td>\n",
       "      <td> 1</td>\n",
       "      <td> 296</td>\n",
       "      <td> 15.3</td>\n",
       "      <td> 396.90</td>\n",
       "      <td> 4.98</td>\n",
       "      <td> 24.0</td>\n",
       "    </tr>\n",
       "    <tr>\n",
       "      <th>1</th>\n",
       "      <td> 0.02731</td>\n",
       "      <td>  0</td>\n",
       "      <td> 7.07</td>\n",
       "      <td> 0</td>\n",
       "      <td> 0.469</td>\n",
       "      <td> 6.421</td>\n",
       "      <td> 78.9</td>\n",
       "      <td> 4.9671</td>\n",
       "      <td> 2</td>\n",
       "      <td> 242</td>\n",
       "      <td> 17.8</td>\n",
       "      <td> 396.90</td>\n",
       "      <td> 9.14</td>\n",
       "      <td> 21.6</td>\n",
       "    </tr>\n",
       "    <tr>\n",
       "      <th>2</th>\n",
       "      <td> 0.02729</td>\n",
       "      <td>  0</td>\n",
       "      <td> 7.07</td>\n",
       "      <td> 0</td>\n",
       "      <td> 0.469</td>\n",
       "      <td> 7.185</td>\n",
       "      <td> 61.1</td>\n",
       "      <td> 4.9671</td>\n",
       "      <td> 2</td>\n",
       "      <td> 242</td>\n",
       "      <td> 17.8</td>\n",
       "      <td> 392.83</td>\n",
       "      <td> 4.03</td>\n",
       "      <td> 34.7</td>\n",
       "    </tr>\n",
       "    <tr>\n",
       "      <th>3</th>\n",
       "      <td> 0.03237</td>\n",
       "      <td>  0</td>\n",
       "      <td> 2.18</td>\n",
       "      <td> 0</td>\n",
       "      <td> 0.458</td>\n",
       "      <td> 6.998</td>\n",
       "      <td> 45.8</td>\n",
       "      <td> 6.0622</td>\n",
       "      <td> 3</td>\n",
       "      <td> 222</td>\n",
       "      <td> 18.7</td>\n",
       "      <td> 394.63</td>\n",
       "      <td> 2.94</td>\n",
       "      <td> 33.4</td>\n",
       "    </tr>\n",
       "    <tr>\n",
       "      <th>4</th>\n",
       "      <td> 0.06905</td>\n",
       "      <td>  0</td>\n",
       "      <td> 2.18</td>\n",
       "      <td> 0</td>\n",
       "      <td> 0.458</td>\n",
       "      <td> 7.147</td>\n",
       "      <td> 54.2</td>\n",
       "      <td> 6.0622</td>\n",
       "      <td> 3</td>\n",
       "      <td> 222</td>\n",
       "      <td> 18.7</td>\n",
       "      <td> 396.90</td>\n",
       "      <td> 5.33</td>\n",
       "      <td> 36.2</td>\n",
       "    </tr>\n",
       "  </tbody>\n",
       "</table>\n",
       "</div>"
      ],
      "text/plain": [
       "      CRIM  ZN  INDUS  CHAS    NOX     RM   AGE     DIS  RAD  TAX  PTRATIO  \\\n",
       "0  0.00632  18   2.31     0  0.538  6.575  65.2  4.0900    1  296     15.3   \n",
       "1  0.02731   0   7.07     0  0.469  6.421  78.9  4.9671    2  242     17.8   \n",
       "2  0.02729   0   7.07     0  0.469  7.185  61.1  4.9671    2  242     17.8   \n",
       "3  0.03237   0   2.18     0  0.458  6.998  45.8  6.0622    3  222     18.7   \n",
       "4  0.06905   0   2.18     0  0.458  7.147  54.2  6.0622    3  222     18.7   \n",
       "\n",
       "        B  LSTAT  MEDV  \n",
       "0  396.90   4.98  24.0  \n",
       "1  396.90   9.14  21.6  \n",
       "2  392.83   4.03  34.7  \n",
       "3  394.63   2.94  33.4  \n",
       "4  396.90   5.33  36.2  "
      ]
     },
     "execution_count": 3,
     "metadata": {},
     "output_type": "execute_result"
    }
   ],
   "source": [
    "boston_df_all = pd.DataFrame(boston.data, columns = boston.feature_names)\n",
    "boston_df_all['MEDV'] = boston.target\n",
    "boston_df_all.head()"
   ]
  },
  {
   "cell_type": "code",
   "execution_count": 13,
   "metadata": {
    "collapsed": false
   },
   "outputs": [],
   "source": [
    "# Lets make it simple, \n",
    "# we select the target data: \n",
    "# - MEDV     Median value of owner-occupied homes in $1000's\n",
    "# and we selecvt couple of categorial independent variables:\n",
    "# - CHAS     Charles River dummy variable (= 1 if tract bounds river; 0 otherwise)\n",
    "# - RAD      index of accessibility to radial highways\n",
    "boston_df = boston_df_all[[\"MEDV\", \"AGE\", \"PTRATIO\"]]"
   ]
  },
  {
   "cell_type": "code",
   "execution_count": 14,
   "metadata": {
    "collapsed": false
   },
   "outputs": [
    {
     "name": "stderr",
     "output_type": "stream",
     "text": [
      "/Users/charilaostsarouchas/anaconda/lib/python2.7/site-packages/IPython/kernel/__main__.py:4: SettingWithCopyWarning: \n",
      "A value is trying to be set on a copy of a slice from a DataFrame.\n",
      "Try using .loc[row_indexer,col_indexer] = value instead\n",
      "\n",
      "See the the caveats in the documentation: http://pandas.pydata.org/pandas-docs/stable/indexing.html#indexing-view-versus-copy\n"
     ]
    }
   ],
   "source": [
    "# for the shake of the exercise here, lets make the target categorial, if >25 (.75 percentile) True else false\n",
    "# True for expensive\n",
    "CUT = 25\n",
    "boston_df[\"MEDV_cat\"] = boston_df_target.apply(lambda x: True if x < CUT else False)"
   ]
  },
  {
   "cell_type": "code",
   "execution_count": 17,
   "metadata": {
    "collapsed": false
   },
   "outputs": [
    {
     "data": {
      "text/html": [
       "<div style=\"max-height:1000px;max-width:1500px;overflow:auto;\">\n",
       "<table border=\"1\" class=\"dataframe\">\n",
       "  <thead>\n",
       "    <tr style=\"text-align: right;\">\n",
       "      <th></th>\n",
       "      <th>MEDV</th>\n",
       "      <th>AGE</th>\n",
       "      <th>PTRATIO</th>\n",
       "      <th>MEDV_cat</th>\n",
       "    </tr>\n",
       "  </thead>\n",
       "  <tbody>\n",
       "    <tr>\n",
       "      <th>0</th>\n",
       "      <td> 24.0</td>\n",
       "      <td> 65.2</td>\n",
       "      <td> 15.3</td>\n",
       "      <td> True</td>\n",
       "    </tr>\n",
       "    <tr>\n",
       "      <th>1</th>\n",
       "      <td> 21.6</td>\n",
       "      <td> 78.9</td>\n",
       "      <td> 17.8</td>\n",
       "      <td> True</td>\n",
       "    </tr>\n",
       "  </tbody>\n",
       "</table>\n",
       "</div>"
      ],
      "text/plain": [
       "   MEDV   AGE  PTRATIO MEDV_cat\n",
       "0  24.0  65.2     15.3     True\n",
       "1  21.6  78.9     17.8     True"
      ]
     },
     "execution_count": 17,
     "metadata": {},
     "output_type": "execute_result"
    }
   ],
   "source": [
    "boston_df.head(2)"
   ]
  },
  {
   "cell_type": "markdown",
   "metadata": {},
   "source": [
    "## Create and Fit the Tree"
   ]
  },
  {
   "cell_type": "code",
   "execution_count": 117,
   "metadata": {
    "collapsed": false
   },
   "outputs": [],
   "source": [
    "X = boston_df[[\"AGE\", \"PTRATIO\"]]\n",
    "y = boston_df[\"MEDV_cat\"]\n",
    "clf = tree.DecisionTreeClassifier(max_depth=2)\n",
    "#clf = tree.DecisionTreeClassifier()\n",
    "clf = clf.fit(X, y)"
   ]
  },
  {
   "cell_type": "markdown",
   "metadata": {},
   "source": [
    "## Important information of decision tree results"
   ]
  },
  {
   "cell_type": "code",
   "execution_count": 118,
   "metadata": {
    "collapsed": false
   },
   "outputs": [
    {
     "name": "stdout",
     "output_type": "stream",
     "text": [
      "names:  ['AGE' 'PTRATIO']\n",
      "importances:  [ 0.08781231  0.91218769]\n"
     ]
    }
   ],
   "source": [
    "print \"names: \", X.columns.values\n",
    "print \"importances: \", clf.feature_importances_"
   ]
  },
  {
   "cell_type": "markdown",
   "metadata": {},
   "source": [
    "##See the decision boundaries"
   ]
  },
  {
   "cell_type": "code",
   "execution_count": 119,
   "metadata": {
    "collapsed": true
   },
   "outputs": [],
   "source": [
    "# See visualy the results"
   ]
  },
  {
   "cell_type": "code",
   "execution_count": 120,
   "metadata": {
    "collapsed": true
   },
   "outputs": [],
   "source": [
    "a_df = boston_df[boston_df[\"MEDV_cat\"] == True]\n",
    "a_x = a_df[\"AGE\"].values\n",
    "a_y = a_df[\"PTRATIO\"].values\n",
    "b_df = boston_df[boston_df[\"MEDV_cat\"] == False]\n",
    "b_x = b_df[\"AGE\"].values\n",
    "b_y = b_df[\"PTRATIO\"].values"
   ]
  },
  {
   "cell_type": "code",
   "execution_count": 121,
   "metadata": {
    "collapsed": false
   },
   "outputs": [
    {
     "name": "stdout",
     "output_type": "stream",
     "text": [
      "[ 1  2 -1 -1  5 -1 -1]\n",
      "[ 4  3 -1 -1  6 -1 -1]\n",
      "[ 18.34999847  14.54999924  -2.          -2.          72.30000305  -2.          -2.        ]\n",
      "[ 1  1 -2 -2  0 -2 -2]\n",
      "['PTRATIO', 'PTRATIO', 'AGE', 'AGE', 'AGE', 'AGE', 'AGE']\n"
     ]
    }
   ],
   "source": [
    "feature_names = X.columns.values\n",
    "print clf.tree_.children_left\n",
    "print clf.tree_.children_right\n",
    "print clf.tree_.threshold\n",
    "print clf.tree_.feature\n",
    "print [feature_names[i] for i in clf.tree_.feature]"
   ]
  },
  {
   "cell_type": "code",
   "execution_count": 122,
   "metadata": {
    "collapsed": false
   },
   "outputs": [],
   "source": [
    "# extract of the underlying decision-rules from a trained tree\n",
    "# http://stackoverflow.com/questions/20224526/how-to-extract-the-decision-rules-from-scikit-learn-decision-tree\n",
    "def get_code(tree, feature_names):\n",
    "        left      = tree.tree_.children_left\n",
    "        right     = tree.tree_.children_right\n",
    "        threshold = tree.tree_.threshold\n",
    "        features  = [feature_names[i] for i in tree.tree_.feature]\n",
    "        value = tree.tree_.value\n",
    "\n",
    "        def recurse(left, right, threshold, features, node):\n",
    "                if (threshold[node] != -2):\n",
    "                        print \"if ( \" + features[node] + \" <= \" + str(threshold[node]) + \" ) {\"\n",
    "                        if left[node] != -1:\n",
    "                                recurse (left, right, threshold, features,left[node])\n",
    "                        print \"} else {\"\n",
    "                        if right[node] != -1:\n",
    "                                recurse (left, right, threshold, features,right[node])\n",
    "                        print \"}\"\n",
    "                else:\n",
    "                        print \"return \" + str(value[node])\n",
    "\n",
    "        recurse(left, right, threshold, features, 0)\n",
    "        "
   ]
  },
  {
   "cell_type": "code",
   "execution_count": 123,
   "metadata": {
    "collapsed": false
   },
   "outputs": [
    {
     "name": "stdout",
     "output_type": "stream",
     "text": [
      "if ( PTRATIO <= 18.3499984741 ) {\n",
      "if ( PTRATIO <= 14.5499992371 ) {\n",
      "return [[ 16.   1.]]\n",
      "} else {\n",
      "return [[  80.  101.]]\n",
      "}\n",
      "} else {\n",
      "if ( AGE <= 72.3000030518 ) {\n",
      "return [[ 25.  88.]]\n",
      "} else {\n",
      "return [[  11.  184.]]\n",
      "}\n",
      "}\n"
     ]
    }
   ],
   "source": [
    "get_code(clf, X.columns.values)"
   ]
  },
  {
   "cell_type": "code",
   "execution_count": 124,
   "metadata": {
    "collapsed": false
   },
   "outputs": [
    {
     "data": {
      "image/png": "[encoded data removed]",
      "text/plain": [
       "<matplotlib.figure.Figure at 0x2f1a33350>"
      ]
     },
     "metadata": {},
     "output_type": "display_data"
    }
   ],
   "source": [
    " # Plot the decision boundary. For that, we will assign a color to each\n",
    "    # point in the mesh [x_min, m_max]x[y_min, y_max].\n",
    "    \n",
    "# Create color maps\n",
    "from matplotlib.colors import ListedColormap\n",
    "cmap_light = ListedColormap(['#FFAAAA', '#AAFFAA', '#AAAAFF'])\n",
    "cmap_bold = ListedColormap(['#FF0000', '#00FF00', '#0000FF'])\n",
    "\n",
    "#!!! check next value - should not be too small for the range we have - better dynamically\n",
    "h = 1  # step size in the mesh\n",
    "\n",
    "x_min, x_max = X[\"AGE\"].min() - 1, X[\"AGE\"].max() + 1\n",
    "y_min, y_max = X[\"PTRATIO\"].min() - 1, X[\"PTRATIO\"].max() + 1\n",
    "xx, yy = np.meshgrid(np.arange(x_min, x_max, h), np.arange(y_min, y_max, h))\n",
    "Z = clf.predict(np.c_[xx.ravel(), yy.ravel()])\n",
    "Z = Z.reshape(xx.shape)\n",
    "plt.figure()\n",
    "plt.pcolormesh(xx, yy, Z, cmap=cmap_light)\n",
    "\n",
    "# Plot also the training points\n",
    "plt.scatter(X[\"AGE\"], X[\"PTRATIO\"], c=y, cmap=cmap_bold)\n",
    "plt.xlim(xx.min(), xx.max())\n",
    "plt.ylim(yy.min(), yy.max())\n",
    "#plt.title(\"3-Class classification (k = %i, weights = '%s')\"\n",
    "#              % (n_neighbors, weights))\n",
    "plt.show()\n",
    "\n"
   ]
  },
  {
   "cell_type": "code",
   "execution_count": null,
   "metadata": {
    "collapsed": true
   },
   "outputs": [],
   "source": []
  },
  {
   "cell_type": "code",
   "execution_count": null,
   "metadata": {
    "collapsed": true
   },
   "outputs": [],
   "source": []
  }
 ],
 "metadata": {
  "kernelspec": {
   "display_name": "Python 2",
   "language": "python",
   "name": "python2"
  },
  "language_info": {
   "codemirror_mode": {
    "name": "ipython",
    "version": 2
   },
   "file_extension": ".py",
   "mimetype": "text/x-python",
   "name": "python",
   "nbconvert_exporter": "python",
   "pygments_lexer": "ipython2",
   "version": "2.7.10"
  }
 },
 "nbformat": 4,
 "nbformat_minor": 0
}
