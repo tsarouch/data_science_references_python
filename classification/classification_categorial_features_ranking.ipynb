{
 "cells": [
  {
   "cell_type": "code",
   "execution_count": 63,
   "metadata": {
    "collapsed": true
   },
   "outputs": [],
   "source": [
    "# Inspired from the Data Science for business, on Introduction to predictive modeling example\n",
    "# dataset from https://archive.ics.uci.edu/ml/datasets/Mushroom"
   ]
  },
  {
   "cell_type": "code",
   "execution_count": 64,
   "metadata": {
    "collapsed": false
   },
   "outputs": [
    {
     "name": "stdout",
     "output_type": "stream",
     "text": [
      "The autoreload extension is already loaded. To reload it, use:\n",
      "  %reload_ext autoreload\n"
     ]
    }
   ],
   "source": [
    "# necessary imports\n",
    "from matplotlib import pyplot as plt\n",
    "import pandas as pd\n",
    "import numpy as np\n",
    "%load_ext autoreload\n",
    "%autoreload 2\n",
    "import sys\n",
    "sys.path.append(\"../lib_math\")\n",
    "import information as info\n",
    "import scatter_boxplot as sbp\n",
    "%matplotlib inline\n",
    "import seaborn as sns\n",
    "from scipy.stats.stats import pearsonr\n",
    "from scipy import stats"
   ]
  },
  {
   "cell_type": "markdown",
   "metadata": {},
   "source": [
    "##data input"
   ]
  },
  {
   "cell_type": "raw",
   "metadata": {},
   "source": [
    "\"\"\"\n",
    "class: edible=e, poisonous=p\n",
    "cap-shape: bell=b, conical=c, convex=x, flat=f, knobbed=k, sunken=s\n",
    "cap-surface: fibrous=f, grooves=g, scaly=y, smooth=s\n",
    "cap-color: brown=n ,buff=b, cinnamon=c, gray=g, green=r, pink=p, purple=u, red=e, white=w, yellow=y\n",
    "bruises?: bruises=t, no=f\n",
    "odor: almond=a, anise=l, creosote=c, fishy=y, foul=f, musty=m, none=n, pungent=p, spicy=s\n",
    "gill-attachment: attached=a, descending=d, free=f, notched=n\n",
    "gill-spacing: close=c, crowded=w, distant=d\n",
    "gill-size: broad=b, narrow=n\n",
    "gill-color: black=k, brown=n, buff=b, chocolate=h, gray=g, green=r, orange=o, pink=p, purple=u, red=e, white=w, yellow=y\n",
    "stalk-shape: enlarging=e, tapering=t\n",
    "stalk-root: bulbous=b, club=c, cup=u, equal=e, rhizomorphs=z, rooted=r, missing=?\n",
    "stalk-surface-above-ring: fibrous=f, scaly=y, silky=k, smooth=s\n",
    "stalk-surface-below-ring: fibrous=f, scaly=y, silky=k, smooth=s\n",
    "stalk-color-above-ring: brown=n, buff=b, cinnamon=c, gray=g, orange=o, pink=p, red=e, white=w, yellow=y\n",
    "stalk-color-below-ring: brown=n, buff=b, cinnamon=c, gray=g, orange=o, pink=p, red=e, white=w, yellow=y\n",
    "veil-type: partial=p, universal=u\n",
    "veil-color: brown=n, orange=o, white=w, yellow=y\n",
    "ring-number: none=n, one=o, two=t\n",
    "ring-type: cobwebby=c, evanescent=e, flaring=f, large=l, none=n, pendant=p, sheathing=s, zone=z\n",
    "spore-print-color: black=k, brown=n, buff=b, chocolate=h, green=r, orange=o, purple=u, white=w, yellow=y\n",
    "population: abundant=a, clustered=c, numerous=n, scattered=s, several=v, solitary=y\n",
    "habitat: grasses=g, leaves=l, meadows=m, paths=p, urban=u, waste=w, woods=d\n",
    "\"\"\""
   ]
  },
  {
   "cell_type": "code",
   "execution_count": 65,
   "metadata": {
    "collapsed": false
   },
   "outputs": [
    {
     "name": "stdout",
     "output_type": "stream",
     "text": [
      "8123\n"
     ]
    }
   ],
   "source": [
    "#https://archive.ics.uci.edu/ml/datasets/Mushroom\n",
    "df = pd.read_csv('../small_data_samples/agaricus-lepiota.data')\n",
    "print len(df)"
   ]
  },
  {
   "cell_type": "code",
   "execution_count": 66,
   "metadata": {
    "collapsed": false
   },
   "outputs": [
    {
     "data": {
      "text/html": [
       "<div style=\"max-height:1000px;max-width:1500px;overflow:auto;\">\n",
       "<table border=\"1\" class=\"dataframe\">\n",
       "  <thead>\n",
       "    <tr style=\"text-align: right;\">\n",
       "      <th></th>\n",
       "      <th>p</th>\n",
       "      <th>x</th>\n",
       "      <th>s</th>\n",
       "      <th>n</th>\n",
       "      <th>t</th>\n",
       "      <th>p.1</th>\n",
       "      <th>f</th>\n",
       "      <th>c</th>\n",
       "      <th>n.1</th>\n",
       "      <th>k</th>\n",
       "      <th>...</th>\n",
       "      <th>s.2</th>\n",
       "      <th>w</th>\n",
       "      <th>w.1</th>\n",
       "      <th>p.2</th>\n",
       "      <th>w.2</th>\n",
       "      <th>o</th>\n",
       "      <th>p.3</th>\n",
       "      <th>k.1</th>\n",
       "      <th>s.3</th>\n",
       "      <th>u</th>\n",
       "    </tr>\n",
       "  </thead>\n",
       "  <tbody>\n",
       "    <tr>\n",
       "      <th>0</th>\n",
       "      <td> e</td>\n",
       "      <td> x</td>\n",
       "      <td> s</td>\n",
       "      <td> y</td>\n",
       "      <td> t</td>\n",
       "      <td> a</td>\n",
       "      <td> f</td>\n",
       "      <td> c</td>\n",
       "      <td> b</td>\n",
       "      <td> k</td>\n",
       "      <td>...</td>\n",
       "      <td> s</td>\n",
       "      <td> w</td>\n",
       "      <td> w</td>\n",
       "      <td> p</td>\n",
       "      <td> w</td>\n",
       "      <td> o</td>\n",
       "      <td> p</td>\n",
       "      <td> n</td>\n",
       "      <td> n</td>\n",
       "      <td> g</td>\n",
       "    </tr>\n",
       "    <tr>\n",
       "      <th>1</th>\n",
       "      <td> e</td>\n",
       "      <td> b</td>\n",
       "      <td> s</td>\n",
       "      <td> w</td>\n",
       "      <td> t</td>\n",
       "      <td> l</td>\n",
       "      <td> f</td>\n",
       "      <td> c</td>\n",
       "      <td> b</td>\n",
       "      <td> n</td>\n",
       "      <td>...</td>\n",
       "      <td> s</td>\n",
       "      <td> w</td>\n",
       "      <td> w</td>\n",
       "      <td> p</td>\n",
       "      <td> w</td>\n",
       "      <td> o</td>\n",
       "      <td> p</td>\n",
       "      <td> n</td>\n",
       "      <td> n</td>\n",
       "      <td> m</td>\n",
       "    </tr>\n",
       "    <tr>\n",
       "      <th>2</th>\n",
       "      <td> p</td>\n",
       "      <td> x</td>\n",
       "      <td> y</td>\n",
       "      <td> w</td>\n",
       "      <td> t</td>\n",
       "      <td> p</td>\n",
       "      <td> f</td>\n",
       "      <td> c</td>\n",
       "      <td> n</td>\n",
       "      <td> n</td>\n",
       "      <td>...</td>\n",
       "      <td> s</td>\n",
       "      <td> w</td>\n",
       "      <td> w</td>\n",
       "      <td> p</td>\n",
       "      <td> w</td>\n",
       "      <td> o</td>\n",
       "      <td> p</td>\n",
       "      <td> k</td>\n",
       "      <td> s</td>\n",
       "      <td> u</td>\n",
       "    </tr>\n",
       "  </tbody>\n",
       "</table>\n",
       "<p>3 rows × 23 columns</p>\n",
       "</div>"
      ],
      "text/plain": [
       "   p  x  s  n  t p.1  f  c n.1  k ... s.2  w w.1 p.2 w.2  o p.3 k.1 s.3  u\n",
       "0  e  x  s  y  t   a  f  c   b  k ...   s  w   w   p   w  o   p   n   n  g\n",
       "1  e  b  s  w  t   l  f  c   b  n ...   s  w   w   p   w  o   p   n   n  m\n",
       "2  p  x  y  w  t   p  f  c   n  n ...   s  w   w   p   w  o   p   k   s  u\n",
       "\n",
       "[3 rows x 23 columns]"
      ]
     },
     "execution_count": 66,
     "metadata": {},
     "output_type": "execute_result"
    }
   ],
   "source": [
    "df.head(3)"
   ]
  },
  {
   "cell_type": "markdown",
   "metadata": {},
   "source": [
    "## Ranking of attributes"
   ]
  },
  {
   "cell_type": "code",
   "execution_count": 67,
   "metadata": {
    "collapsed": true
   },
   "outputs": [],
   "source": [
    "# Here we deal with a Classification Task, target variable \"p\" is categorial\n",
    "# and the attributes are also categorial\n",
    "# => we can use the infromation gain "
   ]
  },
  {
   "cell_type": "code",
   "execution_count": 69,
   "metadata": {
    "collapsed": false
   },
   "outputs": [
    {
     "name": "stdout",
     "output_type": "stream",
     "text": [
      "global entropy is : Asdf\n",
      "0.999061269148\n",
      "total edible:  4208\n",
      "total poisonous :  3915\n"
     ]
    }
   ],
   "source": [
    "# Calculate the global entropy:\n",
    "print 'global entropy is :', info.entropy(df, \"p\")\n",
    "# If the two classes were perfectly balanced in the dataset it would have an entropy of 1. \n",
    "# since entropy ~ 1 we should not be far from this, but lets see exactly how far we are:\n",
    "print 'total edible: ',  len(df[df.p=='e'])\n",
    "print 'total poisonous : ',  len(df[df.p=='p'])"
   ]
  },
  {
   "cell_type": "code",
   "execution_count": 75,
   "metadata": {
    "collapsed": false
   },
   "outputs": [
    {
     "data": {
      "text/plain": [
       "0.4172294080316872"
      ]
     },
     "execution_count": 75,
     "metadata": {},
     "output_type": "execute_result"
    }
   ],
   "source": [
    "# Lets see the information gain for the GILL-COLOR\n",
    "info.information_gain(df, \"k\", \"p\")"
   ]
  },
  {
   "cell_type": "code",
   "execution_count": 76,
   "metadata": {
    "collapsed": false
   },
   "outputs": [
    {
     "data": {
      "text/plain": [
       "0.4810119039604144"
      ]
     },
     "execution_count": 76,
     "metadata": {},
     "output_type": "execute_result"
    }
   ],
   "source": [
    "# Lets see the information gain for the SPORE-PRINT-COLOR\n",
    "info.information_gain(df, \"k.1\", \"p\")\n"
   ]
  },
  {
   "cell_type": "code",
   "execution_count": 77,
   "metadata": {
    "collapsed": false
   },
   "outputs": [
    {
     "data": {
      "text/plain": [
       "0.9060569015595047"
      ]
     },
     "execution_count": 77,
     "metadata": {},
     "output_type": "execute_result"
    }
   ],
   "source": [
    "# Lets see the information gain for the SPORE-PRINT-COLOR\n",
    "info.information_gain(df, \"p.1\", \"p\")\n",
    "\n"
   ]
  },
  {
   "cell_type": "code",
   "execution_count": null,
   "metadata": {
    "collapsed": true
   },
   "outputs": [],
   "source": [
    "# => We see that the best information gain, checking these 3 features,  comes from teh odor.\n",
    "# this is the most informative attribute\n",
    "# If we were about to build a classification tree, this should be the top node."
   ]
  }
 ],
 "metadata": {
  "kernelspec": {
   "display_name": "Python 2",
   "language": "python",
   "name": "python2"
  },
  "language_info": {
   "codemirror_mode": {
    "name": "ipython",
    "version": 2
   },
   "file_extension": ".py",
   "mimetype": "text/x-python",
   "name": "python",
   "nbconvert_exporter": "python",
   "pygments_lexer": "ipython2",
   "version": "2.7.10"
  }
 },
 "nbformat": 4,
 "nbformat_minor": 0
}
