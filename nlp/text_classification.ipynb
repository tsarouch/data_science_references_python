{
 "cells": [
  {
   "cell_type": "markdown",
   "metadata": {},
   "source": [
    "## Get Data"
   ]
  },
  {
   "cell_type": "code",
   "execution_count": 20,
   "metadata": {},
   "outputs": [],
   "source": [
    "from sklearn.datasets import fetch_20newsgroups\n",
    "# get clean corpus: removing headers, footers, quotes\n",
    "corpus = fetch_20newsgroups(subset='train', shuffle=True,\n",
    "                            remove=('headers', 'footers', 'quotes'))"
   ]
  },
  {
   "cell_type": "code",
   "execution_count": 21,
   "metadata": {},
   "outputs": [
    {
     "name": "stdout",
     "output_type": "stream",
     "text": [
      "['description', 'DESCR', 'filenames', 'target_names', 'data', 'target']\n",
      "11314\n"
     ]
    }
   ],
   "source": [
    "#explore the corpus structure\n",
    "print corpus.keys()\n",
    "print len(corpus.data)"
   ]
  },
  {
   "cell_type": "code",
   "execution_count": 22,
   "metadata": {},
   "outputs": [
    {
     "name": "stdout",
     "output_type": "stream",
     "text": [
      "['alt.atheism', 'comp.graphics', 'comp.os.ms-windows.misc', 'comp.sys.ibm.pc.hardware', 'comp.sys.mac.hardware', 'comp.windows.x', 'misc.forsale', 'rec.autos', 'rec.motorcycles', 'rec.sport.baseball', 'rec.sport.hockey', 'sci.crypt', 'sci.electronics', 'sci.med', 'sci.space', 'soc.religion.christian', 'talk.politics.guns', 'talk.politics.mideast', 'talk.politics.misc', 'talk.religion.misc']\n"
     ]
    }
   ],
   "source": [
    "# see which categories exist\n",
    "print corpus.target_names "
   ]
  },
  {
   "cell_type": "code",
   "execution_count": 23,
   "metadata": {},
   "outputs": [
    {
     "name": "stdout",
     "output_type": "stream",
     "text": [
      "I was wondering if anyone out there could enlighten me on this car I saw\n",
      "the other day. It was a 2-door sports car, looked to be from the late 60s/\n",
      "early 70s. It was called a Bricklin. The doors were really small. In addition,\n",
      "the front bumper was separate from the rest of the body. This is \n",
      "all I know. If anyone can tellme a model name, engine specs, years\n",
      "of production, where this car is made, history, or whatever info you\n",
      "have on this funky looking car, please e-mail.\n"
     ]
    }
   ],
   "source": [
    "# see an example of document\n",
    "print corpus.data[0]"
   ]
  },
  {
   "cell_type": "markdown",
   "metadata": {},
   "source": [
    "## Data Preprocess"
   ]
  },
  {
   "cell_type": "code",
   "execution_count": 45,
   "metadata": {},
   "outputs": [
    {
     "data": {
      "text/plain": [
       "(11314, 101631)"
      ]
     },
     "execution_count": 45,
     "metadata": {},
     "output_type": "execute_result"
    }
   ],
   "source": [
    "# Extracting numerical features vectors from text files\n",
    "from sklearn.feature_extraction.text import CountVectorizer\n",
    "count_vect = CountVectorizer()\n",
    "corpus_train_counts = count_vect.fit_transform(corpus.data)\n",
    "corpus_train_counts.shape"
   ]
  },
  {
   "cell_type": "code",
   "execution_count": 46,
   "metadata": {},
   "outputs": [
    {
     "data": {
      "text/plain": [
       "(11314, 101631)"
      ]
     },
     "execution_count": 46,
     "metadata": {},
     "output_type": "execute_result"
    }
   ],
   "source": [
    "# Count: until now we do just counting of words - issue: gives more weight to longer documents than shorter documents\n",
    "# TF: To avoid this, we can use frequency (TF - Term Frequencies) i.e. #count(word) / #Total words, in each document.\n",
    "# TF-IDF: We can reduce the weight of more common words like (the, is, an etc.) which occurs in all document. This is called as TF-IDF i.e Term Frequency times inverse document frequency.\n",
    "from sklearn.feature_extraction.text import TfidfTransformer\n",
    "tfidf_transformer = TfidfTransformer()\n",
    "corpus_train_tfidf = tfidf_transformer.fit_transform(corpus_train_counts)\n",
    "corpus_train_tfidf.shape"
   ]
  },
  {
   "cell_type": "markdown",
   "metadata": {},
   "source": [
    "## Train ML"
   ]
  },
  {
   "cell_type": "code",
   "execution_count": 50,
   "metadata": {},
   "outputs": [
    {
     "name": "stdout",
     "output_type": "stream",
     "text": [
      "set([0, 1, 2, 3, 4, 5, 6, 7, 8, 9, 10, 11, 12, 13, 14, 15, 16, 17, 18, 19])\n",
      "20\n"
     ]
    }
   ],
   "source": [
    "print set(corpus.target)\n",
    "print len(corpus.target_names)"
   ]
  },
  {
   "cell_type": "code",
   "execution_count": 79,
   "metadata": {},
   "outputs": [],
   "source": [
    "# train and perform the preprocessing steps in the same pipeline\n",
    "from sklearn.pipeline import Pipeline\n",
    "pipeline = Pipeline([('vect', CountVectorizer()), \n",
    "                     ('tfidf', TfidfTransformer()), \n",
    "                     ('clf', MultinomialNB())])\n",
    "pipeline_fit = pipeline.fit(corpus.data, corpus.target)"
   ]
  },
  {
   "cell_type": "markdown",
   "metadata": {},
   "source": [
    "## Predict ML"
   ]
  },
  {
   "cell_type": "code",
   "execution_count": 82,
   "metadata": {},
   "outputs": [],
   "source": [
    "# get data\n",
    "corpus_test = fetch_20newsgroups(subset='test', shuffle=True, remove=('headers', 'footers', 'quotes'))\n",
    "\n",
    "# run pipeline \n",
    "predicted = pipeline_fit.predict(corpus_test.data)"
   ]
  },
  {
   "cell_type": "markdown",
   "metadata": {},
   "source": [
    "## Evaluate Performance"
   ]
  },
  {
   "cell_type": "code",
   "execution_count": 81,
   "metadata": {},
   "outputs": [
    {
     "data": {
      "text/plain": [
       "0.60621348911311734"
      ]
     },
     "execution_count": 81,
     "metadata": {},
     "output_type": "execute_result"
    }
   ],
   "source": [
    "# check accuracy\n",
    "import numpy as np\n",
    "np.mean(predicted == corpus_test.target)"
   ]
  },
  {
   "cell_type": "markdown",
   "metadata": {},
   "source": [
    "## Baselines"
   ]
  },
  {
   "cell_type": "code",
   "execution_count": 116,
   "metadata": {},
   "outputs": [
    {
     "data": {
      "text/plain": [
       "0.050318640467339353"
      ]
     },
     "execution_count": 116,
     "metadata": {},
     "output_type": "execute_result"
    }
   ],
   "source": [
    "# The dummy classifier gives you a measure of \"baseline\" performance--i.e. \n",
    "# the success rate one should expect to achieve even if simply guessing.\n",
    "from sklearn.dummy import DummyClassifier\n",
    "pipeline = Pipeline([('vect', CountVectorizer(stop_words='english')), \n",
    "                     ('tfidf', TfidfTransformer()), \n",
    "                     ('clf', DummyClassifier())])\n",
    "pipeline_fit = pipeline.fit(corpus.data, corpus.target)\n",
    "\n",
    "#predict\n",
    "predicted = pipeline_fit.predict(corpus_test.data)\n",
    "\n",
    "# check accuracy\n",
    "np.mean(predicted == corpus_test.target)"
   ]
  },
  {
   "cell_type": "markdown",
   "metadata": {},
   "source": [
    "## Improvements"
   ]
  },
  {
   "cell_type": "markdown",
   "metadata": {},
   "source": [
    "#### 1. removing stopwords "
   ]
  },
  {
   "cell_type": "code",
   "execution_count": 85,
   "metadata": {},
   "outputs": [
    {
     "data": {
      "text/plain": [
       "0.67790759426447156"
      ]
     },
     "execution_count": 85,
     "metadata": {},
     "output_type": "execute_result"
    }
   ],
   "source": [
    "from sklearn.pipeline import Pipeline\n",
    "pipeline = Pipeline([('vect', CountVectorizer(stop_words='english')), \n",
    "                     ('tfidf', TfidfTransformer()), \n",
    "                     ('clf', MultinomialNB())])\n",
    "pipeline_fit = pipeline.fit(corpus.data, corpus.target)\n",
    "\n",
    "# run pipeline \n",
    "predicted = pipeline_fit.predict(corpus_test.data)\n",
    "\n",
    "# check accuracy\n",
    "np.mean(predicted == corpus_test.target)"
   ]
  },
  {
   "cell_type": "code",
   "execution_count": 86,
   "metadata": {
    "collapsed": true
   },
   "outputs": [],
   "source": [
    "# Looks like just by removing stop words we got some small performance improvement."
   ]
  },
  {
   "cell_type": "markdown",
   "metadata": {},
   "source": [
    "#### 2. Stemming "
   ]
  },
  {
   "cell_type": "code",
   "execution_count": 93,
   "metadata": {},
   "outputs": [
    {
     "data": {
      "text/plain": [
       "0.67843866171003719"
      ]
     },
     "execution_count": 93,
     "metadata": {},
     "output_type": "execute_result"
    }
   ],
   "source": [
    "# create stemmed version of countvectorizer\n",
    "import nltk\n",
    "#nltk.download()\n",
    "from nltk.stem.snowball import SnowballStemmer\n",
    "stemmer = SnowballStemmer(\"english\", ignore_stopwords=True)\n",
    "class StemmedCountVectorizer(CountVectorizer):\n",
    "    def build_analyzer(self):\n",
    "        analyzer = super(StemmedCountVectorizer, self).build_analyzer()\n",
    "        return lambda doc: ([stemmer.stem(w) for w in analyzer(doc)])\n",
    "stemmed_count_vect = StemmedCountVectorizer(stop_words='english')\n",
    "\n",
    "# run pipeline in training data\n",
    "pipeline = Pipeline([('vect', stemmed_count_vect), \n",
    "                     ('tfidf', TfidfTransformer()), \n",
    "                     ('mnb', MultinomialNB(fit_prior=False))])\n",
    "pipeline_fit = pipeline.fit(corpus.data, corpus.target)\n",
    "\n",
    "# predict\n",
    "predicted = pipeline_fit.predict(corpus_test.data)\n",
    "\n",
    "# evaluate\n",
    "np.mean(predicted == corpus_test.target)"
   ]
  },
  {
   "cell_type": "markdown",
   "metadata": {},
   "source": [
    "#### 4. Try other models"
   ]
  },
  {
   "cell_type": "code",
   "execution_count": 112,
   "metadata": {},
   "outputs": [
    {
     "data": {
      "text/plain": [
       "0.40560276155071695"
      ]
     },
     "execution_count": 112,
     "metadata": {},
     "output_type": "execute_result"
    }
   ],
   "source": [
    "from sklearn.neighbors import KNeighborsClassifier\n",
    "pipeline = Pipeline([('vect', CountVectorizer()), \n",
    "                     ('tfidf', TfidfTransformer()),\n",
    "                     ('clf-knn', KNeighborsClassifier(n_neighbors=500))])\n",
    "\n",
    "pipeline_fit = pipeline.fit(corpus.data, corpus.target)\n",
    "\n",
    "#predict\n",
    "predicted = pipeline_fit.predict(corpus_test.data)\n",
    "\n",
    "# evaluate\n",
    "np.mean(predicted == corpus_test.target)"
   ]
  },
  {
   "cell_type": "markdown",
   "metadata": {},
   "source": [
    "#### 5. More advanced models SVM"
   ]
  },
  {
   "cell_type": "code",
   "execution_count": 114,
   "metadata": {},
   "outputs": [
    {
     "data": {
      "text/plain": [
       "0.68361656930430159"
      ]
     },
     "execution_count": 114,
     "metadata": {},
     "output_type": "execute_result"
    }
   ],
   "source": [
    "# A linear support vector machine (SVM) is widely regarded as one of the best text classification algorithms \n",
    "from sklearn.linear_model import SGDClassifier\n",
    "pipeline = Pipeline([('vect', CountVectorizer()), \n",
    "                     ('tfidf', TfidfTransformer()),\n",
    "                     ('clf-svm', SGDClassifier(loss='hinge', penalty='l2',alpha=1e-3, n_iter=5, random_state=42))])\n",
    "\n",
    "pipeline_fit = pipeline.fit(corpus.data, corpus.target)\n",
    "\n",
    "#predict\n",
    "predicted = pipeline_fit.predict(corpus_test.data)\n",
    "\n",
    "# evaluate\n",
    "np.mean(predicted == corpus_test.target)"
   ]
  },
  {
   "cell_type": "markdown",
   "metadata": {},
   "source": [
    "#### 5. Grid Search "
   ]
  },
  {
   "cell_type": "code",
   "execution_count": 92,
   "metadata": {
    "collapsed": true
   },
   "outputs": [],
   "source": [
    "# Perform hyperparameter tunnings in case one uses algorithms with tunable parameters"
   ]
  },
  {
   "cell_type": "markdown",
   "metadata": {},
   "source": [
    "## More Evaluation Metrics"
   ]
  },
  {
   "cell_type": "code",
   "execution_count": 115,
   "metadata": {},
   "outputs": [
    {
     "data": {
      "text/plain": [
       "0.66652234784910114"
      ]
     },
     "execution_count": 115,
     "metadata": {},
     "output_type": "execute_result"
    }
   ],
   "source": [
    "from sklearn.metrics import cohen_kappa_score\n",
    "cohen_kappa_score(corpus_test.target, predicted)"
   ]
  },
  {
   "cell_type": "code",
   "execution_count": 96,
   "metadata": {},
   "outputs": [
    {
     "name": "stdout",
     "output_type": "stream",
     "text": [
      "                          precision    recall  f1-score   support\n",
      "\n",
      "             alt.atheism       0.56      0.42      0.48       319\n",
      "           comp.graphics       0.69      0.67      0.68       389\n",
      " comp.os.ms-windows.misc       0.67      0.60      0.63       394\n",
      "comp.sys.ibm.pc.hardware       0.65      0.65      0.65       392\n",
      "   comp.sys.mac.hardware       0.76      0.68      0.72       385\n",
      "          comp.windows.x       0.74      0.71      0.73       395\n",
      "            misc.forsale       0.48      0.85      0.61       390\n",
      "               rec.autos       0.79      0.70      0.74       396\n",
      "         rec.motorcycles       0.73      0.77      0.75       398\n",
      "      rec.sport.baseball       0.82      0.78      0.80       397\n",
      "        rec.sport.hockey       0.82      0.91      0.86       399\n",
      "               sci.crypt       0.71      0.74      0.73       396\n",
      "         sci.electronics       0.67      0.49      0.57       393\n",
      "                 sci.med       0.76      0.79      0.78       396\n",
      "               sci.space       0.70      0.76      0.73       394\n",
      "  soc.religion.christian       0.61      0.82      0.70       398\n",
      "      talk.politics.guns       0.56      0.70      0.62       364\n",
      "   talk.politics.mideast       0.74      0.82      0.78       376\n",
      "      talk.politics.misc       0.70      0.35      0.47       310\n",
      "      talk.religion.misc       0.52      0.12      0.20       251\n",
      "\n",
      "             avg / total       0.69      0.68      0.67      7532\n",
      "\n"
     ]
    }
   ],
   "source": [
    "from sklearn import metrics\n",
    "print(metrics.classification_report(\n",
    "    corpus_test.target,\n",
    "    predicted,\n",
    "    target_names=corpus_test.target_names))"
   ]
  },
  {
   "cell_type": "code",
   "execution_count": 98,
   "metadata": {},
   "outputs": [
    {
     "data": {
      "text/plain": [
       "array([[135,   0,   2,   2,   0,   2,  13,   4,   9,   5,   4,   4,   4,\n",
       "          8,  20,  73,   6,  20,   0,   8],\n",
       "       [  7, 262,  20,  12,   7,  22,  12,   1,   5,   3,   0,  14,   5,\n",
       "          2,  13,   1,   1,   2,   0,   0],\n",
       "       [  2,  15, 238,  34,  18,  23,  18,   1,   3,   4,   2,   4,   1,\n",
       "          8,  11,   1,   4,   1,   4,   2],\n",
       "       [  0,  14,  26, 256,  21,   9,  25,   2,   1,   1,   2,   9,  21,\n",
       "          1,   1,   0,   0,   2,   1,   0],\n",
       "       [  0,   6,   6,  35, 261,   7,  30,   6,   9,   0,   3,   5,   9,\n",
       "          2,   4,   1,   1,   0,   0,   0],\n",
       "       [  0,  37,  33,   4,   6, 282,  14,   0,   2,   1,   0,   6,   3,\n",
       "          1,   5,   0,   0,   1,   0,   0],\n",
       "       [  0,   3,   0,  12,   9,   0, 330,   7,   6,   2,   2,   1,   5,\n",
       "          0,   6,   1,   5,   1,   0,   0],\n",
       "       [  6,   1,   4,   1,   1,   3,  37, 276,  21,   3,   3,   2,  16,\n",
       "          2,   5,   0,   8,   5,   2,   0],\n",
       "       [  2,   0,   1,   1,   1,   0,  24,  16, 307,   4,   0,   1,   5,\n",
       "          7,   8,   4,   6,   5,   4,   2],\n",
       "       [  3,   1,   0,   0,   1,   1,  22,   2,   5, 311,  36,   1,   1,\n",
       "          2,   3,   4,   0,   0,   4,   0],\n",
       "       [  2,   2,   0,   1,   0,   0,   9,   0,   2,   7, 364,   1,   0,\n",
       "          2,   2,   1,   4,   0,   0,   2],\n",
       "       [  3,   5,   5,   3,   4,   6,  20,   1,   3,   6,   1, 294,   5,\n",
       "          4,   7,   2,  15,   6,   4,   2],\n",
       "       [  1,  11,   8,  22,   8,  11,  32,  11,  14,   7,   5,  37, 194,\n",
       "         14,  12,   2,   2,   2,   0,   0],\n",
       "       [  1,   7,   1,   0,   0,   2,  23,   3,   5,   1,   7,   2,   7,\n",
       "        312,   3,   7,   5,   5,   4,   1],\n",
       "       [  4,   7,   3,   1,   1,   2,  22,   5,   4,   3,   2,   2,   9,\n",
       "          9, 301,   3,   4,   7,   5,   0],\n",
       "       [ 14,   3,   2,   1,   0,   2,  15,   0,   1,   4,   2,   1,   2,\n",
       "          6,   6, 325,   2,   6,   2,   4],\n",
       "       [  3,   2,   4,   3,   2,   2,  16,   3,   7,   4,   1,  16,   0,\n",
       "          6,   6,  12, 253,   9,   9,   6],\n",
       "       [ 13,   2,   2,   0,   0,   2,   8,   1,   5,   6,   1,   3,   1,\n",
       "          2,   1,   7,  10, 308,   4,   0],\n",
       "       [ 11,   0,   0,   2,   1,   2,   7,   5,   6,   4,   7,   9,   1,\n",
       "          8,  13,   5,  98,  20, 109,   2],\n",
       "       [ 32,   4,   2,   1,   1,   1,  11,   6,   5,   1,   4,   2,   1,\n",
       "         13,   4,  85,  28,  15,   4,  31]])"
      ]
     },
     "execution_count": 98,
     "metadata": {},
     "output_type": "execute_result"
    }
   ],
   "source": [
    "metrics.confusion_matrix(corpus_test.target, predicted)"
   ]
  },
  {
   "cell_type": "code",
   "execution_count": null,
   "metadata": {
    "collapsed": true
   },
   "outputs": [],
   "source": []
  }
 ],
 "metadata": {
  "kernelspec": {
   "display_name": "Python 2",
   "language": "python",
   "name": "python2"
  },
  "language_info": {
   "codemirror_mode": {
    "name": "ipython",
    "version": 2
   },
   "file_extension": ".py",
   "mimetype": "text/x-python",
   "name": "python",
   "nbconvert_exporter": "python",
   "pygments_lexer": "ipython2",
   "version": "2.7.12"
  }
 },
 "nbformat": 4,
 "nbformat_minor": 2
}
