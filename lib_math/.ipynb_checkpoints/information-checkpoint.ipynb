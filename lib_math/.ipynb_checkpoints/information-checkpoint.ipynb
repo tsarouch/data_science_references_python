{
 "cells": [
  {
   "cell_type": "code",
   "execution_count": null,
   "metadata": {
    "collapsed": true
   },
   "outputs": [],
   "source": [
    "import math\n",
    "import pandas as pd"
   ]
  },
  {
   "cell_type": "code",
   "execution_count": null,
   "metadata": {
    "collapsed": true
   },
   "outputs": [],
   "source": [
    "def entropy(df, attribute):\n",
    "    \"\"\"\n",
    "    Calculates the entropy of a dataframe for the passed attribute.\n",
    "    :param df: DataFrame\n",
    "    :attribute: the attribute we want to calculate the entropy on\n",
    "    returns the entropy of the attribute\n",
    "    \"\"\"\n",
    "    entropy = 0.0\n",
    "    freq = {}\n",
    "    \n",
    "    for ii in range(len(df)):\n",
    "        row = df.iloc[[ii]]\n",
    "        attribute_val = row[attribute].values[0]\n",
    "        if (freq.has_key(attribute_val)):\n",
    "            freq[attribute_val] += 1.0\n",
    "        else:\n",
    "            freq[attribute_val]  = 1.0 \n",
    "    N = len(df)\n",
    "    for freqi in freq.values():\n",
    "        entropy += (-freqi/N) * math.log(freqi/N, 2) \n",
    " \n",
    "    return entropy"
   ]
  },
  {
   "cell_type": "code",
   "execution_count": null,
   "metadata": {
    "collapsed": true
   },
   "outputs": [],
   "source": []
  }
 ],
 "metadata": {
  "kernelspec": {
   "display_name": "Python 2",
   "language": "python",
   "name": "python2"
  },
  "language_info": {
   "codemirror_mode": {
    "name": "ipython",
    "version": 2
   },
   "file_extension": ".py",
   "mimetype": "text/x-python",
   "name": "python",
   "nbconvert_exporter": "python",
   "pygments_lexer": "ipython2",
   "version": "2.7.10"
  }
 },
 "nbformat": 4,
 "nbformat_minor": 0
}
