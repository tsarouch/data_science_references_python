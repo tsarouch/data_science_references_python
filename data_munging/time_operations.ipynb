{
 "cells": [
  {
   "cell_type": "code",
   "execution_count": 4,
   "metadata": {
    "collapsed": false
   },
   "outputs": [
    {
     "name": "stderr",
     "output_type": "stream",
     "text": [
      "/Users/charilaostsarouchas/anaconda/lib/python2.7/site-packages/pytz/__init__.py:29: UserWarning: Module argparse was already imported from /Users/charilaostsarouchas/anaconda/lib/python2.7/argparse.pyc, but /Users/charilaostsarouchas/anaconda/lib/python2.7/site-packages is being added to sys.path\n",
      "  from pkg_resources import resource_stream\n"
     ]
    }
   ],
   "source": [
    "import pandas as pd"
   ]
  },
  {
   "cell_type": "code",
   "execution_count": 16,
   "metadata": {
    "collapsed": false
   },
   "outputs": [
    {
     "name": "stdout",
     "output_type": "stream",
     "text": [
      "examples of dates in string format: \n",
      "['12:00-1:00 AM', '1:00-2:00AM', '2:00-3:00AM', '3:00-4:00AM', '4:00-5:00AM', '5:00-6:00AM', '6:00-7:00AM', '7:00-8:00AM', '8:00-9:00AM', '9:00-10:00AM', '10:00-11:00AM', '11:00-12:00PM', '12:00-1:00PM', '1:00-2:00PM', '2:00-3:00PM', '3:00-4:00PM', '4:00-5:00PM', '5:00-6:00PM', '6:00-7:00PM', '7:00-8:00PM', '8:00-9:00PM', '9:00-10:00PM', '10:00-11:00PM', '11:00-12:00AM']\n",
      "the dates are parsed to date time objects:\n",
      "12:00-1:00 AM => 2015-09-30T03:00:00.000000000+0200\n",
      "1:00-2:00AM => 2015-09-30T05:00:00.000000000+0200\n",
      "2:00-3:00AM => 2015-09-30T07:00:00.000000000+0200\n",
      "3:00-4:00AM => 2015-09-30T09:00:00.000000000+0200\n",
      "4:00-5:00AM => 2015-09-30T11:00:00.000000000+0200\n",
      "5:00-6:00AM => 2015-09-30T13:00:00.000000000+0200\n",
      "6:00-7:00AM => 2015-09-30T15:00:00.000000000+0200\n",
      "7:00-8:00AM => 2015-09-30T17:00:00.000000000+0200\n",
      "8:00-9:00AM => 2015-09-30T19:00:00.000000000+0200\n",
      "9:00-10:00AM => 2015-09-30T21:00:00.000000000+0200\n",
      "10:00-11:00AM => 2015-09-30T23:00:00.000000000+0200\n",
      "11:00-12:00PM => 2015-10-01T13:00:00.000000000+0200\n",
      "12:00-1:00PM => 2015-09-30T15:00:00.000000000+0200\n",
      "1:00-2:00PM => 2015-09-30T17:00:00.000000000+0200\n",
      "2:00-3:00PM => 2015-09-30T19:00:00.000000000+0200\n",
      "3:00-4:00PM => 2015-09-30T21:00:00.000000000+0200\n",
      "4:00-5:00PM => 2015-09-30T23:00:00.000000000+0200\n",
      "5:00-6:00PM => 2015-10-01T01:00:00.000000000+0200\n",
      "6:00-7:00PM => 2015-10-01T03:00:00.000000000+0200\n",
      "7:00-8:00PM => 2015-10-01T05:00:00.000000000+0200\n",
      "8:00-9:00PM => 2015-10-01T07:00:00.000000000+0200\n",
      "9:00-10:00PM => 2015-10-01T09:00:00.000000000+0200\n",
      "10:00-11:00PM => 2015-10-01T11:00:00.000000000+0200\n",
      "11:00-12:00AM => 2015-10-01T01:00:00.000000000+0200\n"
     ]
    }
   ],
   "source": [
    "# transform to date time \n",
    "print \"examples of dates in string format: \"\n",
    "date_strings = ['12:00-1:00 AM', '1:00-2:00AM', '2:00-3:00AM', '3:00-4:00AM', '4:00-5:00AM', '5:00-6:00AM', '6:00-7:00AM', '7:00-8:00AM', '8:00-9:00AM', '9:00-10:00AM', '10:00-11:00AM', '11:00-12:00PM', '12:00-1:00PM', '1:00-2:00PM', '2:00-3:00PM', '3:00-4:00PM', '4:00-5:00PM', '5:00-6:00PM', '6:00-7:00PM', '7:00-8:00PM', '8:00-9:00PM', '9:00-10:00PM', '10:00-11:00PM', '11:00-12:00AM']\n",
    "print date_strings\n",
    "\n",
    "# usually we are interested for the starting time and not the range\n",
    "date_strings = [x.split(\"-\")[0] + x[-2:] for x in date_strings]\n",
    "print \"formated date strings: \"\n",
    "print date_strings\n",
    "\n",
    "print \"the dates are parsed to date time objects:\"\n",
    "timestamps = pd.to_datetime(date_strings).values\n",
    "for ii, x in enumerate(date_strings):\n",
    "    print date_strings[ii], \"=>\",  timestamps[ii]\n"
   ]
  },
  {
   "cell_type": "code",
   "execution_count": 18,
   "metadata": {
    "collapsed": false
   },
   "outputs": [
    {
     "data": {
      "text/plain": [
       "array([2, 2, 2, 2, 2, 2, 2, 2, 2, 2, 2, 3, 2, 2, 2, 2, 2, 2, 3, 3, 3, 3, 3,\n",
       "       2], dtype=int32)"
      ]
     },
     "execution_count": 18,
     "metadata": {},
     "output_type": "execute_result"
    }
   ],
   "source": [
    "# And if we want to transform to the weekday\n",
    "pd.to_datetime(date_strings).dayofweek"
   ]
  },
  {
   "cell_type": "code",
   "execution_count": 20,
   "metadata": {
    "collapsed": false
   },
   "outputs": [
    {
     "data": {
      "text/plain": [
       "['Wednesday',\n",
       " 'Wednesday',\n",
       " 'Wednesday',\n",
       " 'Wednesday',\n",
       " 'Wednesday',\n",
       " 'Wednesday',\n",
       " 'Wednesday',\n",
       " 'Wednesday',\n",
       " 'Wednesday',\n",
       " 'Wednesday',\n",
       " 'Wednesday',\n",
       " 'Thursday',\n",
       " 'Wednesday',\n",
       " 'Wednesday',\n",
       " 'Wednesday',\n",
       " 'Wednesday',\n",
       " 'Wednesday',\n",
       " 'Wednesday',\n",
       " 'Thursday',\n",
       " 'Thursday',\n",
       " 'Thursday',\n",
       " 'Thursday',\n",
       " 'Thursday',\n",
       " 'Wednesday']"
      ]
     },
     "execution_count": 20,
     "metadata": {},
     "output_type": "execute_result"
    }
   ],
   "source": [
    "#Date of week mapping\n",
    "DAY_OF_WEEK = {                                                                \n",
    "    0: 'Monday',                                                               \n",
    "    1: 'Tuesday',                                                              \n",
    "    2: 'Wednesday',                                                            \n",
    "    3: 'Thursday',                                                             \n",
    "    4: 'Friday',                                                               \n",
    "    5: 'Saturday',                                                             \n",
    "    6: 'Sunday'                                                                \n",
    "}  \n",
    "# And if we want to transform it to week days\n",
    "[DAY_OF_WEEK[x] for x in pd.to_datetime(date_strings).dayofweek]"
   ]
  },
  {
   "cell_type": "code",
   "execution_count": null,
   "metadata": {
    "collapsed": true
   },
   "outputs": [],
   "source": []
  }
 ],
 "metadata": {
  "kernelspec": {
   "display_name": "Python 2",
   "language": "python",
   "name": "python2"
  },
  "language_info": {
   "codemirror_mode": {
    "name": "ipython",
    "version": 2
   },
   "file_extension": ".py",
   "mimetype": "text/x-python",
   "name": "python",
   "nbconvert_exporter": "python",
   "pygments_lexer": "ipython2",
   "version": "2.7.10"
  }
 },
 "nbformat": 4,
 "nbformat_minor": 0
}
