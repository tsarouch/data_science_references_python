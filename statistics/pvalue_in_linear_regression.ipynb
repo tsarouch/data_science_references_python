{
 "cells": [
  {
   "cell_type": "code",
   "execution_count": 1,
   "metadata": {
    "collapsed": false
   },
   "outputs": [
    {
     "name": "stderr",
     "output_type": "stream",
     "text": [
      "/Users/charilaostsarouchas/anaconda/lib/python2.7/site-packages/pytz/__init__.py:29: UserWarning: Module argparse was already imported from /Users/charilaostsarouchas/anaconda/lib/python2.7/argparse.pyc, but /Users/charilaostsarouchas/anaconda/lib/python2.7/site-packages is being added to sys.path\n",
      "  from pkg_resources import resource_stream\n"
     ]
    }
   ],
   "source": [
    "# necessary imports\n",
    "from matplotlib import pyplot as plt\n",
    "import pandas as pd\n",
    "import numpy as np\n",
    "%load_ext autoreload\n",
    "%autoreload 2\n",
    "import sys\n",
    "sys.path.append(\"../lib_plot\")\n",
    "import scatter_boxplot as sbp\n",
    "%matplotlib inline\n",
    "import seaborn as sns\n",
    "from scipy.stats.stats import pearsonr\n",
    "from scipy import stats"
   ]
  },
  {
   "cell_type": "code",
   "execution_count": 2,
   "metadata": {
    "collapsed": false
   },
   "outputs": [
    {
     "data": {
      "text/html": [
       "<div style=\"max-height:1000px;max-width:1500px;overflow:auto;\">\n",
       "<table border=\"1\" class=\"dataframe\">\n",
       "  <thead>\n",
       "    <tr style=\"text-align: right;\">\n",
       "      <th></th>\n",
       "      <th>TV</th>\n",
       "      <th>Radio</th>\n",
       "      <th>Newspaper</th>\n",
       "      <th>Sales</th>\n",
       "    </tr>\n",
       "  </thead>\n",
       "  <tbody>\n",
       "    <tr>\n",
       "      <th>1</th>\n",
       "      <td> 230.1</td>\n",
       "      <td> 37.8</td>\n",
       "      <td> 69.2</td>\n",
       "      <td> 22.1</td>\n",
       "    </tr>\n",
       "    <tr>\n",
       "      <th>2</th>\n",
       "      <td>  44.5</td>\n",
       "      <td> 39.3</td>\n",
       "      <td> 45.1</td>\n",
       "      <td> 10.4</td>\n",
       "    </tr>\n",
       "    <tr>\n",
       "      <th>3</th>\n",
       "      <td>  17.2</td>\n",
       "      <td> 45.9</td>\n",
       "      <td> 69.3</td>\n",
       "      <td>  9.3</td>\n",
       "    </tr>\n",
       "    <tr>\n",
       "      <th>4</th>\n",
       "      <td> 151.5</td>\n",
       "      <td> 41.3</td>\n",
       "      <td> 58.5</td>\n",
       "      <td> 18.5</td>\n",
       "    </tr>\n",
       "    <tr>\n",
       "      <th>5</th>\n",
       "      <td> 180.8</td>\n",
       "      <td> 10.8</td>\n",
       "      <td> 58.4</td>\n",
       "      <td> 12.9</td>\n",
       "    </tr>\n",
       "  </tbody>\n",
       "</table>\n",
       "</div>"
      ],
      "text/plain": [
       "      TV  Radio  Newspaper  Sales\n",
       "1  230.1   37.8       69.2   22.1\n",
       "2   44.5   39.3       45.1   10.4\n",
       "3   17.2   45.9       69.3    9.3\n",
       "4  151.5   41.3       58.5   18.5\n",
       "5  180.8   10.8       58.4   12.9"
      ]
     },
     "execution_count": 2,
     "metadata": {},
     "output_type": "execute_result"
    }
   ],
   "source": [
    "# — the dataset is provided by James et al., Introduction to Statistical Learning.\n",
    "# here: http://www-bcf.usc.edu/~gareth/ISL/Advertising.csv\n",
    "df = pd.read_csv('http://www-bcf.usc.edu/~gareth/ISL/Advertising.csv', index_col=0)\n",
    "df.head()"
   ]
  },
  {
   "cell_type": "code",
   "execution_count": 5,
   "metadata": {
    "collapsed": false
   },
   "outputs": [
    {
     "name": "stdout",
     "output_type": "stream",
     "text": [
      "Sales ~ TV (0.78222442486160637, 1.4673897001947305e-42)\n",
      "Sales ~ Radio (0.57622257457105519, 4.3549660017668541e-19)\n",
      "Sales ~ Newspaper (0.22829902637616534, 0.001148195868888206)\n"
     ]
    }
   ],
   "source": [
    "# Lets now get some numbers of these correlations\n",
    "# we do it individually for each feature\n",
    "# The correct way to study correlation of features and target variable is multiple regression in this case,\n",
    "# but is not the point of this task here\n",
    "print \"Sales ~ TV\", pearsonr(df['Sales'], df['TV'])\n",
    "print \"Sales ~ Radio\", pearsonr(df['Sales'], df['Radio'])\n",
    "print \"Sales ~ Newspaper\", pearsonr(df['Sales'], df['Newspaper'])\n"
   ]
  },
  {
   "cell_type": "code",
   "execution_count": null,
   "metadata": {
    "collapsed": true
   },
   "outputs": [],
   "source": [
    "# So the point of this task, is to CLARIFY what is important ,  the Pearson c.c. OR the p-value\n",
    "\n",
    "# Inspired from :\n",
    "# Risk Assessment and Decision Analysis with Bayesian  Networks”, by Norman Fenton and Martin Neil, CRC Press, 2012\n",
    "\n",
    "# The correlation coefficient is a number between –1 and 1 that \n",
    "# Determines whether two paired sets of data are related. \n",
    "# Closer to 1 the more ‘confident’ we are of a positive linear correlation and \n",
    "# Closer to –1 the more confident we are of a negative linear correlation  \n",
    "# When the correlation coefficient is close to zero there is no evidence of any  relationship\n",
    "\n",
    "# Confidence in a relationship is formally determined NOT JUST by the correlation coefficient \n",
    "# but ALSO by the NUMBER of SAMPLES (pairs) in your data. \n",
    "# If very few pairs then the p.c.c. needs to be very close to 1 or –1 for it to be deemed ‘statistically significant’, \n",
    "# If there are many pairs then a coefficient closer to 0 can still be considered ‘highly significant’.  \n",
    "\n",
    "# The standard method that statisticians use to measure the ‘significance’ of their empirical analyses is the p-value\n",
    "# The p-value is a number E [0,1] is a prob. that data would have arisen if the null hypothesis (no cor.) were true\n",
    "\n",
    "# A low p-value typically <0.05 (such as 0.01) is taken as evidence that the null hypothesis can be ‘rejected’. \n",
    "\n",
    "# ===> So in this example, we could say that looking at the p-values, all the features are contributing the sales.\n",
    "\n",
    "# !!! Attention, in this specific example, Newspaper in reallity is not correlated even if in this test the p-value looks \n",
    "# small. This has to do with issues like colinearity, but this is topic for another blog."
   ]
  }
 ],
 "metadata": {
  "kernelspec": {
   "display_name": "Python 2",
   "language": "python",
   "name": "python2"
  },
  "language_info": {
   "codemirror_mode": {
    "name": "ipython",
    "version": 2
   },
   "file_extension": ".py",
   "mimetype": "text/x-python",
   "name": "python",
   "nbconvert_exporter": "python",
   "pygments_lexer": "ipython2",
   "version": "2.7.10"
  }
 },
 "nbformat": 4,
 "nbformat_minor": 0
}
