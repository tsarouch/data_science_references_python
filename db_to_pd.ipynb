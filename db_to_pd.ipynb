{
 "cells": [
  {
   "cell_type": "markdown",
   "metadata": {},
   "source": [
    "# Necessary imports"
   ]
  },
  {
   "cell_type": "code",
   "execution_count": null,
   "metadata": {
    "collapsed": true
   },
   "outputs": [],
   "source": [
    "from logging import info, error\n",
    "import traceback\n",
    "import subprocess\n",
    "import sys\n",
    "from sqlalchemy import create_engine, text\n",
    "import pandas as pd"
   ]
  },
  {
   "cell_type": "markdown",
   "metadata": {},
   "source": [
    "# Constants to be used"
   ]
  },
  {
   "cell_type": "code",
   "execution_count": null,
   "metadata": {
    "collapsed": true
   },
   "outputs": [],
   "source": [
    "DIALECT = \"postgresql\"\n",
    "USER = \"x\"\n",
    "PWD = \"x\"\n",
    "HOST = \"x\"\n",
    "DB = \"x\"  # Specify the DB name\n",
    "SCHEMA = \"x\" \n",
    "DB_TABLE = \"the_table_name\""
   ]
  },
  {
   "cell_type": "markdown",
   "metadata": {},
   "source": [
    "# Setup Connection"
   ]
  },
  {
   "cell_type": "code",
   "execution_count": null,
   "metadata": {
    "collapsed": true
   },
   "outputs": [],
   "source": [
    "def setup_db(dialect, user, password, host, db, create=False):\n",
    "    \"\"\"\n",
    "    Setup database connection\n",
    "    \"\"\"\n",
    "\n",
    "    info_str = \"{}@{}/{}\".format(user, host, db)\n",
    "    connection_str = \"{}://{}:{}@{}/{}\".format(dialect, user, password, host, db)\n",
    "    if create:\n",
    "        subprocess.call(\n",
    "            [\"export PGPASSWORD={};\"\n",
    "             \"createdb -h {} -U {} {}\".format(password, host, user, db)], shell=True)\n",
    "        info(\"DB created: {}.\".format(info_str))\n",
    "    engine = create_engine(connection_str)\n",
    "    info(\"The DB is connected: {}.\".format(info_str))\n",
    "    return engine\n",
    "engine = setup_db(DIALECT, USER, PWD, HOST, DB)"
   ]
  },
  {
   "cell_type": "markdown",
   "metadata": {},
   "source": [
    "# DB Call"
   ]
  },
  {
   "cell_type": "code",
   "execution_count": null,
   "metadata": {
    "collapsed": true
   },
   "outputs": [],
   "source": [
    "df = pd.read_sql_table(TABLE, engine, schema=SCHEMA)"
   ]
  }
 ],
 "metadata": {
  "kernelspec": {
   "display_name": "Python 2",
   "language": "python",
   "name": "python2"
  },
  "language_info": {
   "codemirror_mode": {
    "name": "ipython",
    "version": 2
   },
   "file_extension": ".py",
   "mimetype": "text/x-python",
   "name": "python",
   "nbconvert_exporter": "python",
   "pygments_lexer": "ipython2",
   "version": "2.7.9"
  }
 },
 "nbformat": 4,
 "nbformat_minor": 0
}
