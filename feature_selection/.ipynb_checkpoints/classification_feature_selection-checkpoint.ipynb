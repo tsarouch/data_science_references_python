{
 "cells": [
  {
   "cell_type": "code",
   "execution_count": null,
   "metadata": {
    "collapsed": true
   },
   "outputs": [],
   "source": [
    "\"\"\"\n",
    "Work inspired / copied from here:\n",
    "http://www.quora.com/What-is-the-future-of-data-science-1\n",
    "\"\"\""
   ]
  },
  {
   "cell_type": "code",
   "execution_count": 7,
   "metadata": {
    "collapsed": false
   },
   "outputs": [
    {
     "data": {
      "text/plain": [
       "'\\nDataset found here:\\nhttp://forge.scilab.org/index.php/p/rdataset/source/tree/master/datasets.csv\\nmany other interesting datasets here too!!!\\n'"
      ]
     },
     "execution_count": 7,
     "metadata": {},
     "output_type": "execute_result"
    }
   ],
   "source": [
    "\"\"\"\n",
    "Dataset found here:\n",
    "http://forge.scilab.org/index.php/p/rdataset/source/tree/master/datasets.csv\n",
    "many other interesting datasets here too!!!\n",
    "\"\"\""
   ]
  },
  {
   "cell_type": "code",
   "execution_count": 14,
   "metadata": {
    "collapsed": false
   },
   "outputs": [],
   "source": [
    "import pandas as pd\n",
    "import seaborn as sns\n",
    "\n",
    "%matplotlib inline\n",
    "import matplotlib.pyplot as plt\n",
    "\n"
   ]
  },
  {
   "cell_type": "code",
   "execution_count": 6,
   "metadata": {
    "collapsed": false
   },
   "outputs": [
    {
     "data": {
      "text/html": [
       "<div style=\"max-height:1000px;max-width:1500px;overflow:auto;\">\n",
       "<table border=\"1\" class=\"dataframe\">\n",
       "  <thead>\n",
       "    <tr style=\"text-align: right;\">\n",
       "      <th></th>\n",
       "      <th>Unnamed: 0</th>\n",
       "      <th>sex</th>\n",
       "      <th>age</th>\n",
       "      <th>ym</th>\n",
       "      <th>child</th>\n",
       "      <th>religious</th>\n",
       "      <th>education</th>\n",
       "      <th>occupation</th>\n",
       "      <th>rate</th>\n",
       "      <th>nbaffairs</th>\n",
       "    </tr>\n",
       "  </thead>\n",
       "  <tbody>\n",
       "    <tr>\n",
       "      <th>0</th>\n",
       "      <td> 1</td>\n",
       "      <td>   male</td>\n",
       "      <td> 37</td>\n",
       "      <td> 10.00</td>\n",
       "      <td>  no</td>\n",
       "      <td> 3</td>\n",
       "      <td> 18</td>\n",
       "      <td> 7</td>\n",
       "      <td> 4</td>\n",
       "      <td> 0</td>\n",
       "    </tr>\n",
       "    <tr>\n",
       "      <th>1</th>\n",
       "      <td> 2</td>\n",
       "      <td> female</td>\n",
       "      <td> 27</td>\n",
       "      <td>  4.00</td>\n",
       "      <td>  no</td>\n",
       "      <td> 4</td>\n",
       "      <td> 14</td>\n",
       "      <td> 6</td>\n",
       "      <td> 4</td>\n",
       "      <td> 0</td>\n",
       "    </tr>\n",
       "    <tr>\n",
       "      <th>2</th>\n",
       "      <td> 3</td>\n",
       "      <td> female</td>\n",
       "      <td> 32</td>\n",
       "      <td> 15.00</td>\n",
       "      <td> yes</td>\n",
       "      <td> 1</td>\n",
       "      <td> 12</td>\n",
       "      <td> 1</td>\n",
       "      <td> 4</td>\n",
       "      <td> 0</td>\n",
       "    </tr>\n",
       "    <tr>\n",
       "      <th>3</th>\n",
       "      <td> 4</td>\n",
       "      <td>   male</td>\n",
       "      <td> 57</td>\n",
       "      <td> 15.00</td>\n",
       "      <td> yes</td>\n",
       "      <td> 5</td>\n",
       "      <td> 18</td>\n",
       "      <td> 6</td>\n",
       "      <td> 5</td>\n",
       "      <td> 0</td>\n",
       "    </tr>\n",
       "    <tr>\n",
       "      <th>4</th>\n",
       "      <td> 5</td>\n",
       "      <td>   male</td>\n",
       "      <td> 22</td>\n",
       "      <td>  0.75</td>\n",
       "      <td>  no</td>\n",
       "      <td> 2</td>\n",
       "      <td> 17</td>\n",
       "      <td> 6</td>\n",
       "      <td> 3</td>\n",
       "      <td> 0</td>\n",
       "    </tr>\n",
       "  </tbody>\n",
       "</table>\n",
       "</div>"
      ],
      "text/plain": [
       "   Unnamed: 0     sex  age     ym child  religious  education  occupation  \\\n",
       "0           1    male   37  10.00    no          3         18           7   \n",
       "1           2  female   27   4.00    no          4         14           6   \n",
       "2           3  female   32  15.00   yes          1         12           1   \n",
       "3           4    male   57  15.00   yes          5         18           6   \n",
       "4           5    male   22   0.75    no          2         17           6   \n",
       "\n",
       "   rate  nbaffairs  \n",
       "0     4          0  \n",
       "1     4          0  \n",
       "2     4          0  \n",
       "3     5          0  \n",
       "4     3          0  "
      ]
     },
     "execution_count": 6,
     "metadata": {},
     "output_type": "execute_result"
    }
   ],
   "source": [
    "affairs = \"https://raw.github.com/vincentarelbundock/Rdatasets/master/csv/Ecdat/Fair.csv\"\n",
    "df = pd.read_csv(affairs)   \n",
    "df = df.drop(df.columns[0], axis=1)\n",
    "df.head()"
   ]
  },
  {
   "cell_type": "code",
   "execution_count": 13,
   "metadata": {
    "collapsed": false
   },
   "outputs": [
    {
     "data": {
      "text/html": [
       "<div style=\"max-height:1000px;max-width:1500px;overflow:auto;\">\n",
       "<table border=\"1\" class=\"dataframe\">\n",
       "  <thead>\n",
       "    <tr style=\"text-align: right;\">\n",
       "      <th></th>\n",
       "      <th>sex</th>\n",
       "      <th>age</th>\n",
       "      <th>ym</th>\n",
       "      <th>child</th>\n",
       "      <th>religious</th>\n",
       "      <th>education</th>\n",
       "      <th>occupation</th>\n",
       "      <th>rate</th>\n",
       "      <th>nbaffairs</th>\n",
       "    </tr>\n",
       "  </thead>\n",
       "  <tbody>\n",
       "    <tr>\n",
       "      <th>0</th>\n",
       "      <td>   male</td>\n",
       "      <td> 37</td>\n",
       "      <td> 10.00</td>\n",
       "      <td>  no</td>\n",
       "      <td> 3</td>\n",
       "      <td> 18</td>\n",
       "      <td> 7</td>\n",
       "      <td> 4</td>\n",
       "      <td> 0</td>\n",
       "    </tr>\n",
       "    <tr>\n",
       "      <th>1</th>\n",
       "      <td> female</td>\n",
       "      <td> 27</td>\n",
       "      <td>  4.00</td>\n",
       "      <td>  no</td>\n",
       "      <td> 4</td>\n",
       "      <td> 14</td>\n",
       "      <td> 6</td>\n",
       "      <td> 4</td>\n",
       "      <td> 0</td>\n",
       "    </tr>\n",
       "    <tr>\n",
       "      <th>2</th>\n",
       "      <td> female</td>\n",
       "      <td> 32</td>\n",
       "      <td> 15.00</td>\n",
       "      <td> yes</td>\n",
       "      <td> 1</td>\n",
       "      <td> 12</td>\n",
       "      <td> 1</td>\n",
       "      <td> 4</td>\n",
       "      <td> 0</td>\n",
       "    </tr>\n",
       "    <tr>\n",
       "      <th>3</th>\n",
       "      <td>   male</td>\n",
       "      <td> 57</td>\n",
       "      <td> 15.00</td>\n",
       "      <td> yes</td>\n",
       "      <td> 5</td>\n",
       "      <td> 18</td>\n",
       "      <td> 6</td>\n",
       "      <td> 5</td>\n",
       "      <td> 0</td>\n",
       "    </tr>\n",
       "    <tr>\n",
       "      <th>4</th>\n",
       "      <td>   male</td>\n",
       "      <td> 22</td>\n",
       "      <td>  0.75</td>\n",
       "      <td>  no</td>\n",
       "      <td> 2</td>\n",
       "      <td> 17</td>\n",
       "      <td> 6</td>\n",
       "      <td> 3</td>\n",
       "      <td> 0</td>\n",
       "    </tr>\n",
       "  </tbody>\n",
       "</table>\n",
       "</div>"
      ],
      "text/plain": [
       "      sex  age     ym child  religious  education  occupation  rate  nbaffairs\n",
       "0    male   37  10.00    no          3         18           7     4          0\n",
       "1  female   27   4.00    no          4         14           6     4          0\n",
       "2  female   32  15.00   yes          1         12           1     4          0\n",
       "3    male   57  15.00   yes          5         18           6     5          0\n",
       "4    male   22   0.75    no          2         17           6     3          0"
      ]
     },
     "execution_count": 13,
     "metadata": {},
     "output_type": "execute_result"
    }
   ],
   "source": [
    "df.head()"
   ]
  },
  {
   "cell_type": "code",
   "execution_count": 15,
   "metadata": {
    "collapsed": false
   },
   "outputs": [
    {
     "data": {
      "image/png": "[encoded data removed]",
      "text/plain": [
       "<matplotlib.figure.Figure at 0x10e89d710>"
      ]
     },
     "metadata": {},
     "output_type": "display_data"
    }
   ],
   "source": [
    "sns.jointplot(x=\"nbaffairs\", y=\"age\", data=df[df.sex==\"male\"], kind=\"reg\", size=4);"
   ]
  },
  {
   "cell_type": "code",
   "execution_count": 16,
   "metadata": {
    "collapsed": false
   },
   "outputs": [
    {
     "data": {
      "image/png": "[encoded data removed]",
      "text/plain": [
       "<matplotlib.figure.Figure at 0x10eb72790>"
      ]
     },
     "metadata": {},
     "output_type": "display_data"
    }
   ],
   "source": [
    "sns.jointplot(x=\"nbaffairs\", y=\"age\", data=df[df.sex==\"female\"], kind=\"reg\", size=4);"
   ]
  },
  {
   "cell_type": "code",
   "execution_count": null,
   "metadata": {
    "collapsed": true
   },
   "outputs": [],
   "source": [
    "# For the shake of the classification pbm we create the target affair , boolean true if even 1 affair"
   ]
  },
  {
   "cell_type": "code",
   "execution_count": 20,
   "metadata": {
    "collapsed": false
   },
   "outputs": [],
   "source": [
    "df[\"affair\"] = df.nbaffairs>0"
   ]
  },
  {
   "cell_type": "code",
   "execution_count": 21,
   "metadata": {
    "collapsed": false
   },
   "outputs": [
    {
     "data": {
      "text/html": [
       "<div style=\"max-height:1000px;max-width:1500px;overflow:auto;\">\n",
       "<table border=\"1\" class=\"dataframe\">\n",
       "  <thead>\n",
       "    <tr style=\"text-align: right;\">\n",
       "      <th></th>\n",
       "      <th>sex</th>\n",
       "      <th>age</th>\n",
       "      <th>ym</th>\n",
       "      <th>child</th>\n",
       "      <th>religious</th>\n",
       "      <th>education</th>\n",
       "      <th>occupation</th>\n",
       "      <th>rate</th>\n",
       "      <th>nbaffairs</th>\n",
       "      <th>affair</th>\n",
       "    </tr>\n",
       "  </thead>\n",
       "  <tbody>\n",
       "    <tr>\n",
       "      <th>0</th>\n",
       "      <td>   male</td>\n",
       "      <td> 37</td>\n",
       "      <td> 10.00</td>\n",
       "      <td>  no</td>\n",
       "      <td> 3</td>\n",
       "      <td> 18</td>\n",
       "      <td> 7</td>\n",
       "      <td> 4</td>\n",
       "      <td> 0</td>\n",
       "      <td> False</td>\n",
       "    </tr>\n",
       "    <tr>\n",
       "      <th>1</th>\n",
       "      <td> female</td>\n",
       "      <td> 27</td>\n",
       "      <td>  4.00</td>\n",
       "      <td>  no</td>\n",
       "      <td> 4</td>\n",
       "      <td> 14</td>\n",
       "      <td> 6</td>\n",
       "      <td> 4</td>\n",
       "      <td> 0</td>\n",
       "      <td> False</td>\n",
       "    </tr>\n",
       "    <tr>\n",
       "      <th>2</th>\n",
       "      <td> female</td>\n",
       "      <td> 32</td>\n",
       "      <td> 15.00</td>\n",
       "      <td> yes</td>\n",
       "      <td> 1</td>\n",
       "      <td> 12</td>\n",
       "      <td> 1</td>\n",
       "      <td> 4</td>\n",
       "      <td> 0</td>\n",
       "      <td> False</td>\n",
       "    </tr>\n",
       "    <tr>\n",
       "      <th>3</th>\n",
       "      <td>   male</td>\n",
       "      <td> 57</td>\n",
       "      <td> 15.00</td>\n",
       "      <td> yes</td>\n",
       "      <td> 5</td>\n",
       "      <td> 18</td>\n",
       "      <td> 6</td>\n",
       "      <td> 5</td>\n",
       "      <td> 0</td>\n",
       "      <td> False</td>\n",
       "    </tr>\n",
       "    <tr>\n",
       "      <th>4</th>\n",
       "      <td>   male</td>\n",
       "      <td> 22</td>\n",
       "      <td>  0.75</td>\n",
       "      <td>  no</td>\n",
       "      <td> 2</td>\n",
       "      <td> 17</td>\n",
       "      <td> 6</td>\n",
       "      <td> 3</td>\n",
       "      <td> 0</td>\n",
       "      <td> False</td>\n",
       "    </tr>\n",
       "  </tbody>\n",
       "</table>\n",
       "</div>"
      ],
      "text/plain": [
       "      sex  age     ym child  religious  education  occupation  rate  \\\n",
       "0    male   37  10.00    no          3         18           7     4   \n",
       "1  female   27   4.00    no          4         14           6     4   \n",
       "2  female   32  15.00   yes          1         12           1     4   \n",
       "3    male   57  15.00   yes          5         18           6     5   \n",
       "4    male   22   0.75    no          2         17           6     3   \n",
       "\n",
       "   nbaffairs affair  \n",
       "0          0  False  \n",
       "1          0  False  \n",
       "2          0  False  \n",
       "3          0  False  \n",
       "4          0  False  "
      ]
     },
     "execution_count": 21,
     "metadata": {},
     "output_type": "execute_result"
    }
   ],
   "source": [
    "# And now we want to rank the variables using as target the affair"
   ]
  },
  {
   "cell_type": "code",
   "execution_count": null,
   "metadata": {
    "collapsed": true
   },
   "outputs": [],
   "source": [
    "def entropy(data, target_attr):\n",
    "    \"\"\"\n",
    "    Calculates the entropy of the given data set for the target attribute.\n",
    "    \"\"\"\n",
    "    val_freq     = {}\n",
    "    data_entropy = 0.0\n",
    "\n",
    "    # Calculate the frequency of each of the values in the target attr\n",
    "    for record in data:\n",
    "        if (val_freq.has_key(record[target_attr])):\n",
    "            val_freq[record[target_attr]] += 1.0\n",
    "        else:\n",
    "            val_freq[record[target_attr]]  = 1.0\n",
    "\n",
    "    # Calculate the entropy of the data for the target attribute\n",
    "    for freq in val_freq.values():\n",
    "        data_entropy += (-freq/len(data)) * math.log(freq/len(data), 2) \n",
    "        \n",
    "    return data_entropy"
   ]
  },
  {
   "cell_type": "code",
   "execution_count": null,
   "metadata": {
    "collapsed": true
   },
   "outputs": [],
   "source": [
    "def gain(data, attr, target_attr):\n",
    "    \"\"\"\n",
    "    Calculates the information gain (reduction in entropy) that would\n",
    "    result by splitting the data on the chosen attribute (attr).\n",
    "    \"\"\"\n",
    "    val_freq       = {}\n",
    "    subset_entropy = 0.0\n",
    "\n",
    "    # Calculate the frequency of each of the values in the target attribute\n",
    "    for record in data:\n",
    "        if (val_freq.has_key(record[attr])):\n",
    "            val_freq[record[attr]] += 1.0\n",
    "        else:\n",
    "            val_freq[record[attr]]  = 1.0\n",
    "\n",
    "    # Calculate the sum of the entropy for each subset of records weighted\n",
    "    # by their probability of occuring in the training set.\n",
    "    for val in val_freq.keys():\n",
    "        val_prob        = val_freq[val] / sum(val_freq.values())\n",
    "        data_subset     = [record for record in data if record[attr] == val]\n",
    "        subset_entropy += val_prob * entropy(data_subset, target_attr)\n",
    "\n",
    "    # Subtract the entropy of the chosen attribute from the entropy of the\n",
    "    # whole data set with respect to the target attribute (and return it)\n",
    "    return (entropy(data, target_attr) - subset_entropy)"
   ]
  }
 ],
 "metadata": {
  "kernelspec": {
   "display_name": "Python 2",
   "language": "python",
   "name": "python2"
  },
  "language_info": {
   "codemirror_mode": {
    "name": "ipython",
    "version": 2
   },
   "file_extension": ".py",
   "mimetype": "text/x-python",
   "name": "python",
   "nbconvert_exporter": "python",
   "pygments_lexer": "ipython2",
   "version": "2.7.10"
  }
 },
 "nbformat": 4,
 "nbformat_minor": 0
}
