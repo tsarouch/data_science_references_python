{
 "cells": [
  {
   "cell_type": "code",
   "execution_count": 1,
   "metadata": {
    "collapsed": false
   },
   "outputs": [
    {
     "data": {
      "text/plain": [
       "'\\nWork inspired / copied from here:\\nhttp://www.quora.com/What-is-the-future-of-data-science-1\\n'"
      ]
     },
     "execution_count": 1,
     "metadata": {},
     "output_type": "execute_result"
    }
   ],
   "source": [
    "\"\"\"\n",
    "Work inspired / copied from here:\n",
    "http://www.quora.com/What-is-the-future-of-data-science-1\n",
    "\"\"\""
   ]
  },
  {
   "cell_type": "code",
   "execution_count": 2,
   "metadata": {
    "collapsed": false
   },
   "outputs": [
    {
     "data": {
      "text/plain": [
       "'\\nDataset found here:\\nhttp://forge.scilab.org/index.php/p/rdataset/source/tree/master/datasets.csv\\nmany other interesting datasets here too!!!\\n'"
      ]
     },
     "execution_count": 2,
     "metadata": {},
     "output_type": "execute_result"
    }
   ],
   "source": [
    "\"\"\"\n",
    "Dataset found here:\n",
    "http://forge.scilab.org/index.php/p/rdataset/source/tree/master/datasets.csv\n",
    "many other interesting datasets here too!!!\n",
    "\"\"\""
   ]
  },
  {
   "cell_type": "code",
   "execution_count": 3,
   "metadata": {
    "collapsed": false
   },
   "outputs": [
    {
     "name": "stderr",
     "output_type": "stream",
     "text": [
      "/Users/charilaostsarouchas/anaconda/lib/python2.7/site-packages/pytz/__init__.py:29: UserWarning: Module argparse was already imported from /Users/charilaostsarouchas/anaconda/lib/python2.7/argparse.pyc, but /Users/charilaostsarouchas/anaconda/lib/python2.7/site-packages is being added to sys.path\n",
      "  from pkg_resources import resource_stream\n"
     ]
    }
   ],
   "source": [
    "import pandas as pd\n",
    "import seaborn as sns\n",
    "\n",
    "%matplotlib inline\n",
    "import matplotlib.pyplot as plt\n",
    "\n",
    "import ipdb"
   ]
  },
  {
   "cell_type": "code",
   "execution_count": 4,
   "metadata": {
    "collapsed": false
   },
   "outputs": [
    {
     "data": {
      "text/html": [
       "<div style=\"max-height:1000px;max-width:1500px;overflow:auto;\">\n",
       "<table border=\"1\" class=\"dataframe\">\n",
       "  <thead>\n",
       "    <tr style=\"text-align: right;\">\n",
       "      <th></th>\n",
       "      <th>sex</th>\n",
       "      <th>age</th>\n",
       "      <th>ym</th>\n",
       "      <th>child</th>\n",
       "      <th>religious</th>\n",
       "      <th>education</th>\n",
       "      <th>occupation</th>\n",
       "      <th>rate</th>\n",
       "      <th>nbaffairs</th>\n",
       "    </tr>\n",
       "  </thead>\n",
       "  <tbody>\n",
       "    <tr>\n",
       "      <th>0</th>\n",
       "      <td>   male</td>\n",
       "      <td> 37</td>\n",
       "      <td> 10.00</td>\n",
       "      <td>  no</td>\n",
       "      <td> 3</td>\n",
       "      <td> 18</td>\n",
       "      <td> 7</td>\n",
       "      <td> 4</td>\n",
       "      <td> 0</td>\n",
       "    </tr>\n",
       "    <tr>\n",
       "      <th>1</th>\n",
       "      <td> female</td>\n",
       "      <td> 27</td>\n",
       "      <td>  4.00</td>\n",
       "      <td>  no</td>\n",
       "      <td> 4</td>\n",
       "      <td> 14</td>\n",
       "      <td> 6</td>\n",
       "      <td> 4</td>\n",
       "      <td> 0</td>\n",
       "    </tr>\n",
       "    <tr>\n",
       "      <th>2</th>\n",
       "      <td> female</td>\n",
       "      <td> 32</td>\n",
       "      <td> 15.00</td>\n",
       "      <td> yes</td>\n",
       "      <td> 1</td>\n",
       "      <td> 12</td>\n",
       "      <td> 1</td>\n",
       "      <td> 4</td>\n",
       "      <td> 0</td>\n",
       "    </tr>\n",
       "    <tr>\n",
       "      <th>3</th>\n",
       "      <td>   male</td>\n",
       "      <td> 57</td>\n",
       "      <td> 15.00</td>\n",
       "      <td> yes</td>\n",
       "      <td> 5</td>\n",
       "      <td> 18</td>\n",
       "      <td> 6</td>\n",
       "      <td> 5</td>\n",
       "      <td> 0</td>\n",
       "    </tr>\n",
       "    <tr>\n",
       "      <th>4</th>\n",
       "      <td>   male</td>\n",
       "      <td> 22</td>\n",
       "      <td>  0.75</td>\n",
       "      <td>  no</td>\n",
       "      <td> 2</td>\n",
       "      <td> 17</td>\n",
       "      <td> 6</td>\n",
       "      <td> 3</td>\n",
       "      <td> 0</td>\n",
       "    </tr>\n",
       "  </tbody>\n",
       "</table>\n",
       "</div>"
      ],
      "text/plain": [
       "      sex  age     ym child  religious  education  occupation  rate  nbaffairs\n",
       "0    male   37  10.00    no          3         18           7     4          0\n",
       "1  female   27   4.00    no          4         14           6     4          0\n",
       "2  female   32  15.00   yes          1         12           1     4          0\n",
       "3    male   57  15.00   yes          5         18           6     5          0\n",
       "4    male   22   0.75    no          2         17           6     3          0"
      ]
     },
     "execution_count": 4,
     "metadata": {},
     "output_type": "execute_result"
    }
   ],
   "source": [
    "affairs = \"https://raw.github.com/vincentarelbundock/Rdatasets/master/csv/Ecdat/Fair.csv\"\n",
    "df = pd.read_csv(affairs)   \n",
    "df = df.drop(df.columns[0], axis=1)\n",
    "df.head()"
   ]
  },
  {
   "cell_type": "code",
   "execution_count": 5,
   "metadata": {
    "collapsed": false
   },
   "outputs": [
    {
     "data": {
      "text/html": [
       "<div style=\"max-height:1000px;max-width:1500px;overflow:auto;\">\n",
       "<table border=\"1\" class=\"dataframe\">\n",
       "  <thead>\n",
       "    <tr style=\"text-align: right;\">\n",
       "      <th></th>\n",
       "      <th>sex</th>\n",
       "      <th>age</th>\n",
       "      <th>ym</th>\n",
       "      <th>child</th>\n",
       "      <th>religious</th>\n",
       "      <th>education</th>\n",
       "      <th>occupation</th>\n",
       "      <th>rate</th>\n",
       "      <th>nbaffairs</th>\n",
       "    </tr>\n",
       "  </thead>\n",
       "  <tbody>\n",
       "    <tr>\n",
       "      <th>0</th>\n",
       "      <td>   male</td>\n",
       "      <td> 37</td>\n",
       "      <td> 10.00</td>\n",
       "      <td>  no</td>\n",
       "      <td> 3</td>\n",
       "      <td> 18</td>\n",
       "      <td> 7</td>\n",
       "      <td> 4</td>\n",
       "      <td> 0</td>\n",
       "    </tr>\n",
       "    <tr>\n",
       "      <th>1</th>\n",
       "      <td> female</td>\n",
       "      <td> 27</td>\n",
       "      <td>  4.00</td>\n",
       "      <td>  no</td>\n",
       "      <td> 4</td>\n",
       "      <td> 14</td>\n",
       "      <td> 6</td>\n",
       "      <td> 4</td>\n",
       "      <td> 0</td>\n",
       "    </tr>\n",
       "    <tr>\n",
       "      <th>2</th>\n",
       "      <td> female</td>\n",
       "      <td> 32</td>\n",
       "      <td> 15.00</td>\n",
       "      <td> yes</td>\n",
       "      <td> 1</td>\n",
       "      <td> 12</td>\n",
       "      <td> 1</td>\n",
       "      <td> 4</td>\n",
       "      <td> 0</td>\n",
       "    </tr>\n",
       "    <tr>\n",
       "      <th>3</th>\n",
       "      <td>   male</td>\n",
       "      <td> 57</td>\n",
       "      <td> 15.00</td>\n",
       "      <td> yes</td>\n",
       "      <td> 5</td>\n",
       "      <td> 18</td>\n",
       "      <td> 6</td>\n",
       "      <td> 5</td>\n",
       "      <td> 0</td>\n",
       "    </tr>\n",
       "    <tr>\n",
       "      <th>4</th>\n",
       "      <td>   male</td>\n",
       "      <td> 22</td>\n",
       "      <td>  0.75</td>\n",
       "      <td>  no</td>\n",
       "      <td> 2</td>\n",
       "      <td> 17</td>\n",
       "      <td> 6</td>\n",
       "      <td> 3</td>\n",
       "      <td> 0</td>\n",
       "    </tr>\n",
       "  </tbody>\n",
       "</table>\n",
       "</div>"
      ],
      "text/plain": [
       "      sex  age     ym child  religious  education  occupation  rate  nbaffairs\n",
       "0    male   37  10.00    no          3         18           7     4          0\n",
       "1  female   27   4.00    no          4         14           6     4          0\n",
       "2  female   32  15.00   yes          1         12           1     4          0\n",
       "3    male   57  15.00   yes          5         18           6     5          0\n",
       "4    male   22   0.75    no          2         17           6     3          0"
      ]
     },
     "execution_count": 5,
     "metadata": {},
     "output_type": "execute_result"
    }
   ],
   "source": [
    "df.head()"
   ]
  },
  {
   "cell_type": "code",
   "execution_count": 6,
   "metadata": {
    "collapsed": false
   },
   "outputs": [
    {
     "data": {
      "image/png": "[encoded data removed]",
      "text/plain": [
       "<matplotlib.figure.Figure at 0x10bf86dd0>"
      ]
     },
     "metadata": {},
     "output_type": "display_data"
    }
   ],
   "source": [
    "sns.jointplot(x=\"nbaffairs\", y=\"age\", data=df[df.sex==\"male\"], kind=\"reg\", size=4);"
   ]
  },
  {
   "cell_type": "code",
   "execution_count": 7,
   "metadata": {
    "collapsed": false
   },
   "outputs": [
    {
     "data": {
      "image/png": "[encoded data removed]",
      "text/plain": [
       "<matplotlib.figure.Figure at 0x10f1ac510>"
      ]
     },
     "metadata": {},
     "output_type": "display_data"
    }
   ],
   "source": [
    "sns.jointplot(x=\"nbaffairs\", y=\"age\", data=df[df.sex==\"female\"], kind=\"reg\", size=4);"
   ]
  },
  {
   "cell_type": "code",
   "execution_count": 8,
   "metadata": {
    "collapsed": true
   },
   "outputs": [],
   "source": [
    "# For the shake of the classification pbm we create the target affair , boolean true if even 1 affair"
   ]
  },
  {
   "cell_type": "code",
   "execution_count": 9,
   "metadata": {
    "collapsed": false
   },
   "outputs": [],
   "source": [
    "df[\"affair\"] = df.nbaffairs>0"
   ]
  },
  {
   "cell_type": "code",
   "execution_count": 10,
   "metadata": {
    "collapsed": false
   },
   "outputs": [],
   "source": [
    "# And now we want to rank the variables using as target the affair"
   ]
  },
  {
   "cell_type": "code",
   "execution_count": 11,
   "metadata": {
    "collapsed": true
   },
   "outputs": [],
   "source": [
    "def entropy(data, target_attr):\n",
    "    \"\"\"\n",
    "    Calculates the entropy of the given data set for the target attribute.\n",
    "    \"\"\"\n",
    "    val_freq     = {}\n",
    "    data_entropy = 0.0\n",
    "\n",
    "    # Calculate the frequency of each of the values in the target attr\n",
    "    for record in data:\n",
    "        ipdb.set_trace()\n",
    "        if (val_freq.has_key(record[target_attr])):\n",
    "            val_freq[record[target_attr]] += 1.0\n",
    "        else:\n",
    "            val_freq[record[target_attr]]  = 1.0\n",
    "\n",
    "    # Calculate the entropy of the data for the target attribute\n",
    "    for freq in val_freq.values():\n",
    "        data_entropy += (-freq/len(data)) * math.log(freq/len(data), 2) \n",
    "        \n",
    "    return data_entropy"
   ]
  },
  {
   "cell_type": "code",
   "execution_count": null,
   "metadata": {
    "collapsed": false
   },
   "outputs": [
    {
     "name": "stdout",
     "output_type": "stream",
     "text": [
      "ipdb> record\n",
      "ipdb> data\n",
      "ipdb> data[\"affair\"]\n"
     ]
    }
   ],
   "source": [
    "data = df.to_dict()\n",
    "entropy(data, \"affair\")\n",
    "\n",
    "type(data)"
   ]
  },
  {
   "cell_type": "code",
   "execution_count": 23,
   "metadata": {
    "collapsed": true
   },
   "outputs": [],
   "source": [
    "def gain(data, attr, target_attr):\n",
    "    \"\"\"\n",
    "    Calculates the information gain (reduction in entropy) that would\n",
    "    result by splitting the data on the chosen attribute (attr).\n",
    "    \"\"\"\n",
    "    val_freq       = {}\n",
    "    subset_entropy = 0.0\n",
    "\n",
    "    # Calculate the frequency of each of the values in the target attribute\n",
    "    for record in data:\n",
    "        if (val_freq.has_key(record[attr])):\n",
    "            val_freq[record[attr]] += 1.0\n",
    "        else:\n",
    "            val_freq[record[attr]]  = 1.0\n",
    "\n",
    "    # Calculate the sum of the entropy for each subset of records weighted\n",
    "    # by their probability of occuring in the training set.\n",
    "    for val in val_freq.keys():\n",
    "        val_prob        = val_freq[val] / sum(val_freq.values())\n",
    "        data_subset     = [record for record in data if record[attr] == val]\n",
    "        subset_entropy += val_prob * entropy(data_subset, target_attr)\n",
    "\n",
    "    # Subtract the entropy of the chosen attribute from the entropy of the\n",
    "    # whole data set with respect to the target attribute (and return it)\n",
    "    return (entropy(data, target_attr) - subset_entropy)"
   ]
  },
  {
   "cell_type": "code",
   "execution_count": 26,
   "metadata": {
    "collapsed": false
   },
   "outputs": [
    {
     "ename": "IndexError",
     "evalue": "only integers, slices (`:`), ellipsis (`...`), numpy.newaxis (`None`) and integer or boolean arrays are valid indices",
     "output_type": "error",
     "traceback": [
      "\u001b[0;31m---------------------------------------------------------------------------\u001b[0m",
      "\u001b[0;31mIndexError\u001b[0m                                Traceback (most recent call last)",
      "\u001b[0;32m<ipython-input-26-61f5939c5cbb>\u001b[0m in \u001b[0;36m<module>\u001b[0;34m()\u001b[0m\n\u001b[0;32m----> 1\u001b[0;31m \u001b[0mentropy\u001b[0m\u001b[0;34m(\u001b[0m\u001b[0mdf\u001b[0m\u001b[0;34m[\u001b[0m\u001b[0;34m[\u001b[0m\u001b[0;34m\"religious\"\u001b[0m\u001b[0;34m,\u001b[0m \u001b[0;34m\"education\"\u001b[0m\u001b[0;34m]\u001b[0m\u001b[0;34m]\u001b[0m\u001b[0;34m.\u001b[0m\u001b[0mvalues\u001b[0m\u001b[0;34m,\u001b[0m \u001b[0;34m\"affair\"\u001b[0m\u001b[0;34m)\u001b[0m\u001b[0;34m\u001b[0m\u001b[0m\n\u001b[0m",
      "\u001b[0;32m<ipython-input-22-759ce773ee61>\u001b[0m in \u001b[0;36mentropy\u001b[0;34m(data, target_attr)\u001b[0m\n\u001b[1;32m      8\u001b[0m     \u001b[0;31m# Calculate the frequency of each of the values in the target attr\u001b[0m\u001b[0;34m\u001b[0m\u001b[0;34m\u001b[0m\u001b[0m\n\u001b[1;32m      9\u001b[0m     \u001b[0;32mfor\u001b[0m \u001b[0mrecord\u001b[0m \u001b[0;32min\u001b[0m \u001b[0mdata\u001b[0m\u001b[0;34m:\u001b[0m\u001b[0;34m\u001b[0m\u001b[0m\n\u001b[0;32m---> 10\u001b[0;31m         \u001b[0;32mif\u001b[0m \u001b[0;34m(\u001b[0m\u001b[0mval_freq\u001b[0m\u001b[0;34m.\u001b[0m\u001b[0mhas_key\u001b[0m\u001b[0;34m(\u001b[0m\u001b[0mrecord\u001b[0m\u001b[0;34m[\u001b[0m\u001b[0mtarget_attr\u001b[0m\u001b[0;34m]\u001b[0m\u001b[0;34m)\u001b[0m\u001b[0;34m)\u001b[0m\u001b[0;34m:\u001b[0m\u001b[0;34m\u001b[0m\u001b[0m\n\u001b[0m\u001b[1;32m     11\u001b[0m             \u001b[0mval_freq\u001b[0m\u001b[0;34m[\u001b[0m\u001b[0mrecord\u001b[0m\u001b[0;34m[\u001b[0m\u001b[0mtarget_attr\u001b[0m\u001b[0;34m]\u001b[0m\u001b[0;34m]\u001b[0m \u001b[0;34m+=\u001b[0m \u001b[0;36m1.0\u001b[0m\u001b[0;34m\u001b[0m\u001b[0m\n\u001b[1;32m     12\u001b[0m         \u001b[0;32melse\u001b[0m\u001b[0;34m:\u001b[0m\u001b[0;34m\u001b[0m\u001b[0m\n",
      "\u001b[0;31mIndexError\u001b[0m: only integers, slices (`:`), ellipsis (`...`), numpy.newaxis (`None`) and integer or boolean arrays are valid indices"
     ]
    }
   ],
   "source": [
    "entropy(df[[\"religious\", \"education\"]].values, \"affair\")"
   ]
  },
  {
   "cell_type": "code",
   "execution_count": null,
   "metadata": {
    "collapsed": true
   },
   "outputs": [],
   "source": []
  }
 ],
 "metadata": {
  "kernelspec": {
   "display_name": "Python 2",
   "language": "python",
   "name": "python2"
  },
  "language_info": {
   "codemirror_mode": {
    "name": "ipython",
    "version": 2
   },
   "file_extension": ".py",
   "mimetype": "text/x-python",
   "name": "python",
   "nbconvert_exporter": "python",
   "pygments_lexer": "ipython2",
   "version": "2.7.10"
  }
 },
 "nbformat": 4,
 "nbformat_minor": 0
}
