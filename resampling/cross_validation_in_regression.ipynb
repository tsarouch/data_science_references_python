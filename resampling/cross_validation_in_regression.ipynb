{
 "cells": [
  {
   "cell_type": "code",
   "execution_count": 85,
   "metadata": {
    "collapsed": false
   },
   "outputs": [],
   "source": [
    "# data analytics in python\n",
    "import numpy as np\n",
    "import pandas as pd\n",
    "\n",
    "# data\n",
    "#from sklearn import datasets \n",
    "\n",
    "# plot\n",
    "import matplotlib.pyplot as plt\n",
    "%matplotlib inline\n",
    "\n",
    "# regression\n",
    "import sklearn\n",
    "from sklearn import datasets, linear_model\n",
    "from sklearn import cross_validation\n",
    "from sklearn.metrics import accuracy_score\n",
    "\n",
    "# correlation coef.\n",
    "from scipy.stats import pearsonr\n",
    "\n"
   ]
  },
  {
   "cell_type": "code",
   "execution_count": 75,
   "metadata": {
    "collapsed": false
   },
   "outputs": [
    {
     "data": {
      "text/html": [
       "<div style=\"max-height:1000px;max-width:1500px;overflow:auto;\">\n",
       "<table border=\"1\" class=\"dataframe\">\n",
       "  <thead>\n",
       "    <tr style=\"text-align: right;\">\n",
       "      <th></th>\n",
       "      <th>CRIM</th>\n",
       "      <th>ZN</th>\n",
       "      <th>INDUS</th>\n",
       "      <th>CHAS</th>\n",
       "      <th>NOX</th>\n",
       "      <th>RM</th>\n",
       "      <th>AGE</th>\n",
       "      <th>DIS</th>\n",
       "      <th>RAD</th>\n",
       "      <th>TAX</th>\n",
       "      <th>PTRATIO</th>\n",
       "      <th>B</th>\n",
       "      <th>LSTAT</th>\n",
       "      <th>MEDV</th>\n",
       "    </tr>\n",
       "  </thead>\n",
       "  <tbody>\n",
       "    <tr>\n",
       "      <th>0</th>\n",
       "      <td> 0.00632</td>\n",
       "      <td> 18</td>\n",
       "      <td> 2.31</td>\n",
       "      <td> 0</td>\n",
       "      <td> 0.538</td>\n",
       "      <td> 6.575</td>\n",
       "      <td> 65.2</td>\n",
       "      <td> 4.0900</td>\n",
       "      <td> 1</td>\n",
       "      <td> 296</td>\n",
       "      <td> 15.3</td>\n",
       "      <td> 396.90</td>\n",
       "      <td> 4.98</td>\n",
       "      <td> 24.0</td>\n",
       "    </tr>\n",
       "    <tr>\n",
       "      <th>1</th>\n",
       "      <td> 0.02731</td>\n",
       "      <td>  0</td>\n",
       "      <td> 7.07</td>\n",
       "      <td> 0</td>\n",
       "      <td> 0.469</td>\n",
       "      <td> 6.421</td>\n",
       "      <td> 78.9</td>\n",
       "      <td> 4.9671</td>\n",
       "      <td> 2</td>\n",
       "      <td> 242</td>\n",
       "      <td> 17.8</td>\n",
       "      <td> 396.90</td>\n",
       "      <td> 9.14</td>\n",
       "      <td> 21.6</td>\n",
       "    </tr>\n",
       "    <tr>\n",
       "      <th>2</th>\n",
       "      <td> 0.02729</td>\n",
       "      <td>  0</td>\n",
       "      <td> 7.07</td>\n",
       "      <td> 0</td>\n",
       "      <td> 0.469</td>\n",
       "      <td> 7.185</td>\n",
       "      <td> 61.1</td>\n",
       "      <td> 4.9671</td>\n",
       "      <td> 2</td>\n",
       "      <td> 242</td>\n",
       "      <td> 17.8</td>\n",
       "      <td> 392.83</td>\n",
       "      <td> 4.03</td>\n",
       "      <td> 34.7</td>\n",
       "    </tr>\n",
       "    <tr>\n",
       "      <th>3</th>\n",
       "      <td> 0.03237</td>\n",
       "      <td>  0</td>\n",
       "      <td> 2.18</td>\n",
       "      <td> 0</td>\n",
       "      <td> 0.458</td>\n",
       "      <td> 6.998</td>\n",
       "      <td> 45.8</td>\n",
       "      <td> 6.0622</td>\n",
       "      <td> 3</td>\n",
       "      <td> 222</td>\n",
       "      <td> 18.7</td>\n",
       "      <td> 394.63</td>\n",
       "      <td> 2.94</td>\n",
       "      <td> 33.4</td>\n",
       "    </tr>\n",
       "    <tr>\n",
       "      <th>4</th>\n",
       "      <td> 0.06905</td>\n",
       "      <td>  0</td>\n",
       "      <td> 2.18</td>\n",
       "      <td> 0</td>\n",
       "      <td> 0.458</td>\n",
       "      <td> 7.147</td>\n",
       "      <td> 54.2</td>\n",
       "      <td> 6.0622</td>\n",
       "      <td> 3</td>\n",
       "      <td> 222</td>\n",
       "      <td> 18.7</td>\n",
       "      <td> 396.90</td>\n",
       "      <td> 5.33</td>\n",
       "      <td> 36.2</td>\n",
       "    </tr>\n",
       "  </tbody>\n",
       "</table>\n",
       "</div>"
      ],
      "text/plain": [
       "      CRIM  ZN  INDUS  CHAS    NOX     RM   AGE     DIS  RAD  TAX  PTRATIO  \\\n",
       "0  0.00632  18   2.31     0  0.538  6.575  65.2  4.0900    1  296     15.3   \n",
       "1  0.02731   0   7.07     0  0.469  6.421  78.9  4.9671    2  242     17.8   \n",
       "2  0.02729   0   7.07     0  0.469  7.185  61.1  4.9671    2  242     17.8   \n",
       "3  0.03237   0   2.18     0  0.458  6.998  45.8  6.0622    3  222     18.7   \n",
       "4  0.06905   0   2.18     0  0.458  7.147  54.2  6.0622    3  222     18.7   \n",
       "\n",
       "        B  LSTAT  MEDV  \n",
       "0  396.90   4.98  24.0  \n",
       "1  396.90   9.14  21.6  \n",
       "2  392.83   4.03  34.7  \n",
       "3  394.63   2.94  33.4  \n",
       "4  396.90   5.33  36.2  "
      ]
     },
     "execution_count": 75,
     "metadata": {},
     "output_type": "execute_result"
    }
   ],
   "source": [
    "boston = datasets.load_boston()\n",
    "boston_df = pd.DataFrame(boston.data, columns = boston.feature_names)\n",
    "boston_df[\"MEDV\"] = boston.target\n",
    "boston_df.head()"
   ]
  },
  {
   "cell_type": "code",
   "execution_count": 76,
   "metadata": {
    "collapsed": false
   },
   "outputs": [],
   "source": [
    "# Lets make it simple - we select few features and the target data: \n",
    "# - MEDV     Median value of owner-occupied homes in $1000's\n",
    "# and we select couple of numerical independent variables:\n",
    "# - RM       average number of rooms per dwelling\n",
    "# - AGE      proportion of owner-occupied units built prior to 1940\n",
    "boston_df = boston_df[[\"MEDV\", \"RM\", \"AGE\"]]\n"
   ]
  },
  {
   "cell_type": "code",
   "execution_count": 110,
   "metadata": {
    "collapsed": false
   },
   "outputs": [
    {
     "name": "stdout",
     "output_type": "stream",
     "text": [
      "[ 6.575  6.421  7.185  6.998  7.147  6.43   6.012  6.172  5.631  6.004\n",
      "  6.377  6.009  5.889  5.949  6.096  5.834  5.935  5.99   5.456  5.727\n",
      "  5.57   5.965  6.142  5.813  5.924  5.599  5.813  6.047  6.495  6.674\n",
      "  5.713  6.072  5.95   5.701  6.096  5.933  5.841  5.85   5.966  6.595\n",
      "  7.024  6.77   6.169  6.211  6.069  5.682  5.786  6.03   5.399  5.602\n",
      "  5.963  6.115  6.511  5.998  5.888  7.249  6.383  6.816  6.145  5.927\n",
      "  5.741  5.966  6.456  6.762  7.104  6.29   5.787  5.878  5.594  5.885\n",
      "  6.417  5.961  6.065  6.245  6.273  6.286  6.279  6.14   6.232  5.874\n",
      "  6.727  6.619  6.302  6.167  6.389  6.63   6.015  6.121  7.007  7.079\n",
      "  6.417  6.405  6.442  6.211  6.249  6.625  6.163  8.069  7.82   7.416\n",
      "  6.727  6.781  6.405  6.137  6.167  5.851  5.836  6.127  6.474  6.229\n",
      "  6.195  6.715  5.913  6.092  6.254  5.928  6.176  6.021  5.872  5.731\n",
      "  5.87   6.004  5.961  5.856  5.879  5.986  5.613  5.693  6.431  5.637\n",
      "  6.458  6.326  6.372  5.822  5.757  6.335  5.942  6.454  5.857  6.151\n",
      "  6.174  5.019  5.403  5.468  4.903  6.13   5.628  4.926  5.186  5.597\n",
      "  6.122  5.404  5.012  5.709  6.129  6.152  5.272  6.943  6.066  6.51   6.25\n",
      "  7.489  7.802  8.375  5.854  6.101  7.929  5.877  6.319  6.402  5.875\n",
      "  5.88   5.572  6.416  5.859  6.546  6.02   6.315  6.86   6.98   7.765\n",
      "  6.144  7.155  6.563  5.604  6.153  7.831  6.782  6.556  7.185  6.951\n",
      "  6.739  7.178  6.8    6.604  7.875  7.287  7.107  7.274  6.975  7.135\n",
      "  6.162  7.61   7.853  8.034  5.891  6.326  5.783  6.064  5.344  5.96\n",
      "  5.404  5.807  6.375  5.412  6.182  5.888  6.642  5.951  6.373  6.951\n",
      "  6.164  6.879  6.618  8.266  8.725  8.04   7.163  7.686  6.552  5.981\n",
      "  7.412  8.337  8.247  6.726  6.086  6.631  7.358  6.481  6.606  6.897\n",
      "  6.095  6.358  6.393  5.593  5.605  6.108  6.226  6.433  6.718  6.487\n",
      "  6.438  6.957  8.259  6.108  5.876  7.454  8.704  7.333  6.842  7.203\n",
      "  7.52   8.398  7.327  7.206  5.56   7.014  8.297  7.47   5.92   5.856\n",
      "  6.24   6.538  7.691  6.758  6.854  7.267  6.826  6.482  6.812  7.82\n",
      "  6.968  7.645  7.923  7.088  6.453  6.23   6.209  6.315  6.565  6.861\n",
      "  7.148  6.63   6.127  6.009  6.678  6.549  5.79   6.345  7.041  6.871\n",
      "  6.59   6.495  6.982  7.236  6.616  7.42   6.849  6.635  5.972  4.973\n",
      "  6.122  6.023  6.266  6.567  5.705  5.914  5.782  6.382  6.113  6.426\n",
      "  6.376  6.041  5.708  6.415  6.431  6.312  6.083  5.868  6.333  6.144\n",
      "  5.706  6.031  6.316  6.31   6.037  5.869  5.895  6.059  5.985  5.968\n",
      "  7.241  6.54   6.696  6.874  6.014  5.898  6.516  6.635  6.939  6.49\n",
      "  6.579  5.884  6.728  5.663  5.936  6.212  6.395  6.127  6.112  6.398\n",
      "  6.251  5.362  5.803  8.78   3.561  4.963  3.863  4.97   6.683  7.016\n",
      "  6.216  5.875  4.906  4.138  7.313  6.649  6.794  6.38   6.223  6.968\n",
      "  6.545  5.536  5.52   4.368  5.277]\n"
     ]
    }
   ],
   "source": [
    "print boston_X_train.flatten()\n"
   ]
  },
  {
   "cell_type": "markdown",
   "metadata": {},
   "source": [
    "### - - - Simple lin. reg. , one feature"
   ]
  },
  {
   "cell_type": "code",
   "execution_count": 159,
   "metadata": {
    "collapsed": false
   },
   "outputs": [
    {
     "name": "stdout",
     "output_type": "stream",
     "text": [
      "('alpha: ', array([ 9.21698222]))\n",
      "('beta: ', -33.835295095716049)\n",
      "Training Residual sum of squares: 35.17\n",
      "Test Residual sum of squares: 80.97\n",
      "Training Variance score: 0.56\n",
      "Test Variance score: -1.78\n",
      "Training pearson: (0.74812931340452127, 2.1620273751172364e-70)\n",
      "Test pearson (0.31044819705630416, 0.00055878863139796967)\n"
     ]
    },
    {
     "data": {
      "image/png": "[encoded data removed]",
      "text/plain": [
       "<matplotlib.figure.Figure at 0x10bf4ffd0>"
      ]
     },
     "metadata": {},
     "output_type": "display_data"
    }
   ],
   "source": [
    "# create the model\n",
    "regr = linear_model.LinearRegression()\n",
    "# If we just split our sample to training and testing, with ratio e.g. 75/25\n",
    "# And use only one feature\n",
    "\n",
    "# Each newaxis object in the selection tuple serves to expand the dimensions of the resulting selection by one unit-length dimension\n",
    "# boston_df[\"RAD\"].shape ,  (506,)\n",
    "# boston_df[\"RAD\"][:, np.newaxis].shape, (506, 1)   <= this is the desired format for the independent variables\n",
    "# boston_df[\"MEDV\"].shape, (506, )                  <= this is the desired format for the target variable\n",
    "\n",
    "boston_X = boston_df[\"RM\"][:, np.newaxis]\n",
    "boston_y = boston_df[\"MEDV\"]\n",
    "\n",
    "# Split the data into training/testing sets\n",
    "boston_X_train = boston_X[:-120]\n",
    "boston_X_test = boston_X[-120:]\n",
    "# Split the targets into training/testing sets\n",
    "boston_y_train = boston_y[:-120]\n",
    "boston_y_test = boston_y[-120:]\n",
    "\n",
    "# Create linear regression object\n",
    "regr = linear_model.LinearRegression()\n",
    "\n",
    "# Train the model using the training sets\n",
    "regr.fit(boston_X_train, boston_y_train)\n",
    "\n",
    "# The coefficients, are the alpha, beta line coefficients\n",
    "print('alpha: ', regr.coef_)\n",
    "print('beta: ', regr.intercept_)\n",
    "a = regr.coef_\n",
    "b = regr.intercept_\n",
    "#and then we can plot the relevant line , e.g.\n",
    "# plt.plot([-0.15, 0.15], [a*-0.15+b, a*0.15+b], 'k--', color='red', linewidth=3)\n",
    "\n",
    "# The mean square error\n",
    "print(\"Training Residual sum of squares: %.2f\" % np.mean((regr.predict(boston_X_train) - boston_y_train) ** 2))\n",
    "print(\"Test Residual sum of squares: %.2f\" % np.mean((regr.predict(boston_X_test) - boston_y_test) ** 2))\n",
    "\n",
    "\n",
    "# Explained variance score: 1 is perfect prediction\n",
    "# Returns the coefficient of determination R^2 of the prediction.\n",
    "print('Training Variance score: %.2f' % regr.score(boston_X_train, boston_y_train))\n",
    "print('Test Variance score: %.2f' % regr.score(boston_X_test, boston_y_test))\n",
    "\n",
    "print 'Training pearson:',  pearsonr(boston_X_train.flatten().tolist(), boston_y_train.tolist())\n",
    "print 'Test pearson',  pearsonr(boston_X_test.flatten(), boston_y_test.tolist())\n",
    "\n",
    "#print('Test set cccuracy: %.2f' % accuracy_score(boston_X_test, boston_y_test))\n",
    "\n",
    " \n",
    "# !!! Attention, few words on score - here the score is the R2 score !!! \n",
    "# There is no reason r^2 shouldn't be negative (despite the ^2 in its name).\n",
    "# This is also stated in the doc. You can see r^2 as the comparison of your model fit \n",
    "# (in the context of linear regression, e.g a model of order 1 (affine)) to a model of order 0 \n",
    "# (just fitting a constant), both by minimizing a squared loss. \n",
    "# The constant minimizing the squared error is the mean. \n",
    "# Since you are doing cross validation with left out data, \n",
    "# it can happen that the mean of your test set is wildly different from the mean of your training set. \n",
    "# This alone can induce a much higher incurred squared error in your prediction versus just predicting \n",
    "# the mean of the test data, which results in a negative r^2 score.\n",
    "# In worst case, if your data do not explain your target at all, these scores can become very strongly negative. \n",
    "\n",
    "# TODO cross check next\n",
    "# R^2 is bounded above by 1.0, but it is not bounded below. \n",
    "# Correlation is always bounded between -1 and 1. \n",
    "    \n",
    "\n",
    "# Plot outputs\n",
    "fig, ax = plt.subplots(1, 2)\n",
    "ax[0].scatter(boston_X_train, boston_y_train,  color='black')\n",
    "ax[0].plot(boston_X_train, regr.predict(boston_X_train), color='red', linewidth=3)\n",
    "ax[0].set_title('Training')\n",
    "ax[0].set_xlabel('RM (our feature)')\n",
    "ax[0].set_ylabel('MEDV (our target response)')\n",
    "ax[1].scatter(boston_X_test, boston_y_test,  color='black')\n",
    "ax[1].plot(boston_X_test, regr.predict(boston_X_test), color='blue', linewidth=3)\n",
    "ax[1].set_title('Test')\n",
    "ax[1].set_xlabel('RM (our feature)')\n",
    "ax[1].set_ylabel('MEDV (our target response)')\n",
    "\n",
    "plt.show()"
   ]
  },
  {
   "cell_type": "code",
   "execution_count": 8,
   "metadata": {
    "collapsed": true
   },
   "outputs": [],
   "source": [
    "# comments, it is obvious even by looking at the plot to see that just splitting the sample e.g. 75/25 was not good enough.\n",
    "# Especialy since our sample is relatively small ~500 rows \n",
    "# As we see there is not a good distribution and spread of data to partition it into separate training and test sets \n",
    "# in the conventional validation method.\n",
    "# The training Variance score: 0.56\n",
    "# The test Variance score: -1.78 - quite worse\n",
    "# Also the relevant RSS is much better in training.\n",
    "\n",
    "# It is worth to see what we can get by performing cross validation..."
   ]
  },
  {
   "cell_type": "markdown",
   "metadata": {},
   "source": [
    "### - - - Intermediate step, shuffling while partition the data "
   ]
  },
  {
   "cell_type": "code",
   "execution_count": 114,
   "metadata": {
    "collapsed": false
   },
   "outputs": [
    {
     "name": "stdout",
     "output_type": "stream",
     "text": [
      "Training Residual sum of squares: 43.72\n",
      "Test Residual sum of squares: 43.47\n",
      "Training Variance score: 0.49\n",
      "Test Variance score: 0.47\n",
      "Training pearson: (0.6982268108526315, 1.1022488208096084e-56)\n",
      "Test pearson (0.69099635917643398, 2.4610265817067474e-19)\n"
     ]
    },
    {
     "data": {
      "image/png": "[encoded data removed]",
      "text/plain": [
       "<matplotlib.figure.Figure at 0x10ca4aad0>"
      ]
     },
     "metadata": {},
     "output_type": "display_data"
    }
   ],
   "source": [
    "# In this example, is almost obvious that the data are not nicely distributed and when we split simply by [:120] etc\n",
    "# we have big chances to be biased. \n",
    "# The best way to do it, is in the same time we split the data also to sample them so to be sure that they are better\n",
    "# distributed. \n",
    "# We can get this quickly if we use the train_test_split function of scikit:\n",
    " \n",
    "# use scikit to easily get the split\n",
    "boston_X_train, boston_X_test, boston_y_train, boston_y_test = cross_validation.train_test_split(\n",
    "    boston_df[\"RM\"][:, np.newaxis], boston_df[\"MEDV\"], test_size=0.25, random_state=0)\n",
    "\n",
    "regr = linear_model.LinearRegression()\n",
    "regr.fit(boston_X_train, boston_y_train)\n",
    "print(\"Training Residual sum of squares: %.2f\" % np.mean((regr.predict(boston_X_train) - boston_y_train) ** 2))\n",
    "print(\"Test Residual sum of squares: %.2f\" % np.mean((regr.predict(boston_X_test) - boston_y_test) ** 2))\n",
    "print('Training Variance score: %.2f' % regr.score(boston_X_train, boston_y_train))\n",
    "print('Test Variance score: %.2f' % regr.score(boston_X_test, boston_y_test))\n",
    "print 'Training pearson:',  pearsonr(boston_X_train.flatten(), boston_y_train.tolist())\n",
    "print 'Test pearson',  pearsonr(boston_X_test.flatten(), boston_y_test.tolist())\n",
    "\n",
    "\n",
    "# Plot outputs\n",
    "fig, ax = plt.subplots(1, 2)\n",
    "ax[0].scatter(boston_X_train, boston_y_train,  color='black')\n",
    "ax[0].plot(boston_X_train, regr.predict(boston_X_train), color='red', linewidth=3)\n",
    "ax[0].set_title('Training')\n",
    "ax[0].set_xlabel('RM (our feature)')\n",
    "ax[0].set_ylabel('MEDV (our target response)')\n",
    "ax[1].scatter(boston_X_test, boston_y_test,  color='black')\n",
    "ax[1].plot(boston_X_test, regr.predict(boston_X_test), color='blue', linewidth=3)\n",
    "ax[1].set_title('Test')\n",
    "ax[1].set_xlabel('RM (our feature)')\n",
    "ax[1].set_ylabel('MEDV (our target response)')\n",
    "plt.show()\n",
    "\n",
    "# !!! The results are greately improved !!!\n",
    "# Nevertheless we will continue the work with cross validation and see what we can get out more of this technique\n",
    "\n",
    "# !!! A note on shuffling found in scikit learn page\n",
    "# If the data ordering is not arbitrary (e.g. samples with the same label are contiguous), \n",
    "# shuffling it first may be essential to get a meaningful cross- validation result. \n",
    "# However, the opposite may be true if the samples are not independently and identically distributed. \n",
    "# For example, if samples correspond to news articles, and are ordered by their time of publication, \n",
    "# then shuffling the data will likely lead to a model that is overfit and an inflated validation score:\n",
    "# it will be tested on samples that are artificially similar (close in time) to training samples."
   ]
  },
  {
   "cell_type": "markdown",
   "metadata": {},
   "source": [
    "### - - - Simple lin. reg. , one feature With Cross Validation"
   ]
  },
  {
   "cell_type": "code",
   "execution_count": null,
   "metadata": {
    "collapsed": true
   },
   "outputs": [],
   "source": [
    "# THEORY (from wikipedia)\n",
    "# Cross-validation, is a model validation technique for assessing how the results of a statistical analysis \n",
    "# will generalize to an independent data set.\n",
    "# It is mainly used in settings where the goal is prediction, and we want to estimate how accurately \n",
    "# a predictive model will perform in practice.\n",
    "# How it works:\n",
    "# Cross validation involves many rounds.\n",
    "# One round of cross-validation involves partitioning a sample of data into complementary subsets, \n",
    "# performing the analysis on one (training) subset, and validating the analysis on the other (testing) subset .\n",
    "# To reduce variability, multiple rounds of cross-validation are performed using different partitions, \n",
    "# and the validation results are averaged over the rounds.\n",
    "\n",
    "# Usually in conventional split, the RMSError on the test dataset does not properly represent model performance,\n",
    "# this can happen due to :\n",
    "# - not enough data available\n",
    "# - not good distribution and spread of data to partition into separate training and test sets\n",
    "# So a fair way to properly estimate model prediction performance is to use cross-validation.\n",
    "\n",
    "# In summary, cross-validation combines (averages) measures of fit to correct for the training error \n",
    "# and derive a more accurate estimate of model prediction performance"
   ]
  },
  {
   "cell_type": "code",
   "execution_count": 163,
   "metadata": {
    "collapsed": false
   },
   "outputs": [
    {
     "name": "stdout",
     "output_type": "stream",
     "text": [
      "[ 0.56789192  0.80745302 -0.54477417  0.34693869  0.74372546  0.51130486\n",
      "  0.75803107 -0.41345788 -5.13329341 -0.03202355]\n",
      "-0.238820398381\n",
      "0.429121778678\n",
      "Accuracy: -0.24 (+/- 3.39)\n"
     ]
    },
    {
     "data": {
      "image/png": "[encoded data removed]",
      "text/plain": [
       "<matplotlib.figure.Figure at 0x10cebd910>"
      ]
     },
     "metadata": {},
     "output_type": "display_data"
    },
    {
     "data": {
      "image/png": "[encoded data removed]",
      "text/plain": [
       "<matplotlib.figure.Figure at 0x10c4b9ad0>"
      ]
     },
     "metadata": {},
     "output_type": "display_data"
    }
   ],
   "source": [
    "boston_X = boston_df[\"RM\"][:, np.newaxis]\n",
    "boston_y = boston_df[\"MEDV\"]\n",
    "\n",
    "nfolds = 10\n",
    "estimator = linear_model.LinearRegression()\n",
    "features = boston_X\n",
    "target = boston_y\n",
    "\n",
    "scores = cross_validation.cross_val_score(estimator, features, target, cv=nfolds, scoring='r2')\n",
    "print scores \n",
    "print scores.mean()\n",
    "print np.median(scores)\n",
    "#The mean score and the 95% confidence interval of the score estimate are hence given by:\n",
    "print(\"Accuracy: %0.2f (+/- %0.2f)\" % (scores.mean(), scores.std() * 2))\n",
    "\n",
    "\n",
    "\n",
    "# Generate cross-validated estimates for each input data point\n",
    "# cross_val_predict returns an array of the same size as `y` where each entry\n",
    "# is a prediction obtained by cross validated:\n",
    "predicted = cross_validation.cross_val_predict(estimator, features, target, cv=nfolds)\n",
    "fig,ax = plt.subplots()\n",
    "ax.scatter(target, predicted)\n",
    "#ax.plot([y.min(), y.max()], [y.min(), y.max()], 'k--', lw=4)\n",
    "ax.set_xlabel('Measured')\n",
    "ax.set_ylabel('Predicted')\n",
    "fig.show()\n",
    "\n",
    "#print('Training Variance score: %.2f' % regr.score(boston_y, predicted))\n",
    "#print('Test Variance score: %.2f' % regr.score(boston_y.flatten(), predicted))\n",
    "#print 'Training pearson:',  pearsonr(boston_y.flatten(), predicted.tolist())\n",
    "#print 'Test pearson',  pearsonr(boston_y.flatten(), predicted.tolist())\n",
    "\n",
    "\n",
    "\n",
    "# Plot outputs\n",
    "fig, ax = plt.subplots(1, 1)\n",
    "ax.scatter(features, target,  color='black')\n",
    "ax.plot(features, predicted,  color='red', linewidth=1)\n",
    "ax.set_xlabel('RM (our feature)')\n",
    "ax.set_ylabel('MEDV (our target response)')\n",
    "plt.show()"
   ]
  },
  {
   "cell_type": "code",
   "execution_count": 161,
   "metadata": {
    "collapsed": true
   },
   "outputs": [],
   "source": [
    "from sklearn.cross_validation import KFold"
   ]
  },
  {
   "cell_type": "code",
   "execution_count": 179,
   "metadata": {
    "collapsed": false
   },
   "outputs": [],
   "source": [
    "kf = KFold(len(features), n_folds=10)"
   ]
  },
  {
   "cell_type": "code",
   "execution_count": 184,
   "metadata": {
    "collapsed": false
   },
   "outputs": [
    {
     "name": "stdout",
     "output_type": "stream",
     "text": [
      "Training Variance score 0.476780239965\n",
      "Test Variance score 0.567891920274\n"
     ]
    }
   ],
   "source": [
    "xtr=[]\n",
    "ytr=[]\n",
    "xte=[]\n",
    "yte=[]\n",
    "for train, test in kf:\n",
    "    xtr.append(train)\n",
    "    xte.append(test)\n",
    "Xtrain = features[xtr[0]]\n",
    "ytrain = target[xtr[0]]\n",
    "Xtest = features[xte[0]]\n",
    "ytest = target[xte[0]]\n",
    "\n",
    "\n",
    "regr = linear_model.LinearRegression()\n",
    "# Train the model using the training sets\n",
    "regr.fit(Xtrain, ytrain)\n",
    "# Explained variance score: 1 is perfect prediction\n",
    "# Returns the coefficient of determination R^2 of the prediction.\n",
    "print 'Training Variance score',  regr.score(Xtrain, ytrain)\n",
    "print'Test Variance score',  regr.score(Xtest, ytest)\n"
   ]
  },
  {
   "cell_type": "code",
   "execution_count": 183,
   "metadata": {
    "collapsed": false
   },
   "outputs": [],
   "source": [
    "# And yes it is the first test variance score we see in the cross_val_score above"
   ]
  },
  {
   "cell_type": "code",
   "execution_count": null,
   "metadata": {
    "collapsed": true
   },
   "outputs": [],
   "source": []
  }
 ],
 "metadata": {
  "kernelspec": {
   "display_name": "Python 2",
   "language": "python",
   "name": "python2"
  },
  "language_info": {
   "codemirror_mode": {
    "name": "ipython",
    "version": 2
   },
   "file_extension": ".py",
   "mimetype": "text/x-python",
   "name": "python",
   "nbconvert_exporter": "python",
   "pygments_lexer": "ipython2",
   "version": "2.7.10"
  }
 },
 "nbformat": 4,
 "nbformat_minor": 0
}
