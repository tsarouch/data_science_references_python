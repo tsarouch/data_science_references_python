{
 "cells": [
  {
   "cell_type": "code",
   "execution_count": 87,
   "metadata": {
    "collapsed": false
   },
   "outputs": [],
   "source": [
    "import numpy as np\n",
    "import pandas as pd\n",
    "import sklearn\n",
    "from sklearn import datasets \n",
    "import matplotlib.pyplot as plt\n",
    "%matplotlib inline\n",
    "\n",
    "\n",
    "boston = datasets.load_boston()"
   ]
  },
  {
   "cell_type": "code",
   "execution_count": 55,
   "metadata": {
    "collapsed": false
   },
   "outputs": [
    {
     "name": "stdout",
     "output_type": "stream",
     "text": [
      "boston keys:  ['data', 'feature_names', 'DESCR', 'target']\n",
      "boston feature names ['CRIM' 'ZN' 'INDUS' 'CHAS' 'NOX' 'RM' 'AGE' 'DIS' 'RAD' 'TAX' 'PTRATIO'\n",
      " 'B' 'LSTAT' 'MEDV']\n"
     ]
    }
   ],
   "source": [
    "# Lets explore a bit the Boston data:\n",
    "print \"boston keys: \", boston.keys()\n",
    "print \"boston feature names\", boston.feature_names\n",
    "# DESCR says \"Median Value (attribute 14) is usually the target\" \n",
    "# The MEDV is the boston.target      "
   ]
  },
  {
   "cell_type": "code",
   "execution_count": 57,
   "metadata": {
    "collapsed": false
   },
   "outputs": [
    {
     "data": {
      "text/html": [
       "<div style=\"max-height:1000px;max-width:1500px;overflow:auto;\">\n",
       "<table border=\"1\" class=\"dataframe\">\n",
       "  <thead>\n",
       "    <tr style=\"text-align: right;\">\n",
       "      <th></th>\n",
       "      <th>CRIM</th>\n",
       "      <th>ZN</th>\n",
       "      <th>INDUS</th>\n",
       "      <th>CHAS</th>\n",
       "      <th>NOX</th>\n",
       "      <th>RM</th>\n",
       "      <th>AGE</th>\n",
       "      <th>DIS</th>\n",
       "      <th>RAD</th>\n",
       "      <th>TAX</th>\n",
       "      <th>PTRATIO</th>\n",
       "      <th>B</th>\n",
       "      <th>LSTAT</th>\n",
       "      <th>MEDV</th>\n",
       "    </tr>\n",
       "  </thead>\n",
       "  <tbody>\n",
       "    <tr>\n",
       "      <th>0</th>\n",
       "      <td> 0.00632</td>\n",
       "      <td> 18</td>\n",
       "      <td> 2.31</td>\n",
       "      <td> 0</td>\n",
       "      <td> 0.538</td>\n",
       "      <td> 6.575</td>\n",
       "      <td> 65.2</td>\n",
       "      <td> 4.0900</td>\n",
       "      <td> 1</td>\n",
       "      <td> 296</td>\n",
       "      <td> 15.3</td>\n",
       "      <td> 396.90</td>\n",
       "      <td> 4.98</td>\n",
       "      <td> 24.0</td>\n",
       "    </tr>\n",
       "    <tr>\n",
       "      <th>1</th>\n",
       "      <td> 0.02731</td>\n",
       "      <td>  0</td>\n",
       "      <td> 7.07</td>\n",
       "      <td> 0</td>\n",
       "      <td> 0.469</td>\n",
       "      <td> 6.421</td>\n",
       "      <td> 78.9</td>\n",
       "      <td> 4.9671</td>\n",
       "      <td> 2</td>\n",
       "      <td> 242</td>\n",
       "      <td> 17.8</td>\n",
       "      <td> 396.90</td>\n",
       "      <td> 9.14</td>\n",
       "      <td> 21.6</td>\n",
       "    </tr>\n",
       "    <tr>\n",
       "      <th>2</th>\n",
       "      <td> 0.02729</td>\n",
       "      <td>  0</td>\n",
       "      <td> 7.07</td>\n",
       "      <td> 0</td>\n",
       "      <td> 0.469</td>\n",
       "      <td> 7.185</td>\n",
       "      <td> 61.1</td>\n",
       "      <td> 4.9671</td>\n",
       "      <td> 2</td>\n",
       "      <td> 242</td>\n",
       "      <td> 17.8</td>\n",
       "      <td> 392.83</td>\n",
       "      <td> 4.03</td>\n",
       "      <td> 34.7</td>\n",
       "    </tr>\n",
       "    <tr>\n",
       "      <th>3</th>\n",
       "      <td> 0.03237</td>\n",
       "      <td>  0</td>\n",
       "      <td> 2.18</td>\n",
       "      <td> 0</td>\n",
       "      <td> 0.458</td>\n",
       "      <td> 6.998</td>\n",
       "      <td> 45.8</td>\n",
       "      <td> 6.0622</td>\n",
       "      <td> 3</td>\n",
       "      <td> 222</td>\n",
       "      <td> 18.7</td>\n",
       "      <td> 394.63</td>\n",
       "      <td> 2.94</td>\n",
       "      <td> 33.4</td>\n",
       "    </tr>\n",
       "    <tr>\n",
       "      <th>4</th>\n",
       "      <td> 0.06905</td>\n",
       "      <td>  0</td>\n",
       "      <td> 2.18</td>\n",
       "      <td> 0</td>\n",
       "      <td> 0.458</td>\n",
       "      <td> 7.147</td>\n",
       "      <td> 54.2</td>\n",
       "      <td> 6.0622</td>\n",
       "      <td> 3</td>\n",
       "      <td> 222</td>\n",
       "      <td> 18.7</td>\n",
       "      <td> 396.90</td>\n",
       "      <td> 5.33</td>\n",
       "      <td> 36.2</td>\n",
       "    </tr>\n",
       "  </tbody>\n",
       "</table>\n",
       "</div>"
      ],
      "text/plain": [
       "      CRIM  ZN  INDUS  CHAS    NOX     RM   AGE     DIS  RAD  TAX  PTRATIO  \\\n",
       "0  0.00632  18   2.31     0  0.538  6.575  65.2  4.0900    1  296     15.3   \n",
       "1  0.02731   0   7.07     0  0.469  6.421  78.9  4.9671    2  242     17.8   \n",
       "2  0.02729   0   7.07     0  0.469  7.185  61.1  4.9671    2  242     17.8   \n",
       "3  0.03237   0   2.18     0  0.458  6.998  45.8  6.0622    3  222     18.7   \n",
       "4  0.06905   0   2.18     0  0.458  7.147  54.2  6.0622    3  222     18.7   \n",
       "\n",
       "        B  LSTAT  MEDV  \n",
       "0  396.90   4.98  24.0  \n",
       "1  396.90   9.14  21.6  \n",
       "2  392.83   4.03  34.7  \n",
       "3  394.63   2.94  33.4  \n",
       "4  396.90   5.33  36.2  "
      ]
     },
     "execution_count": 57,
     "metadata": {},
     "output_type": "execute_result"
    }
   ],
   "source": [
    "# get the df from boston data\n",
    "boston_df = pd.DataFrame(np.column_stack([boston.data, boston.target]), columns = boston.feature_names)\n",
    "boston_df.head()"
   ]
  },
  {
   "cell_type": "code",
   "execution_count": 61,
   "metadata": {
    "collapsed": true
   },
   "outputs": [],
   "source": [
    "# Lets make it simple, \n",
    "# we select the target data: \n",
    "# - MEDV     Median value of owner-occupied homes in $1000's\n",
    "# and we selecvt couple of categorial independent variables:\n",
    "# - CHAS     Charles River dummy variable (= 1 if tract bounds river; 0 otherwise)\n",
    "# - RAD      index of accessibility to radial highways\n",
    "\n",
    "boston_df = boston_df[[\"MEDV\", \"CHAS\", \"RAD\"]]"
   ]
  },
  {
   "cell_type": "code",
   "execution_count": 63,
   "metadata": {
    "collapsed": false
   },
   "outputs": [
    {
     "data": {
      "text/html": [
       "<div style=\"max-height:1000px;max-width:1500px;overflow:auto;\">\n",
       "<table border=\"1\" class=\"dataframe\">\n",
       "  <thead>\n",
       "    <tr style=\"text-align: right;\">\n",
       "      <th></th>\n",
       "      <th>MEDV</th>\n",
       "      <th>CHAS</th>\n",
       "      <th>RAD</th>\n",
       "    </tr>\n",
       "  </thead>\n",
       "  <tbody>\n",
       "    <tr>\n",
       "      <th>0</th>\n",
       "      <td> 24.0</td>\n",
       "      <td> 0</td>\n",
       "      <td> 1</td>\n",
       "    </tr>\n",
       "    <tr>\n",
       "      <th>1</th>\n",
       "      <td> 21.6</td>\n",
       "      <td> 0</td>\n",
       "      <td> 2</td>\n",
       "    </tr>\n",
       "    <tr>\n",
       "      <th>2</th>\n",
       "      <td> 34.7</td>\n",
       "      <td> 0</td>\n",
       "      <td> 2</td>\n",
       "    </tr>\n",
       "    <tr>\n",
       "      <th>3</th>\n",
       "      <td> 33.4</td>\n",
       "      <td> 0</td>\n",
       "      <td> 3</td>\n",
       "    </tr>\n",
       "    <tr>\n",
       "      <th>4</th>\n",
       "      <td> 36.2</td>\n",
       "      <td> 0</td>\n",
       "      <td> 3</td>\n",
       "    </tr>\n",
       "  </tbody>\n",
       "</table>\n",
       "</div>"
      ],
      "text/plain": [
       "   MEDV  CHAS  RAD\n",
       "0  24.0     0    1\n",
       "1  21.6     0    2\n",
       "2  34.7     0    2\n",
       "3  33.4     0    3\n",
       "4  36.2     0    3"
      ]
     },
     "execution_count": 63,
     "metadata": {},
     "output_type": "execute_result"
    }
   ],
   "source": [
    "boston_df.head()"
   ]
  },
  {
   "cell_type": "code",
   "execution_count": null,
   "metadata": {
    "collapsed": true
   },
   "outputs": [],
   "source": [
    "# Perform the regression\n",
    "from sklearn import datasets, linear_model\n",
    "\n",
    "# create the model\n",
    "regr = linear_model.LinearRegression()"
   ]
  },
  {
   "cell_type": "markdown",
   "metadata": {},
   "source": [
    "### - - - First version, simple linear reg. one variable, simple split"
   ]
  },
  {
   "cell_type": "code",
   "execution_count": 89,
   "metadata": {
    "collapsed": false
   },
   "outputs": [
    {
     "name": "stdout",
     "output_type": "stream",
     "text": [
      "('Coefficients: \\n', array([-0.10474212]))\n",
      "Residual sum of squares: 91.83\n",
      "Variance score: -2.16\n"
     ]
    },
    {
     "data": {
      "image/png": "[encoded data removed]",
      "text/plain": [
       "<matplotlib.figure.Figure at 0x10aac1550>"
      ]
     },
     "metadata": {},
     "output_type": "display_data"
    }
   ],
   "source": [
    "from sklearn import datasets, linear_model\n",
    "\n",
    "# If we just split our sample to training and testing, with ratio e.g. 75/25\n",
    "# And use only one feature\n",
    "\n",
    "# Each newaxis object in the selection tuple serves to expand the dimensions of the \n",
    "# resulting selection by one unit-length dimension\n",
    "# boston_df[\"RAD\"].shape ,  (506,)\n",
    "# boston_df[\"RAD\"][:, np.newaxis].shape, (506, 1)   <= this is the desired format for the independent variables\n",
    "# boston_df[\"MEDV\"].shape, (506, )                  <= this is the desired format for the target variable\n",
    "\n",
    "boston_X = boston_df[\"RAD\"][:, np.newaxis]\n",
    "boston_y = boston_df[\"MEDV\"]\n",
    "\n",
    " \n",
    "# Split the data into training/testing sets\n",
    "boston_X_train = boston_X[:-120]\n",
    "boston_X_test = boston_X[-120:]\n",
    "\n",
    "# Split the targets into training/testing sets\n",
    "boston_y_train = boston_y[:-120]\n",
    "boston_y_test = boston_y[-120:]\n",
    "\n",
    "# Create linear regression object\n",
    "regr = linear_model.LinearRegression()\n",
    "\n",
    "# Train the model using the training sets\n",
    "regr.fit(boston_X_train, boston_y_train)\n",
    "\n",
    "# The coefficients\n",
    "print('Coefficients: \\n', regr.coef_)\n",
    "\n",
    "# The mean square error\n",
    "print(\"Residual sum of squares: %.2f\" % np.mean((regr.predict(boston_X_test) - boston_y_test) ** 2))\n",
    "\n",
    "# Explained variance score: 1 is perfect prediction\n",
    "print('Variance score: %.2f' % regr.score(boston_X_test, boston_y_test))\n",
    "\n",
    "# Plot outputs\n",
    "plt.scatter(boston_X_test, boston_y_test,  color='black')\n",
    "plt.plot(boston_X_test, regr.predict(boston_X_test), color='blue', linewidth=3)\n",
    "plt.show()\n"
   ]
  },
  {
   "cell_type": "code",
   "execution_count": 94,
   "metadata": {
    "collapsed": false
   },
   "outputs": [
    {
     "name": "stdout",
     "output_type": "stream",
     "text": [
      "(506,)\n",
      "(506, 1)\n"
     ]
    }
   ],
   "source": [
    " \n",
    "\n",
    "print boston_df[\"MEDV\"].shape\n",
    "print boston_df[\"RAD\"][:, np.newaxis].shape\n",
    "\n",
    "\n",
    "\n"
   ]
  },
  {
   "cell_type": "code",
   "execution_count": null,
   "metadata": {
    "collapsed": true
   },
   "outputs": [],
   "source": [
    "# Prepare the data , training and test parts\n",
    "# !!! Attention !!!\n",
    "# Split sample validation without resampling (cross-validation, or better: bootstrapping)\n",
    "# is unreliable unless you have a bery big sample (e.g., N>20000). \n",
    "\n",
    "# If the sample is big\n",
    "# Probably a simple split would work 75/25.\n",
    "# We have just to run twice (2 splits) and we see how much results vary. \n",
    "# They probably vary so little that you only need one split.\n",
    "# Think of the width of a confidence interval for a proportion with such a big sample size\n",
    "\n",
    "# In our case the sample size is 506 - not so big.\n",
    "# We better do cross-validation (and later bootstrapping)\n",
    "\n",
    "from sklearn import cross_validation\n",
    "X_train, X_test, y_train, y_test = cross_validation.train_test_split(\n",
    "    iris.data, iris.target, test_size=0.4, random_state=0)\n",
    "\n"
   ]
  },
  {
   "cell_type": "code",
   "execution_count": 64,
   "metadata": {
    "collapsed": false
   },
   "outputs": [
    {
     "data": {
      "text/plain": [
       "506"
      ]
     },
     "execution_count": 64,
     "metadata": {},
     "output_type": "execute_result"
    }
   ],
   "source": [
    "len(boston_df)"
   ]
  },
  {
   "cell_type": "code",
   "execution_count": 66,
   "metadata": {
    "collapsed": false
   },
   "outputs": [
    {
     "data": {
      "text/plain": [
       "442"
      ]
     },
     "execution_count": 66,
     "metadata": {},
     "output_type": "execute_result"
    }
   ],
   "source": [
    "diabetes = datasets.load_diabetes()\n",
    "len(diabetes.data)"
   ]
  },
  {
   "cell_type": "code",
   "execution_count": null,
   "metadata": {
    "collapsed": true
   },
   "outputs": [],
   "source": []
  }
 ],
 "metadata": {
  "kernelspec": {
   "display_name": "Python 2",
   "language": "python",
   "name": "python2"
  },
  "language_info": {
   "codemirror_mode": {
    "name": "ipython",
    "version": 2
   },
   "file_extension": ".py",
   "mimetype": "text/x-python",
   "name": "python",
   "nbconvert_exporter": "python",
   "pygments_lexer": "ipython2",
   "version": "2.7.9"
  }
 },
 "nbformat": 4,
 "nbformat_minor": 0
}
