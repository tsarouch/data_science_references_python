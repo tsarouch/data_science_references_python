{
 "cells": [
  {
   "cell_type": "markdown",
   "metadata": {},
   "source": [
    "Case of Logistic regression with both independent and dependent variables: Categorical"
   ]
  },
  {
   "cell_type": "code",
   "execution_count": 331,
   "metadata": {
    "collapsed": true
   },
   "outputs": [],
   "source": [
    "# imports etc\n",
    "import pandas as pd\n",
    "%matplotlib inline"
   ]
  },
  {
   "cell_type": "code",
   "execution_count": 126,
   "metadata": {
    "collapsed": true
   },
   "outputs": [],
   "source": [
    "# !!! Relevant reading\n",
    "# http://blog.yhat.com/posts/logistic-regression-and-python.html\n",
    "# http://stats.stackexchange.com/questions/224051/one-hot-vs-dummy-encoding-in-scikit-learn\n",
    "# http://blog.yhat.com/posts/logistic-regression-python-rodeo.html    "
   ]
  },
  {
   "cell_type": "markdown",
   "metadata": {},
   "source": [
    "# Input data"
   ]
  },
  {
   "cell_type": "code",
   "execution_count": 392,
   "metadata": {
    "collapsed": true
   },
   "outputs": [],
   "source": [
    "#os = Linux, Mac, Windows\n",
    "#browser = Firefox, Ie, Safari\n",
    "#category = Electronics, Toys, Medicines\n",
    "\n",
    "df_data = pd.DataFrame(\n",
    "    data=[\n",
    "   ['L', 'F', 'E'],\n",
    "   ['L', 'I', 'E'],\n",
    "   ['L', 'S', 'E'],\n",
    "   ['L', 'S', 'T'],\n",
    "   ['M', 'F', 'E'],\n",
    "   ['M', 'I', 'E'],\n",
    "   ['M', 'S', 'E'],\n",
    "   ['M', 'S', 'T'],\n",
    "   ['W', 'F', 'M'],\n",
    "   ['W', 'I', 'M'],\n",
    "   ['W', 'S', 'M'],\n",
    "   ['W', 'S', 'T'],\n",
    "   ], \n",
    "columns=['os', 'browser', 'category'])\n",
    "\n",
    "\n",
    "VAR_DEPENDENT = ['os', 'browser']\n",
    "VAR_DEPENDENT_CATEGORICAL = ['os', 'browser']\n",
    "VAR_INDEPENDENT = 'category'"
   ]
  },
  {
   "cell_type": "code",
   "execution_count": 393,
   "metadata": {
    "collapsed": false
   },
   "outputs": [
    {
     "data": {
      "text/html": [
       "<div>\n",
       "<table border=\"1\" class=\"dataframe\">\n",
       "  <thead>\n",
       "    <tr style=\"text-align: right;\">\n",
       "      <th></th>\n",
       "      <th>os</th>\n",
       "      <th>browser</th>\n",
       "      <th>category</th>\n",
       "    </tr>\n",
       "  </thead>\n",
       "  <tbody>\n",
       "    <tr>\n",
       "      <th>0</th>\n",
       "      <td>L</td>\n",
       "      <td>F</td>\n",
       "      <td>E</td>\n",
       "    </tr>\n",
       "    <tr>\n",
       "      <th>1</th>\n",
       "      <td>L</td>\n",
       "      <td>I</td>\n",
       "      <td>E</td>\n",
       "    </tr>\n",
       "  </tbody>\n",
       "</table>\n",
       "</div>"
      ],
      "text/plain": [
       "  os browser category\n",
       "0  L       F        E\n",
       "1  L       I        E"
      ]
     },
     "execution_count": 393,
     "metadata": {},
     "output_type": "execute_result"
    }
   ],
   "source": [
    "df_data.head(2)"
   ]
  },
  {
   "cell_type": "markdown",
   "metadata": {},
   "source": [
    "# Feature Transformation"
   ]
  },
  {
   "cell_type": "code",
   "execution_count": 394,
   "metadata": {
    "collapsed": true
   },
   "outputs": [],
   "source": [
    "df = df_data.copy()"
   ]
  },
  {
   "cell_type": "code",
   "execution_count": 395,
   "metadata": {
    "collapsed": false
   },
   "outputs": [],
   "source": [
    "def get_vectorized_df(df_input, columns):\n",
    "    \"\"\" TODO\n",
    "    \"\"\"\n",
    "    from sklearn.feature_extraction import DictVectorizer\n",
    "    import pandas as pd\n",
    "    df = df_input.copy()\n",
    "    df = df[columns].convert_objects(convert_numeric=True)\n",
    "    vectorizer = DictVectorizer(sparse=False) \n",
    "    df_vec = vectorizer.fit_transform(df.to_dict(orient='records'))\n",
    "    # dv.feature_names_ holds correspondence to the columns:\n",
    "    return (vectorizer, pd.DataFrame(data=df_vec, \n",
    "                        columns=vectorizer.feature_names_))\n",
    "    \n",
    "def get_label_encoded_column_df(df_input, column):\n",
    "    \"\"\"        \n",
    "    # Transform independent variable for regression input\n",
    "    \"\"\"\n",
    "    from sklearn import preprocessing\n",
    "    df = df_input.copy()\n",
    "    encoder = preprocessing.LabelEncoder()\n",
    "    encoder.fit(df[column].values)\n",
    "    encoded_labels = encoder.transform(df[column].values)\n",
    "    return (encoder, pd.DataFrame(data=encoded_labels, \n",
    "                        columns=[column]))"
   ]
  },
  {
   "cell_type": "code",
   "execution_count": 396,
   "metadata": {
    "collapsed": false
   },
   "outputs": [
    {
     "name": "stderr",
     "output_type": "stream",
     "text": [
      "/Users/charilaostsarouchas/anaconda/lib/python2.7/site-packages/ipykernel/__main__.py:7: FutureWarning: convert_objects is deprecated.  Use the data-type specific converters pd.to_datetime, pd.to_timedelta and pd.to_numeric.\n"
     ]
    }
   ],
   "source": [
    "# We label-encode the dependent variable and vectorize the independent variables\n",
    "encoder, df_Y = get_label_encoded_column_df(df, Y_COL)\n",
    "vectorizer, df_X = get_vectorized_df(df, X_COLS)\n"
   ]
  },
  {
   "cell_type": "code",
   "execution_count": 397,
   "metadata": {
    "collapsed": false
   },
   "outputs": [],
   "source": [
    "# We exclude baseline columns\n",
    "# This has to be done for each categorical variable separately\n",
    "# This is done to prevent multicollinearity, or the dummy variable trap caused by including a dummy variable for every single category.\n",
    "\n",
    "# here we do it 'manually', the last column of each group\n",
    "df_X = df_X.drop(['browser=S', 'os=W'], axis=1)"
   ]
  },
  {
   "cell_type": "code",
   "execution_count": 398,
   "metadata": {
    "collapsed": false
   },
   "outputs": [
    {
     "data": {
      "text/html": [
       "<div>\n",
       "<table border=\"1\" class=\"dataframe\">\n",
       "  <thead>\n",
       "    <tr style=\"text-align: right;\">\n",
       "      <th></th>\n",
       "      <th>browser=F</th>\n",
       "      <th>browser=I</th>\n",
       "      <th>os=L</th>\n",
       "      <th>os=M</th>\n",
       "    </tr>\n",
       "  </thead>\n",
       "  <tbody>\n",
       "    <tr>\n",
       "      <th>0</th>\n",
       "      <td>1.0</td>\n",
       "      <td>0.0</td>\n",
       "      <td>1.0</td>\n",
       "      <td>0.0</td>\n",
       "    </tr>\n",
       "    <tr>\n",
       "      <th>1</th>\n",
       "      <td>0.0</td>\n",
       "      <td>1.0</td>\n",
       "      <td>1.0</td>\n",
       "      <td>0.0</td>\n",
       "    </tr>\n",
       "  </tbody>\n",
       "</table>\n",
       "</div>"
      ],
      "text/plain": [
       "   browser=F  browser=I  os=L  os=M\n",
       "0        1.0        0.0   1.0   0.0\n",
       "1        0.0        1.0   1.0   0.0"
      ]
     },
     "execution_count": 398,
     "metadata": {},
     "output_type": "execute_result"
    }
   ],
   "source": [
    "df_X.head(2)"
   ]
  },
  {
   "cell_type": "code",
   "execution_count": 399,
   "metadata": {
    "collapsed": false
   },
   "outputs": [
    {
     "data": {
      "text/html": [
       "<div>\n",
       "<table border=\"1\" class=\"dataframe\">\n",
       "  <thead>\n",
       "    <tr style=\"text-align: right;\">\n",
       "      <th></th>\n",
       "      <th>category</th>\n",
       "    </tr>\n",
       "  </thead>\n",
       "  <tbody>\n",
       "    <tr>\n",
       "      <th>0</th>\n",
       "      <td>0</td>\n",
       "    </tr>\n",
       "    <tr>\n",
       "      <th>1</th>\n",
       "      <td>0</td>\n",
       "    </tr>\n",
       "  </tbody>\n",
       "</table>\n",
       "</div>"
      ],
      "text/plain": [
       "   category\n",
       "0         0\n",
       "1         0"
      ]
     },
     "execution_count": 399,
     "metadata": {},
     "output_type": "execute_result"
    }
   ],
   "source": [
    "df_Y.head(2)"
   ]
  },
  {
   "cell_type": "code",
   "execution_count": 400,
   "metadata": {
    "collapsed": false
   },
   "outputs": [
    {
     "name": "stdout",
     "output_type": "stream",
     "text": [
      "[{'browser=F': 1.0, 'browser=S': 1.0}, {'browser=S': 1.0, 'browser=I': 1.0}, {'browser=S': 1.0}, {'browser=S': 1.0}, {'browser=F': 1.0, 'os=L': 1.0}, {'os=L': 1.0, 'browser=I': 1.0}, {'os=L': 1.0}, {'os=L': 1.0}, {'browser=F': 1.0}, {'browser=I': 1.0}, {}, {}]\n",
      "{0: 'E', 1: 'M', 2: 'T'}\n"
     ]
    }
   ],
   "source": [
    "dependent_var_map = vectorizer.inverse_transform(df_X.values)\n",
    "independent_var_map = dict(zip(df_Y[Y_COL].values, encoder.inverse_transform(df_Y[Y_COL].values)))\n",
    "print dependent_var_map\n",
    "print independent_var_map"
   ]
  },
  {
   "cell_type": "markdown",
   "metadata": {},
   "source": [
    "# Model Fit"
   ]
  },
  {
   "cell_type": "code",
   "execution_count": 401,
   "metadata": {
    "collapsed": false
   },
   "outputs": [
    {
     "name": "stderr",
     "output_type": "stream",
     "text": [
      "/Users/charilaostsarouchas/anaconda/lib/python2.7/site-packages/sklearn/utils/validation.py:449: DataConversionWarning: A column-vector y was passed when a 1d array was expected. Please change the shape of y to (n_samples, ), for example using ravel().\n",
      "  y = column_or_1d(y, warn=True)\n"
     ]
    },
    {
     "data": {
      "text/plain": [
       "LogisticRegression(C=100000.0, class_weight=None, dual=False,\n",
       "          fit_intercept=True, intercept_scaling=1, max_iter=100,\n",
       "          multi_class='ovr', penalty='l2', random_state=None,\n",
       "          solver='liblinear', tol=0.0001, verbose=0)"
      ]
     },
     "execution_count": 401,
     "metadata": {},
     "output_type": "execute_result"
    }
   ],
   "source": [
    "from sklearn import linear_model, datasets\n",
    "logreg = linear_model.LogisticRegression(C=1e5)\n",
    "# we create an instance of Neighbours Classifier and fit the data.\n",
    "logreg.fit(df_X.values, df_Y.values)"
   ]
  },
  {
   "cell_type": "markdown",
   "metadata": {},
   "source": [
    "# Prediction"
   ]
  },
  {
   "cell_type": "code",
   "execution_count": 402,
   "metadata": {
    "collapsed": false
   },
   "outputs": [
    {
     "data": {
      "text/html": [
       "<div>\n",
       "<table border=\"1\" class=\"dataframe\">\n",
       "  <thead>\n",
       "    <tr style=\"text-align: right;\">\n",
       "      <th></th>\n",
       "      <th>os</th>\n",
       "      <th>browser</th>\n",
       "    </tr>\n",
       "  </thead>\n",
       "  <tbody>\n",
       "    <tr>\n",
       "      <th>0</th>\n",
       "      <td>L</td>\n",
       "      <td>F</td>\n",
       "    </tr>\n",
       "    <tr>\n",
       "      <th>1</th>\n",
       "      <td>M</td>\n",
       "      <td>S</td>\n",
       "    </tr>\n",
       "    <tr>\n",
       "      <th>2</th>\n",
       "      <td>W</td>\n",
       "      <td>F</td>\n",
       "    </tr>\n",
       "  </tbody>\n",
       "</table>\n",
       "</div>"
      ],
      "text/plain": [
       "  os browser\n",
       "0  L       F\n",
       "1  M       S\n",
       "2  W       F"
      ]
     },
     "execution_count": 402,
     "metadata": {},
     "output_type": "execute_result"
    }
   ],
   "source": [
    "df_test = pd.DataFrame(\n",
    "    data=[\n",
    "   ['L', 'F'],\n",
    "   ['M', 'S'],\n",
    "   ['W', 'F']\n",
    "   ], \n",
    "columns=['os', 'browser'])\n",
    "df_test"
   ]
  },
  {
   "cell_type": "code",
   "execution_count": 391,
   "metadata": {
    "collapsed": false
   },
   "outputs": [
    {
     "name": "stdout",
     "output_type": "stream",
     "text": [
      "  vara varb\n",
      "0    A    Y\n",
      "1    A    Y\n",
      "2    B    Z\n",
      "['vara=A', 'vara=B', 'varb=Y', 'varb=Z']\n",
      "[[ 1.  0.  1.  0.]\n",
      " [ 1.  0.  1.  0.]\n",
      " [ 0.  1.  0.  1.]]\n",
      "[[ 1.  0.  1.  0.]\n",
      " [ 1.  0.  0.  1.]\n",
      " [ 0.  1.  0.  0.]]\n",
      "[[ 1.  0.  0.  1.  0.]\n",
      " [ 1.  0.  0.  0.  1.]\n",
      " [ 0.  1.  1.  0.  0.]]\n"
     ]
    }
   ],
   "source": [
    "from sklearn.feature_extraction import DictVectorizer\n",
    "v = DictVectorizer(sparse=False)\n",
    "D = pd.DataFrame(data=[['A', 'Y'],\n",
    "                       ['A', 'Y'],\n",
    "                       ['B', 'Z']], columns=['vara', 'varb'])\n",
    "print D\n",
    "X = v.fit_transform(D.to_dict(orient='records'))\n",
    "print v.feature_names_\n",
    "print X\n",
    "D2 = pd.DataFrame(data=[['A', 'Y'],\n",
    "                        ['A', 'Z'],\n",
    "                        ['B', 'X']], columns=['vara', 'varb'])\n",
    " \n",
    "print v.transform(D2.to_dict(orient='records'))\n",
    "v2 = DictVectorizer(sparse=False)\n",
    "print v2.fit_transform(D2.to_dict(orient='records'))"
   ]
  },
  {
   "cell_type": "code",
   "execution_count": null,
   "metadata": {
    "collapsed": true
   },
   "outputs": [],
   "source": []
  },
  {
   "cell_type": "code",
   "execution_count": 378,
   "metadata": {
    "collapsed": false
   },
   "outputs": [
    {
     "name": "stdout",
     "output_type": "stream",
     "text": [
      "[{'os': 'L', 'browser': 'F'}, {'os': 'M', 'browser': 'S'}, {'os': 'W', 'browser': 'F'}]\n",
      "[{'browser=F': 1.0, 'os=L': 1.0}, {'browser=S': 1.0, 'os=L': 1.0}, {'os=L': 1.0}, {'os=L': 1.0}, {'browser=F': 1.0, 'os=M': 1.0}, {'os=M': 1.0, 'browser=S': 1.0}, {'os=M': 1.0}, {'os=M': 1.0}, {'browser=F': 1.0}, {'browser=S': 1.0}, {}, {}]\n"
     ]
    }
   ],
   "source": [
    "print df_test.to_dict(orient='records')\n",
    "vectorizer_inverse = vectorizer.inverse_transform(df_X.values)\n",
    "print vectorizer_inverse\n",
    "\n",
    "#df_test_vec = vectorizer.fit_transform(df_test.to_dict(orient='records'))\n"
   ]
  },
  {
   "cell_type": "code",
   "execution_count": 370,
   "metadata": {
    "collapsed": false
   },
   "outputs": [
    {
     "ename": "ValueError",
     "evalue": "X has 5 features per sample; expecting 4",
     "output_type": "error",
     "traceback": [
      "\u001b[0;31m---------------------------------------------------------------------------\u001b[0m",
      "\u001b[0;31mValueError\u001b[0m                                Traceback (most recent call last)",
      "\u001b[0;32m<ipython-input-370-1cbb40240b2c>\u001b[0m in \u001b[0;36m<module>\u001b[0;34m()\u001b[0m\n\u001b[1;32m      1\u001b[0m \u001b[0;31m# Predict class labels for samples in X.\u001b[0m\u001b[0;34m\u001b[0m\u001b[0;34m\u001b[0m\u001b[0m\n\u001b[0;32m----> 2\u001b[0;31m \u001b[0mlogreg\u001b[0m\u001b[0;34m.\u001b[0m\u001b[0mpredict\u001b[0m\u001b[0;34m(\u001b[0m\u001b[0mdf_test_vec\u001b[0m\u001b[0;34m)\u001b[0m\u001b[0;34m\u001b[0m\u001b[0m\n\u001b[0m",
      "\u001b[0;32m/Users/charilaostsarouchas/anaconda/lib/python2.7/site-packages/sklearn/linear_model/base.pyc\u001b[0m in \u001b[0;36mpredict\u001b[0;34m(self, X)\u001b[0m\n\u001b[1;32m    221\u001b[0m             \u001b[0mPredicted\u001b[0m \u001b[0;32mclass\u001b[0m \u001b[0mlabel\u001b[0m \u001b[0mper\u001b[0m \u001b[0msample\u001b[0m\u001b[0;34m.\u001b[0m\u001b[0;34m\u001b[0m\u001b[0m\n\u001b[1;32m    222\u001b[0m         \"\"\"\n\u001b[0;32m--> 223\u001b[0;31m         \u001b[0mscores\u001b[0m \u001b[0;34m=\u001b[0m \u001b[0mself\u001b[0m\u001b[0;34m.\u001b[0m\u001b[0mdecision_function\u001b[0m\u001b[0;34m(\u001b[0m\u001b[0mX\u001b[0m\u001b[0;34m)\u001b[0m\u001b[0;34m\u001b[0m\u001b[0m\n\u001b[0m\u001b[1;32m    224\u001b[0m         \u001b[0;32mif\u001b[0m \u001b[0mlen\u001b[0m\u001b[0;34m(\u001b[0m\u001b[0mscores\u001b[0m\u001b[0;34m.\u001b[0m\u001b[0mshape\u001b[0m\u001b[0;34m)\u001b[0m \u001b[0;34m==\u001b[0m \u001b[0;36m1\u001b[0m\u001b[0;34m:\u001b[0m\u001b[0;34m\u001b[0m\u001b[0m\n\u001b[1;32m    225\u001b[0m             \u001b[0mindices\u001b[0m \u001b[0;34m=\u001b[0m \u001b[0;34m(\u001b[0m\u001b[0mscores\u001b[0m \u001b[0;34m>\u001b[0m \u001b[0;36m0\u001b[0m\u001b[0;34m)\u001b[0m\u001b[0;34m.\u001b[0m\u001b[0mastype\u001b[0m\u001b[0;34m(\u001b[0m\u001b[0mnp\u001b[0m\u001b[0;34m.\u001b[0m\u001b[0mint\u001b[0m\u001b[0;34m)\u001b[0m\u001b[0;34m\u001b[0m\u001b[0m\n",
      "\u001b[0;32m/Users/charilaostsarouchas/anaconda/lib/python2.7/site-packages/sklearn/linear_model/base.pyc\u001b[0m in \u001b[0;36mdecision_function\u001b[0;34m(self, X)\u001b[0m\n\u001b[1;32m    202\u001b[0m         \u001b[0;32mif\u001b[0m \u001b[0mX\u001b[0m\u001b[0;34m.\u001b[0m\u001b[0mshape\u001b[0m\u001b[0;34m[\u001b[0m\u001b[0;36m1\u001b[0m\u001b[0;34m]\u001b[0m \u001b[0;34m!=\u001b[0m \u001b[0mn_features\u001b[0m\u001b[0;34m:\u001b[0m\u001b[0;34m\u001b[0m\u001b[0m\n\u001b[1;32m    203\u001b[0m             raise ValueError(\"X has %d features per sample; expecting %d\"\n\u001b[0;32m--> 204\u001b[0;31m                              % (X.shape[1], n_features))\n\u001b[0m\u001b[1;32m    205\u001b[0m \u001b[0;34m\u001b[0m\u001b[0m\n\u001b[1;32m    206\u001b[0m         scores = safe_sparse_dot(X, self.coef_.T,\n",
      "\u001b[0;31mValueError\u001b[0m: X has 5 features per sample; expecting 4"
     ]
    }
   ],
   "source": [
    "# Predict class labels for samples in X.\n",
    "logreg.predict(df_test_vec)"
   ]
  },
  {
   "cell_type": "code",
   "execution_count": 351,
   "metadata": {
    "collapsed": false
   },
   "outputs": [
    {
     "data": {
      "text/plain": [
       "array([[  9.99864245e-01,   9.75917308e-05,   3.81630360e-05]])"
      ]
     },
     "execution_count": 351,
     "metadata": {},
     "output_type": "execute_result"
    }
   ],
   "source": [
    "# Probability estimates. The returned estimates for all classes are ordered by the label of classes.\n",
    "logreg.predict_proba([1.0, 0.0, 1.0, 0.0])"
   ]
  },
  {
   "cell_type": "code",
   "execution_count": null,
   "metadata": {
    "collapsed": true
   },
   "outputs": [],
   "source": [
    "# from the predict_proba we see that it is so much more likely that the result belongs to category 0\n",
    "# which is what we get from the .predict method"
   ]
  }
 ],
 "metadata": {
  "kernelspec": {
   "display_name": "Python 2",
   "language": "python",
   "name": "python2"
  },
  "language_info": {
   "codemirror_mode": {
    "name": "ipython",
    "version": 2
   },
   "file_extension": ".py",
   "mimetype": "text/x-python",
   "name": "python",
   "nbconvert_exporter": "python",
   "pygments_lexer": "ipython2",
   "version": "2.7.12"
  }
 },
 "nbformat": 4,
 "nbformat_minor": 0
}
