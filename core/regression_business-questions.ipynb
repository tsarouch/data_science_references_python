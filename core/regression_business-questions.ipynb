{
 "cells": [
  {
   "cell_type": "code",
   "execution_count": 16,
   "metadata": {},
   "outputs": [],
   "source": [
    "import pandas as pd\n",
    "import seaborn as sns\n",
    "%matplotlib inline\n",
    "import matplotlib.pyplot as plt"
   ]
  },
  {
   "cell_type": "code",
   "execution_count": 25,
   "metadata": {
    "collapsed": true
   },
   "outputs": [],
   "source": [
    "# HINTS\n",
    "# http://www.ritchieng.com/machine-learning-project-boston-home-prices/"
   ]
  },
  {
   "cell_type": "markdown",
   "metadata": {},
   "source": [
    "## Get Data"
   ]
  },
  {
   "cell_type": "code",
   "execution_count": 9,
   "metadata": {},
   "outputs": [
    {
     "data": {
      "text/html": [
       "<div>\n",
       "<table border=\"1\" class=\"dataframe\">\n",
       "  <thead>\n",
       "    <tr style=\"text-align: right;\">\n",
       "      <th></th>\n",
       "      <th>CRIM</th>\n",
       "      <th>ZN</th>\n",
       "      <th>INDUS</th>\n",
       "      <th>CHAS</th>\n",
       "      <th>NOX</th>\n",
       "      <th>RM</th>\n",
       "      <th>AGE</th>\n",
       "      <th>DIS</th>\n",
       "      <th>RAD</th>\n",
       "      <th>TAX</th>\n",
       "      <th>PTRATIO</th>\n",
       "      <th>B</th>\n",
       "      <th>LSTAT</th>\n",
       "      <th>PRICE</th>\n",
       "    </tr>\n",
       "  </thead>\n",
       "  <tbody>\n",
       "    <tr>\n",
       "      <th>0</th>\n",
       "      <td>0.00632</td>\n",
       "      <td>18.0</td>\n",
       "      <td>2.31</td>\n",
       "      <td>0.0</td>\n",
       "      <td>0.538</td>\n",
       "      <td>6.575</td>\n",
       "      <td>65.2</td>\n",
       "      <td>4.0900</td>\n",
       "      <td>1.0</td>\n",
       "      <td>296.0</td>\n",
       "      <td>15.3</td>\n",
       "      <td>396.90</td>\n",
       "      <td>4.98</td>\n",
       "      <td>24.0</td>\n",
       "    </tr>\n",
       "    <tr>\n",
       "      <th>1</th>\n",
       "      <td>0.02731</td>\n",
       "      <td>0.0</td>\n",
       "      <td>7.07</td>\n",
       "      <td>0.0</td>\n",
       "      <td>0.469</td>\n",
       "      <td>6.421</td>\n",
       "      <td>78.9</td>\n",
       "      <td>4.9671</td>\n",
       "      <td>2.0</td>\n",
       "      <td>242.0</td>\n",
       "      <td>17.8</td>\n",
       "      <td>396.90</td>\n",
       "      <td>9.14</td>\n",
       "      <td>21.6</td>\n",
       "    </tr>\n",
       "    <tr>\n",
       "      <th>2</th>\n",
       "      <td>0.02729</td>\n",
       "      <td>0.0</td>\n",
       "      <td>7.07</td>\n",
       "      <td>0.0</td>\n",
       "      <td>0.469</td>\n",
       "      <td>7.185</td>\n",
       "      <td>61.1</td>\n",
       "      <td>4.9671</td>\n",
       "      <td>2.0</td>\n",
       "      <td>242.0</td>\n",
       "      <td>17.8</td>\n",
       "      <td>392.83</td>\n",
       "      <td>4.03</td>\n",
       "      <td>34.7</td>\n",
       "    </tr>\n",
       "  </tbody>\n",
       "</table>\n",
       "</div>"
      ],
      "text/plain": [
       "      CRIM    ZN  INDUS  CHAS    NOX     RM   AGE     DIS  RAD    TAX  \\\n",
       "0  0.00632  18.0   2.31   0.0  0.538  6.575  65.2  4.0900  1.0  296.0   \n",
       "1  0.02731   0.0   7.07   0.0  0.469  6.421  78.9  4.9671  2.0  242.0   \n",
       "2  0.02729   0.0   7.07   0.0  0.469  7.185  61.1  4.9671  2.0  242.0   \n",
       "\n",
       "   PTRATIO       B  LSTAT  PRICE  \n",
       "0     15.3  396.90   4.98   24.0  \n",
       "1     17.8  396.90   9.14   21.6  \n",
       "2     17.8  392.83   4.03   34.7  "
      ]
     },
     "execution_count": 9,
     "metadata": {},
     "output_type": "execute_result"
    }
   ],
   "source": [
    "from sklearn.datasets import load_boston\n",
    "boston = load_boston()\n",
    "\n",
    "# features\n",
    "df = pd.DataFrame(boston.data)\n",
    "df.columns = boston.feature_names\n",
    "# dependent variable\n",
    "df['PRICE'] = boston.target\n",
    "df.head(3)"
   ]
  },
  {
   "cell_type": "markdown",
   "metadata": {},
   "source": [
    "## Simple Linear Regression\n",
    "We use only one variable (here we choose _lstat_) as feature and we want to predict _price_.\n",
    "- is there a relationship between _price_ and _lstat_ feature?\n",
    "- how strong is the relationship?\n",
    "- how accurately can we predict _price_ based on _lstat_ feature?\n",
    "- is the relationship linear? "
   ]
  },
  {
   "cell_type": "code",
   "execution_count": 29,
   "metadata": {
    "collapsed": true
   },
   "outputs": [],
   "source": [
    "# Lets use only one feature\n",
    "df1 = df[['LSTAT', 'PRICE']]\n",
    "X = df1['LSTAT']\n",
    "y = df1['PRICE']"
   ]
  },
  {
   "cell_type": "code",
   "execution_count": 17,
   "metadata": {},
   "outputs": [
    {
     "data": {
      "image/png": "[encoded data removed]",
      "text/plain": [
       "<matplotlib.figure.Figure at 0x111a860d0>"
      ]
     },
     "metadata": {},
     "output_type": "display_data"
    }
   ],
   "source": [
    "sns.jointplot(x=\"LSTAT\", y=\"PRICE\", data=df, kind=\"reg\", size=4);"
   ]
  },
  {
   "cell_type": "code",
   "execution_count": 58,
   "metadata": {
    "collapsed": true
   },
   "outputs": [],
   "source": [
    "import matplotlib.pyplot as plt\n",
    "import numpy as np\n",
    "from sklearn.linear_model import LinearRegression\n",
    "from sklearn.metrics import mean_squared_error, r2_score, explained_variance_score"
   ]
  },
  {
   "cell_type": "code",
   "execution_count": 60,
   "metadata": {},
   "outputs": [
    {
     "name": "stdout",
     "output_type": "stream",
     "text": [
      "b0:  [ 34.55384088]\n",
      "b1:  [-0.95004935]\n",
      "Mean squared error:  38.4829672299\n",
      "R^2 score :  0.544146297586\n",
      "Explained variance score (in simple regression = R^2:  0.544146297586\n",
      "pearson correlation:  (-0.73766272617401474, 5.0811033943890015e-88)\n"
     ]
    }
   ],
   "source": [
    "lr = LinearRegression()\n",
    "lr.fit(X.to_frame(), y.to_frame())\n",
    "# check that the coeffients are the expected ones.\n",
    "b1 = lr.coef_[0]\n",
    "b0 = lr.intercept_\n",
    "print \"b0: \", b0\n",
    "print \"b1: \", b1\n",
    "\n",
    "y_pred = lr.predict(X.to_frame())\n",
    "print \"Mean squared error: \", mean_squared_error(y, y_pred)\n",
    "print 'R^2 score : ', r2_score(y, y_pred)\n",
    "print 'Explained variance score (in simple regression = R^2): ', explained_variance_score(y, y_pred)\n",
    "\n",
    "# correlation\n",
    "from scipy.stats import pearsonr\n",
    "print \"pearson correlation: \", pearsonr(X, y)\n",
    "\n",
    "# p-values\n",
    "# scikit-learn's LinearRegression doesn't calculate this information.\n",
    "# we can take a look at statsmodels for this kind of statistical analysis in Python."
   ]
  },
  {
   "cell_type": "code",
   "execution_count": 21,
   "metadata": {},
   "outputs": [
    {
     "name": "stdout",
     "output_type": "stream",
     "text": [
      "slope:  -0.950049353758\n",
      "intercept:  34.5538408794\n",
      "R^2:  0.544146297586\n",
      "Standard Error:  0.0387334162126\n",
      "p-value  5.08110339439e-88\n"
     ]
    }
   ],
   "source": [
    "from scipy import stats\n",
    "slope, intercept, r_value, p_value, std_err = stats.linregress(df[\"LSTAT\"], df[\"PRICE\"])\n",
    "print \"slope: \", slope\n",
    "print \"intercept: \", intercept \n",
    "print \"R^2: \",  r_value * r_value\n",
    "print \"Standard Error: \", std_err\n",
    "print \"p-value \", p_value"
   ]
  },
  {
   "cell_type": "markdown",
   "metadata": {},
   "source": [
    "- is there a relationship between price and lstat feature ?\n",
    "\n",
    "In simple linear regression setting, we can simply check whether β1 =0 or not. Here β1 =-0.95 != 0 so  there is a relationship between price and lstat.\n",
    "\n",
    "Accordingly, the _p-value_ (associated with the t-statistic) is << 1 so the alternative hypothesis is correct => there is some relationshop between _lstat_ and _price_"
   ]
  },
  {
   "cell_type": "markdown",
   "metadata": {},
   "source": [
    "- how strong is the relationship?\n",
    "\n",
    "This can be answered saying that, given a cerntain X, can we predict y with a a high level of accuracy? Or the prediction is slightly better than a random guess? \n",
    "\n",
    "The quantity to help us here is R^2 statistic.\n",
    "\n",
    "R^2  measures the proportion of the variability of y that can be explained using X. \n",
    "\n",
    "Also R^2, in simple linear regression, is equal to r^2 = squared correlation, a measure of the linear relationship between X and y.\n",
    "\n",
    "Hear R^2 = 0.5 so it is a relatively good value R^2ε[0,1]. It is challenging though to determine what is _good_ R^2. It depends on the application."
   ]
  },
  {
   "cell_type": "markdown",
   "metadata": {},
   "source": [
    "- how accurately can we predict _price_ (based on _lstat_ feature) ?\n",
    "\n",
    "=> use prediction interval: if we want to predict individual response<br>\n",
    "=> use confidence interval: if we want to predict the average response."
   ]
  },
  {
   "cell_type": "markdown",
   "metadata": {},
   "source": [
    "- is the relationship linear? \n",
    "\n",
    "The reply can come by plotting the residuals. If the relationship is linear then the residuals should not show any pattern."
   ]
  },
  {
   "cell_type": "markdown",
   "metadata": {},
   "source": [
    "## Multiple Linear Regression\n",
    "We use few variables (here we choose _lstat_, _age_, and _indus_) as features and we want to predict _price_.\n",
    "- is at least one of the predictors useful in predicting the price?\n",
    "- which predictors help predicting price? All or a subset of them helping?\n",
    "- how well does the model fit the data ?\n",
    "- given a set of predictor values, what response value should we predict and what is our efficiency of prediction ? "
   ]
  },
  {
   "cell_type": "code",
   "execution_count": 24,
   "metadata": {
    "collapsed": true
   },
   "outputs": [],
   "source": [
    "# Lets use only one feature\n",
    "X = df[['LSTAT', 'AGE', 'INDUS']]\n",
    "y = df['PRICE']"
   ]
  },
  {
   "cell_type": "markdown",
   "metadata": {},
   "source": [
    "- is at least one of the predictors useful in predicting the price?\n",
    "\n",
    "In multiple regression setting, we check wether β1=β2=β3=...=0.<br>\n",
    "In multiple regression the F-statistic is used to determine wether or not we reject H0. <br>\n",
    "So we look at the correspoinding p-value to the F-statistic.\n"
   ]
  },
  {
   "cell_type": "markdown",
   "metadata": {},
   "source": [
    "- which predictors help predicting price? All or a subset of them helping?\n",
    "\n",
    "=> One way is to examine the p-values associated with each predictors t-statistic. If low we keep the relative predictors help. BUT if this way might lead t ofalse discoveries (e.g. if p is large)<br>\n",
    "=> Another way is to models with different subsets of variables, user metrics for model quality and get best score."
   ]
  },
  {
   "cell_type": "markdown",
   "metadata": {},
   "source": [
    "- how well does the model fit the data ?\n",
    "\n",
    "=>We check the fraction of variance explained: R^2. <br>\n",
    "=>Plotting of data will also give us good insights.\n",
    "    "
   ]
  },
  {
   "cell_type": "markdown",
   "metadata": {},
   "source": [
    "- given a set of predictor values, what response value should we predict and what is our efficiency of prediction ? \n",
    "\n",
    "=> use prediction interval: if we want to predict individual response<br>\n",
    "=> use confidence interval: if we want to predict the average response."
   ]
  },
  {
   "cell_type": "code",
   "execution_count": null,
   "metadata": {
    "collapsed": true
   },
   "outputs": [],
   "source": []
  }
 ],
 "metadata": {
  "kernelspec": {
   "display_name": "Python 2",
   "language": "python",
   "name": "python2"
  },
  "language_info": {
   "codemirror_mode": {
    "name": "ipython",
    "version": 2
   },
   "file_extension": ".py",
   "mimetype": "text/x-python",
   "name": "python",
   "nbconvert_exporter": "python",
   "pygments_lexer": "ipython2",
   "version": "2.7.12"
  }
 },
 "nbformat": 4,
 "nbformat_minor": 2
}
