{
 "cells": [
  {
   "cell_type": "code",
   "execution_count": 55,
   "metadata": {},
   "outputs": [],
   "source": [
    "import numpy as np\n",
    "import pandas as pd\n",
    "import scipy as sp\n",
    "import scipy.stats\n",
    "from sklearn.utils import resample\n",
    "import math\n",
    "import matplotlib.pyplot as plt\n",
    "from matplotlib import pyplot\n"
   ]
  },
  {
   "cell_type": "code",
   "execution_count": 67,
   "metadata": {},
   "outputs": [],
   "source": [
    "# interesting explanation here: http://www.statisticshowto.com/probability-and-statistics/confidence-interval/"
   ]
  },
  {
   "cell_type": "code",
   "execution_count": 105,
   "metadata": {},
   "outputs": [],
   "source": [
    "# Empirical Confidence Intervals using Bootstrap:\n",
    "# https://machinelearningmastery.com/calculate-bootstrap-confidence-intervals-machine-learning-results-python/  "
   ]
  },
  {
   "cell_type": "markdown",
   "metadata": {},
   "source": [
    "To keep in mind. \n",
    "- When a $\\alpha=95%$ C.I. is asked => The values at the 2.5 ($(1-\\alpha)/2)$) and 97.5 ($ \\alpha+((1-\\alpha)/2)$) percentiles are selected."
   ]
  },
  {
   "cell_type": "markdown",
   "metadata": {},
   "source": [
    "## Use-Case: CI for normal distribution - Bootstrap"
   ]
  },
  {
   "cell_type": "markdown",
   "metadata": {},
   "source": [
    "The size of the sample taken each iteration may be limited to e.g. 60% or 80% of the available data. This will mean that there will be some samples that are not included in the sample. These are called out of bag (OOB) samples."
   ]
  },
  {
   "cell_type": "code",
   "execution_count": null,
   "metadata": {},
   "outputs": [],
   "source": [
    "# This is our distribution (we assume gaussian)\n",
    "data = np.random.normal(240, 25, 1000)"
   ]
  },
  {
   "cell_type": "markdown",
   "metadata": {},
   "source": [
    "### - using Bootstrap"
   ]
  },
  {
   "cell_type": "code",
   "execution_count": 15,
   "metadata": {},
   "outputs": [
    {
     "name": "stdout",
     "output_type": "stream",
     "text": [
      "The sample mean is:  239.35046995406907\n",
      "95.0 confidence interval 237.6% and 241.1%\n"
     ]
    }
   ],
   "source": [
    "# we want to calcluate the 95CI (alpha = 0.95)\n",
    "alpha = 0.95\n",
    "\n",
    "# out data\n",
    "data = np.random.normal(240, 25, 1000)\n",
    "print \"The sample mean is: \", data.mean()\n",
    "\n",
    "# now we get the least of mean values using bootstrap in an iteration\n",
    "# bootstrap leaves out 20% \n",
    "n_size = int(len(data) * 0.80)\n",
    "means = []\n",
    "for iteration in range(0, 1000):\n",
    "    data_bootstrap = resample(data, n_samples=n_size)\n",
    "    means.append(data_bootstrap.mean())\n",
    "    \n",
    "# get the confidence intervals \n",
    "# confidence intervals\n",
    "p = ((1.0-alpha)/2.0) * 100\n",
    "lower = np.percentile(means, p)\n",
    "p = (alpha+((1.0-alpha)/2.0)) * 100\n",
    "upper = np.percentile(means, p)\n",
    "print('%.1f confidence interval %.1f%% and %.1f%%' % (alpha*100, lower, upper))"
   ]
  },
  {
   "cell_type": "code",
   "execution_count": 16,
   "metadata": {},
   "outputs": [
    {
     "data": {
      "image/png": "[encoded data removed]",
      "text/plain": [
       "<matplotlib.figure.Figure at 0x119d75c50>"
      ]
     },
     "metadata": {},
     "output_type": "display_data"
    }
   ],
   "source": [
    "# plot The histogram of means\n",
    "m = np.array(means).mean()\n",
    "_ = plt.hist(means)\n",
    "_ = plt.axvline(x=m, color='red')\n",
    "_ = plt.axvline(x=lower, color='red')\n",
    "_ = plt.axvline(x=upper, color='red'); "
   ]
  },
  {
   "cell_type": "code",
   "execution_count": 17,
   "metadata": {},
   "outputs": [
    {
     "data": {
      "image/png": "[encoded data removed]",
      "text/plain": [
       "<matplotlib.figure.Figure at 0x119ebdad0>"
      ]
     },
     "metadata": {},
     "output_type": "display_data"
    }
   ],
   "source": [
    "# plot the histogram of initial data with the confidence intervals\n",
    "_ = plt.hist(data)\n",
    "_ = plt.axvline(x=m, color='red')\n",
    "_ = plt.axvline(x=lower, color='red')\n",
    "_ = plt.axvline(x=upper, color='red'); "
   ]
  },
  {
   "cell_type": "markdown",
   "metadata": {},
   "source": [
    "### - using t-distribution table"
   ]
  },
  {
   "cell_type": "code",
   "execution_count": 18,
   "metadata": {},
   "outputs": [
    {
     "name": "stdout",
     "output_type": "stream",
     "text": [
      "-1.9623414611334487 0.8183743775066977 -1.6059299717106696 240.95639992577975 237.7445399823584\n"
     ]
    }
   ],
   "source": [
    "\n",
    "\n",
    "# This is the wanted confidence level\n",
    "CL = 0.95 \n",
    "\n",
    "# we calculate the degrees of freedom\n",
    "N = len(data)\n",
    "dof = N-1 # degrees of freedom ~ N for big numbers.\n",
    "\n",
    "# we use a t-distribution table (here from scipy) \n",
    "# ppf: percent point function (inverse of cdf)\n",
    "t_table_val = scipy.stats.t.ppf((1-CL)/2., dof)\n",
    "\n",
    "m = np.mean(data)\n",
    "h = np.std(data)/math.sqrt(N) * t_table_val\n",
    "print t_table_val, np.std(data)/math.sqrt(N) , h,  m-h, m+h"
   ]
  },
  {
   "cell_type": "code",
   "execution_count": 19,
   "metadata": {},
   "outputs": [
    {
     "data": {
      "image/png": "[encoded data removed]",
      "text/plain": [
       "<matplotlib.figure.Figure at 0x119efe1d0>"
      ]
     },
     "metadata": {},
     "output_type": "display_data"
    }
   ],
   "source": [
    "_ = plt.hist(data)\n",
    "_ = plt.axvline(x=m, color='red')\n",
    "_ = plt.axvline(x=m-h, color='red'); _ = plt.axvline(x=m+h, color='red')"
   ]
  },
  {
   "cell_type": "markdown",
   "metadata": {},
   "source": [
    "## Use-Case: Confidence and Prediction Intervals of correlation"
   ]
  },
  {
   "cell_type": "code",
   "execution_count": 100,
   "metadata": {},
   "outputs": [
    {
     "name": "stdout",
     "output_type": "stream",
     "text": [
      "0.0\n",
      "0.0\n",
      "0.0\n"
     ]
    },
    {
     "data": {
      "image/png": "[encoded data removed]",
      "text/plain": [
       "<matplotlib.figure.Figure at 0x1c19eef9d0>"
      ]
     },
     "metadata": {},
     "output_type": "display_data"
    }
   ],
   "source": [
    "import statsmodels.api as sm\n",
    "from statsmodels.stats.outliers_influence import summary_table\n",
    "from statsmodels.sandbox.regression.predstd import wls_prediction_std\n",
    "\n",
    "nmuestra = 100\n",
    "\n",
    "x = np.linspace(0, 10, nmuestra)\n",
    "e = np.random.normal(size=nmuestra)\n",
    "y = 1 + 0.5*x + 2*e\n",
    "X = sm.add_constant(x)\n",
    "\n",
    "re = sm.OLS(y, X).fit()\n",
    "\n",
    "st, data, ss2 = summary_table(re, alpha=0.05)\n",
    "\n",
    "prstd, iv_l, iv_u = wls_prediction_std(re)\n",
    "\n",
    "\n",
    "\n",
    "fittedvalues = data[:,2]\n",
    "predict_mean_se  = data[:,3]\n",
    "predict_mean_ci_low, predict_mean_ci_upp = data[:,4:6].T\n",
    "predict_ci_low, predict_ci_upp = data[:,6:8].T\n",
    "\n",
    "# check we got the right things\n",
    "print np.max(np.abs(re.fittedvalues - fittedvalues))\n",
    "print np.max(np.abs(iv_l - predict_ci_low))\n",
    "print np.max(np.abs(iv_u - predict_ci_upp))\n",
    "\n",
    "plt.plot(x, y, 'o')\n",
    "plt.plot(x, fittedvalues, '-', lw=2)\n",
    "plt.plot(x, predict_ci_low, 'r--', lw=2)\n",
    "plt.plot(x, predict_ci_upp, 'r--', lw=2)\n",
    "plt.plot(x, predict_mean_ci_low, 'r--', lw=2)\n",
    "plt.plot(x, predict_mean_ci_upp, 'r--', lw=2)\n",
    "plt.show()"
   ]
  },
  {
   "cell_type": "markdown",
   "metadata": {},
   "source": [
    "## Use-Case: Confidence Intervals for Classification Score"
   ]
  },
  {
   "cell_type": "code",
   "execution_count": 29,
   "metadata": {},
   "outputs": [],
   "source": [
    "from sklearn import datasets\n",
    "from sklearn.model_selection import train_test_split\n",
    "from sklearn.neighbors import KNeighborsClassifier\n",
    "from sklearn.metrics import accuracy_score, precision_score, recall_score"
   ]
  },
  {
   "cell_type": "code",
   "execution_count": 31,
   "metadata": {},
   "outputs": [
    {
     "name": "stdout",
     "output_type": "stream",
     "text": [
      "accuracy:  0.98  precision:  0.98125  recall:  0.98\n"
     ]
    }
   ],
   "source": [
    "# The typicall case where we calculate the scores (without any confidence intervals)\n",
    "iris=datasets.load_iris()\n",
    "x_train, x_test, y_train, y_test=train_test_split(iris.data,iris.target,test_size=0.33)\n",
    "clf=KNeighborsClassifier(n_neighbors=3).fit(x_train, y_train)\n",
    "\n",
    "a = accuracy_score(y_test, clf.predict(x_test))\n",
    "p = precision_score(y_test, clf.predict(x_test), average='weighted')\n",
    "r = recall_score(y_test, clf.predict(x_test), average='weighted')\n",
    "print \"accuracy: \",a, \" precision: \", p, \" recall: \", r"
   ]
  },
  {
   "cell_type": "code",
   "execution_count": 59,
   "metadata": {},
   "outputs": [
    {
     "data": {
      "text/html": [
       "<div>\n",
       "<style scoped>\n",
       "    .dataframe tbody tr th:only-of-type {\n",
       "        vertical-align: middle;\n",
       "    }\n",
       "\n",
       "    .dataframe tbody tr th {\n",
       "        vertical-align: top;\n",
       "    }\n",
       "\n",
       "    .dataframe thead th {\n",
       "        text-align: right;\n",
       "    }\n",
       "</style>\n",
       "<table border=\"1\" class=\"dataframe\">\n",
       "  <thead>\n",
       "    <tr style=\"text-align: right;\">\n",
       "      <th></th>\n",
       "      <th>sepal length (cm)</th>\n",
       "      <th>sepal width (cm)</th>\n",
       "      <th>petal length (cm)</th>\n",
       "      <th>petal width (cm)</th>\n",
       "      <th>target</th>\n",
       "    </tr>\n",
       "  </thead>\n",
       "  <tbody>\n",
       "    <tr>\n",
       "      <th>0</th>\n",
       "      <td>5.1</td>\n",
       "      <td>3.5</td>\n",
       "      <td>1.4</td>\n",
       "      <td>0.2</td>\n",
       "      <td>0.0</td>\n",
       "    </tr>\n",
       "    <tr>\n",
       "      <th>1</th>\n",
       "      <td>4.9</td>\n",
       "      <td>3.0</td>\n",
       "      <td>1.4</td>\n",
       "      <td>0.2</td>\n",
       "      <td>0.0</td>\n",
       "    </tr>\n",
       "  </tbody>\n",
       "</table>\n",
       "</div>"
      ],
      "text/plain": [
       "   sepal length (cm)  sepal width (cm)  petal length (cm)  petal width (cm)  \\\n",
       "0                5.1               3.5                1.4               0.2   \n",
       "1                4.9               3.0                1.4               0.2   \n",
       "\n",
       "   target  \n",
       "0     0.0  \n",
       "1     0.0  "
      ]
     },
     "execution_count": 59,
     "metadata": {},
     "output_type": "execute_result"
    }
   ],
   "source": [
    "df = pd.DataFrame(data= np.c_[iris['data'], iris['target']],\n",
    "                columns= iris['feature_names'] + ['target'])\n",
    "df.head(2)"
   ]
  },
  {
   "cell_type": "code",
   "execution_count": 118,
   "metadata": {},
   "outputs": [
    {
     "data": {
      "image/png": "[encoded data removed]",
      "text/plain": [
       "<matplotlib.figure.Figure at 0x1a1c6f5810>"
      ]
     },
     "metadata": {},
     "output_type": "display_data"
    },
    {
     "name": "stdout",
     "output_type": "stream",
     "text": [
      "95.0 confidence interval 66.7% and 100.0%\n"
     ]
    }
   ],
   "source": [
    "# now we ll calculate the scores adding the CI using bootstrap\n",
    "values = df.values\n",
    "# configure bootstrap\n",
    "n_iterations = 100\n",
    "n_size = int(len(data) * 0.50)\n",
    "\n",
    "# run bootstrap\n",
    "stats = list()\n",
    "for i in range(n_iterations):\n",
    "    try:\n",
    "        # prepare train and test sets\n",
    "        train = resample(values,replace=True, n_samples=n_size)\n",
    "        test = np.array([x for x in values if x.tolist() not in train.tolist()])\n",
    "       \n",
    "        # fit model\n",
    "        model = KNeighborsClassifier(n_neighbors=5)\n",
    "        model.fit(train[:, :-1], train[:,-1])\n",
    "        a = accuracy_score(test[:,-1], model.predict(test[:,:-1]))\n",
    "        stats.append(a)\n",
    "\n",
    "    except:\n",
    "        pass\n",
    "# plot scores\n",
    "pyplot.hist(stats)\n",
    "pyplot.show()\n",
    "\n",
    "# confidence intervals\n",
    "alpha = 0.95\n",
    "p = ((1.0-alpha)/2.0) * 100\n",
    "lower = max(0.0, np.percentile(stats, p))\n",
    "p = (alpha+((1.0-alpha)/2.0)) * 100\n",
    "upper = min(1.0, np.percentile(stats, p))\n",
    "print('%.1f confidence interval %.1f%% and %.1f%%' % (alpha*100, lower*100, upper*100))"
   ]
  },
  {
   "cell_type": "code",
   "execution_count": 119,
   "metadata": {},
   "outputs": [
    {
     "data": {
      "image/png": "[encoded data removed]",
      "text/plain": [
       "<matplotlib.figure.Figure at 0x119e7fad0>"
      ]
     },
     "metadata": {},
     "output_type": "display_data"
    }
   ],
   "source": [
    "_ = plt.hist(stats)\n",
    "_ = plt.axvline(x=np.array(stats).mean(), color='red')\n",
    "_ = plt.axvline(x=lower, color='red'); _ = plt.axvline(x=upper, color='red')"
   ]
  }
 ],
 "metadata": {
  "kernelspec": {
   "display_name": "Python 2",
   "language": "python",
   "name": "python2"
  },
  "language_info": {
   "codemirror_mode": {
    "name": "ipython",
    "version": 2
   },
   "file_extension": ".py",
   "mimetype": "text/x-python",
   "name": "python",
   "nbconvert_exporter": "python",
   "pygments_lexer": "ipython2",
   "version": "2.7.14"
  }
 },
 "nbformat": 4,
 "nbformat_minor": 2
}
