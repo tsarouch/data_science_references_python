{
 "cells": [
  {
   "cell_type": "markdown",
   "metadata": {},
   "source": [
    "# Common Use Cases when dealing with Hypothesis Testing"
   ]
  },
  {
   "cell_type": "code",
   "execution_count": 146,
   "metadata": {
    "collapsed": true
   },
   "outputs": [],
   "source": [
    "import random\n",
    "import pandas as pd\n",
    "import numpy as np"
   ]
  },
  {
   "cell_type": "markdown",
   "metadata": {},
   "source": [
    "## USE-CASE: Testing Proportions "
   ]
  },
  {
   "cell_type": "markdown",
   "metadata": {},
   "source": [
    "### Is coin biased ?\n",
    "- We toss coin 250 times, 140 heads, 120 tails. "
   ]
  },
  {
   "cell_type": "code",
   "execution_count": 197,
   "metadata": {},
   "outputs": [
    {
     "name": "stdout",
     "output_type": "stream",
     "text": [
      "(140, 110) 250\n"
     ]
    }
   ],
   "source": [
    "# se have:\n",
    "n_h = 140\n",
    "n_t = 110\n",
    "observations = (n_h, n_t)\n",
    "n_observations = n_h + n_t\n",
    "print observations, n_observations, "
   ]
  },
  {
   "cell_type": "code",
   "execution_count": 198,
   "metadata": {},
   "outputs": [],
   "source": [
    "# We define the null hypothesis and the test statistic\n",
    "\n",
    "def run_null_hypothesis(n_observations):\n",
    "    \"\"\"the model of Null hypothesis\"\"\"\n",
    "    sample = [random.choice('HT') for _ in range(n_observations)]\n",
    "    df = pd.DataFrame(sample)\n",
    "    value_counts = df[0].value_counts()\n",
    "    n_heads = value_counts['H']\n",
    "    n_tails = value_counts['T']\n",
    "    return (n_heads, n_tails)\n",
    "\n",
    "def test_statistic((n_heads, n_tails)):\n",
    "    \"\"\"Computes the test statistic\"\"\"\n",
    "    return abs(n_heads - n_tails)"
   ]
  },
  {
   "cell_type": "code",
   "execution_count": 199,
   "metadata": {},
   "outputs": [
    {
     "name": "stdout",
     "output_type": "stream",
     "text": [
      "Test Statistic for Null Hypothesis H0: 18\n",
      "Test Statistic for Hypothesis H1: 30\n"
     ]
    }
   ],
   "source": [
    "test_stat_H0 = test_statistic(run_null_hypothesis(n_observations))\n",
    "test_stat_H1 = test_statistic(observations)\n",
    "\n",
    "print \"Test Statistic for Null Hypothesis H0:\",  test_stat_H0\n",
    "print \"Test Statistic for Hypothesis H1:\",  test_stat_H1"
   ]
  },
  {
   "cell_type": "code",
   "execution_count": 200,
   "metadata": {},
   "outputs": [
    {
     "name": "stdout",
     "output_type": "stream",
     "text": [
      "The p-value is:  0.068\n"
     ]
    }
   ],
   "source": [
    "# we perform iterations for good statistics\n",
    "N_ITER = 1000\n",
    "test_stat_H0_v = [test_statistic(run_null_hypothesis(n_observations)) for _ in range(N_ITER)]\n",
    "\n",
    "p_value = 1. * sum([1 for test_stat_H0 in test_stat_H0_v if test_stat_H0 >= test_stat_H1])/N_ITER\n",
    "print \"The p-value is: \", p_value"
   ]
  },
  {
   "cell_type": "markdown",
   "metadata": {},
   "source": [
    "### Is dice crooked ?\n",
    "- we have the frequencies {1:8, 2:9, 3:19, 4:5, 6:8, 6:11}"
   ]
  },
  {
   "cell_type": "code",
   "execution_count": 201,
   "metadata": {},
   "outputs": [
    {
     "name": "stdout",
     "output_type": "stream",
     "text": [
      "60\n"
     ]
    }
   ],
   "source": [
    "observations = {1:8, 2:9, 3:19, 4:5, 5:8, 6:11}\n",
    "\n",
    "observations_frequencies = np.array(observations.values())\n",
    "n_dice_drops = np.sum(observations_frequencies)\n",
    "print n_dice_drops"
   ]
  },
  {
   "cell_type": "code",
   "execution_count": 202,
   "metadata": {},
   "outputs": [],
   "source": [
    "def run_null_hypothesis(n_dice_drops):\n",
    "    \"\"\"the model of Null hypothesis\"\"\"\n",
    "    dice_values = [1, 2, 3, 4, 5, 6]\n",
    "    rolls = np.random.choice(dice_values, n_dice_drops, replace=True)\n",
    "    return np.array(dict(pd.DataFrame(rolls)[0].value_counts()).values())\n",
    "\n",
    "def test_statistic(dice_frequencies, n_dice_drops):\n",
    "    \"\"\"Computes the test statistic\"\"\"\n",
    "    expected_frequencies = np.ones(6) * n_dice_drops / 6.\n",
    "    return sum(abs(dice_frequencies - expected_frequencies))"
   ]
  },
  {
   "cell_type": "code",
   "execution_count": 203,
   "metadata": {},
   "outputs": [
    {
     "name": "stdout",
     "output_type": "stream",
     "text": [
      "Test Statistic for Null Hypothesis H0: 16.0\n",
      "Test Statistic for Hypothesis H1: 20.0\n"
     ]
    }
   ],
   "source": [
    "test_stat_H0 = test_statistic(run_null_hypothesis(n_dice_drops), n_dice_drops)\n",
    "test_stat_H1 = test_statistic(observations_frequencies, n_dice_drops)\n",
    "\n",
    "print \"Test Statistic for Null Hypothesis H0:\",  test_stat_H0\n",
    "print \"Test Statistic for Hypothesis H1:\",  test_stat_H1\n"
   ]
  },
  {
   "cell_type": "code",
   "execution_count": 207,
   "metadata": {},
   "outputs": [
    {
     "name": "stdout",
     "output_type": "stream",
     "text": [
      "The p-value is:  0.135\n"
     ]
    }
   ],
   "source": [
    "# we perform iterations for good statistics\n",
    "N_ITER = 1000\n",
    "test_stat_H0_v = [test_statistic(run_null_hypothesis(n_dice_drops), n_dice_drops) for _ in range(N_ITER)]\n",
    "\n",
    "p_value = 1. * sum([1 for test_stat_H0 in test_stat_H0_v if test_stat_H0 >= test_stat_H1])/N_ITER\n",
    "print \"The p-value is: \", p_value"
   ]
  },
  {
   "cell_type": "code",
   "execution_count": null,
   "metadata": {
    "collapsed": true
   },
   "outputs": [],
   "source": []
  }
 ],
 "metadata": {
  "kernelspec": {
   "display_name": "Python 2",
   "language": "python",
   "name": "python2"
  },
  "language_info": {
   "codemirror_mode": {
    "name": "ipython",
    "version": 2
   },
   "file_extension": ".py",
   "mimetype": "text/x-python",
   "name": "python",
   "nbconvert_exporter": "python",
   "pygments_lexer": "ipython2",
   "version": "2.7.12"
  }
 },
 "nbformat": 4,
 "nbformat_minor": 2
}
