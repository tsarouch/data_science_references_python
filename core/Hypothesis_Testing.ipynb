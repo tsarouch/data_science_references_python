{
 "cells": [
  {
   "cell_type": "markdown",
   "metadata": {},
   "source": [
    "## use-case: Testing Proportions "
   ]
  },
  {
   "cell_type": "markdown",
   "metadata": {},
   "source": [
    "- We toss coin 250 times, 140 heads, 120 tails. Is coin biased ?"
   ]
  },
  {
   "cell_type": "code",
   "execution_count": 96,
   "metadata": {},
   "outputs": [
    {
     "name": "stdout",
     "output_type": "stream",
     "text": [
      "(140, 110) 250\n"
     ]
    }
   ],
   "source": [
    "import random\n",
    "import pandas as pd\n",
    "\n",
    "# se have:\n",
    "n_h = 140\n",
    "n_t = 110\n",
    "observations = (n_h, n_t)\n",
    "n_observations = n_h + n_t\n",
    "print observations, n_observations, "
   ]
  },
  {
   "cell_type": "code",
   "execution_count": 126,
   "metadata": {},
   "outputs": [
    {
     "data": {
      "text/plain": [
       "(126, 124)"
      ]
     },
     "execution_count": 126,
     "metadata": {},
     "output_type": "execute_result"
    }
   ],
   "source": [
    "# We define the null hypothesis and the test statistic\n",
    "\n",
    "def run_null_hypothesis(n_observations):\n",
    "    \"\"\"the model of Null hypothesis\"\"\"\n",
    "    sample = [random.choice('HT') for _ in range(n_observations)]\n",
    "    df = pd.DataFrame(sample)\n",
    "    value_counts = df[0].value_counts()\n",
    "    n_heads = value_counts['H']\n",
    "    n_tails = value_counts['T']\n",
    "    return (n_heads, n_tails)\n",
    "\n",
    "def test_statistic((n_heads, n_tails)):\n",
    "    \"\"\"Computes the test statistic\"\"\"\n",
    "    return abs(n_heads - n_tails)"
   ]
  },
  {
   "cell_type": "code",
   "execution_count": 140,
   "metadata": {},
   "outputs": [
    {
     "name": "stdout",
     "output_type": "stream",
     "text": [
      "Test Statistic for Null Hypothesis H0: 22\n",
      "Test Statistic for Hypothesis H1: 30\n"
     ]
    }
   ],
   "source": [
    "test_stat_H0 = test_statistic(run_null_hypothesis(n_observations))\n",
    "test_stat_H1 = test_statistic(observations)\n",
    "\n",
    "\n",
    "print \"Test Statistic for Null Hypothesis H0:\",  test_stat_H0\n",
    "print \"Test Statistic for Hypothesis H1:\",  test_stat_H1"
   ]
  },
  {
   "cell_type": "code",
   "execution_count": 141,
   "metadata": {},
   "outputs": [
    {
     "name": "stdout",
     "output_type": "stream",
     "text": [
      "The p-value is:  0.061\n"
     ]
    }
   ],
   "source": [
    "# we perform iterations for good statistics\n",
    "N_ITER = 1000\n",
    "test_stat_H0_v = [test_statistic(run_model(n_observations)) for _ in range(N_ITER)]\n",
    "\n",
    "p_value = 1. * sum([1 for test_stat_H0 in test_stat_H0_v if test_stat_H0 >= test_stat_H1])/N_ITER\n",
    "print \"The p-value is: \", p_value"
   ]
  }
 ],
 "metadata": {
  "kernelspec": {
   "display_name": "Python 2",
   "language": "python",
   "name": "python2"
  },
  "language_info": {
   "codemirror_mode": {
    "name": "ipython",
    "version": 2
   },
   "file_extension": ".py",
   "mimetype": "text/x-python",
   "name": "python",
   "nbconvert_exporter": "python",
   "pygments_lexer": "ipython2",
   "version": "2.7.12"
  }
 },
 "nbformat": 4,
 "nbformat_minor": 2
}
