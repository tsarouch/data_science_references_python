{
 "cells": [
  {
   "cell_type": "markdown",
   "metadata": {},
   "source": [
    "# Common Use Cases when dealing with Hypothesis Testing"
   ]
  },
  {
   "cell_type": "code",
   "execution_count": 2,
   "metadata": {},
   "outputs": [],
   "source": [
    "import random\n",
    "import pandas as pd\n",
    "import numpy as np\n",
    "import matplotlib.pyplot as plt"
   ]
  },
  {
   "cell_type": "markdown",
   "metadata": {},
   "source": [
    "## USE-CASE: Testing Proportions "
   ]
  },
  {
   "cell_type": "markdown",
   "metadata": {},
   "source": [
    "### Is coin biased ?\n",
    "- We toss coin 250 times, 140 heads, 120 tails. "
   ]
  },
  {
   "cell_type": "code",
   "execution_count": 197,
   "metadata": {},
   "outputs": [
    {
     "name": "stdout",
     "output_type": "stream",
     "text": [
      "(140, 110) 250\n"
     ]
    }
   ],
   "source": [
    "# se have:\n",
    "n_h = 140\n",
    "n_t = 110\n",
    "observations = (n_h, n_t)\n",
    "n_observations = n_h + n_t\n",
    "print observations, n_observations, "
   ]
  },
  {
   "cell_type": "code",
   "execution_count": 198,
   "metadata": {},
   "outputs": [],
   "source": [
    "# We define the null hypothesis and the test statistic\n",
    "\n",
    "def run_null_hypothesis(n_observations):\n",
    "    \"\"\"the model of Null hypothesis\"\"\"\n",
    "    sample = [random.choice('HT') for _ in range(n_observations)]\n",
    "    df = pd.DataFrame(sample)\n",
    "    value_counts = df[0].value_counts()\n",
    "    n_heads = value_counts['H']\n",
    "    n_tails = value_counts['T']\n",
    "    return (n_heads, n_tails)\n",
    "\n",
    "def test_statistic((n_heads, n_tails)):\n",
    "    \"\"\"Computes the test statistic\"\"\"\n",
    "    return abs(n_heads - n_tails)"
   ]
  },
  {
   "cell_type": "code",
   "execution_count": 199,
   "metadata": {},
   "outputs": [
    {
     "name": "stdout",
     "output_type": "stream",
     "text": [
      "Test Statistic for Null Hypothesis H0: 18\n",
      "Test Statistic for Hypothesis H1: 30\n"
     ]
    }
   ],
   "source": [
    "test_stat_H0 = test_statistic(run_null_hypothesis(n_observations))\n",
    "test_stat_H1 = test_statistic(observations)\n",
    "\n",
    "print \"Test Statistic for Null Hypothesis H0:\",  test_stat_H0\n",
    "print \"Test Statistic for Hypothesis H1:\",  test_stat_H1"
   ]
  },
  {
   "cell_type": "code",
   "execution_count": 200,
   "metadata": {},
   "outputs": [
    {
     "name": "stdout",
     "output_type": "stream",
     "text": [
      "The p-value is:  0.068\n"
     ]
    }
   ],
   "source": [
    "# we perform iterations for good statistics\n",
    "N_ITER = 1000\n",
    "test_stat_H0_v = [test_statistic(run_null_hypothesis(n_observations)) for _ in range(N_ITER)]\n",
    "\n",
    "p_value = 1. * sum([1 for test_stat_H0 in test_stat_H0_v if test_stat_H0 >= test_stat_H1])/N_ITER\n",
    "print \"The p-value is: \", p_value"
   ]
  },
  {
   "cell_type": "markdown",
   "metadata": {},
   "source": [
    "### Is dice crooked ?\n",
    "- we have the frequencies {1:8, 2:9, 3:19, 4:5, 6:8, 6:11}"
   ]
  },
  {
   "cell_type": "code",
   "execution_count": 201,
   "metadata": {},
   "outputs": [
    {
     "name": "stdout",
     "output_type": "stream",
     "text": [
      "60\n"
     ]
    }
   ],
   "source": [
    "observations = {1:8, 2:9, 3:19, 4:5, 5:8, 6:11}\n",
    "\n",
    "observations_frequencies = np.array(observations.values())\n",
    "n_dice_drops = np.sum(observations_frequencies)\n",
    "print n_dice_drops"
   ]
  },
  {
   "cell_type": "code",
   "execution_count": 202,
   "metadata": {},
   "outputs": [],
   "source": [
    "def run_null_hypothesis(n_dice_drops):\n",
    "    \"\"\"the model of Null hypothesis\"\"\"\n",
    "    dice_values = [1, 2, 3, 4, 5, 6]\n",
    "    rolls = np.random.choice(dice_values, n_dice_drops, replace=True)\n",
    "    return np.array(dict(pd.DataFrame(rolls)[0].value_counts()).values())\n",
    "\n",
    "def test_statistic(dice_frequencies, n_dice_drops):\n",
    "    \"\"\"Computes the test statistic\"\"\"\n",
    "    expected_frequencies = np.ones(6) * n_dice_drops / 6.\n",
    "    return sum(abs(dice_frequencies - expected_frequencies))"
   ]
  },
  {
   "cell_type": "code",
   "execution_count": 203,
   "metadata": {},
   "outputs": [
    {
     "name": "stdout",
     "output_type": "stream",
     "text": [
      "Test Statistic for Null Hypothesis H0: 16.0\n",
      "Test Statistic for Hypothesis H1: 20.0\n"
     ]
    }
   ],
   "source": [
    "test_stat_H0 = test_statistic(run_null_hypothesis(n_dice_drops), n_dice_drops)\n",
    "test_stat_H1 = test_statistic(observations_frequencies, n_dice_drops)\n",
    "print \"Test Statistic for Null Hypothesis H0:\",  test_stat_H0\n",
    "print \"Test Statistic for Hypothesis H1:\",  test_stat_H1"
   ]
  },
  {
   "cell_type": "code",
   "execution_count": 207,
   "metadata": {},
   "outputs": [
    {
     "name": "stdout",
     "output_type": "stream",
     "text": [
      "The p-value is:  0.135\n"
     ]
    }
   ],
   "source": [
    "# we perform iterations for good statistics\n",
    "N_ITER = 1000\n",
    "test_stat_H0_v = [test_statistic(run_null_hypothesis(n_dice_drops), n_dice_drops) for _ in range(N_ITER)]\n",
    "\n",
    "p_value = 1. * sum([1 for test_stat_H0 in test_stat_H0_v if test_stat_H0 >= test_stat_H1])/N_ITER\n",
    "print \"The p-value is: \", p_value"
   ]
  },
  {
   "cell_type": "markdown",
   "metadata": {
    "collapsed": true
   },
   "source": [
    "## USE-CASE: Testing Difference in Means "
   ]
  },
  {
   "cell_type": "code",
   "execution_count": 141,
   "metadata": {},
   "outputs": [],
   "source": [
    "d1 = np.random.normal(38.601, 1.42, 1000)\n",
    "d2 = np.random.normal(38.523, 1.42, 1000)"
   ]
  },
  {
   "cell_type": "code",
   "execution_count": 142,
   "metadata": {},
   "outputs": [
    {
     "data": {
      "image/png": "[encoded data removed]",
      "text/plain": [
       "<matplotlib.figure.Figure at 0x11953d910>"
      ]
     },
     "metadata": {},
     "output_type": "display_data"
    }
   ],
   "source": [
    "plt.figure(1)\n",
    "plt.subplot(211)\n",
    "count, bins, ignored = plt.hist(d1, 30, normed=True)\n",
    "plt.figure(1)\n",
    "plt.subplot(211)\n",
    "count, bins, ignored = plt.hist(d2, 30, normed=True)\n",
    "\n",
    "# plt.plot(bins, 1/(sigma * np.sqrt(2 * np.pi)) *\n",
    "#                  np.exp( - (bins - mu)**2 / (2 * sigma**2) ),\n",
    "#            linewidth=2, color='r')\n",
    "plt.show()"
   ]
  },
  {
   "cell_type": "code",
   "execution_count": 143,
   "metadata": {},
   "outputs": [
    {
     "data": {
      "image/png": "[encoded data removed]",
      "text/plain": [
       "<matplotlib.figure.Figure at 0x119410d90>"
      ]
     },
     "metadata": {},
     "output_type": "display_data"
    }
   ],
   "source": [
    "# one way to model the null hypothesis is by permutations, shuffle values of the two distributions and treat them as one\n",
    "d_all = [i for i in d1] + [ i for i in d2]\n",
    "np.random.shuffle(d_all)\n",
    "count, bins, ignored = plt.hist(d_all, 30, normed=True)\n",
    "plt.show()"
   ]
  },
  {
   "cell_type": "code",
   "execution_count": 144,
   "metadata": {},
   "outputs": [],
   "source": [
    "def run_null_hypothesis(d1, d2):\n",
    "    \"\"\"the model of Null hypothesis - treat the two distributions as one\"\"\"\n",
    "    d_all = [i for i in d1] + [ i for i in d2]\n",
    "    np.random.shuffle(d_all)\n",
    "    return (d_all[:len(d1)], d_all[len(d1):])\n",
    "\n",
    "def test_statistic(d1, d2):\n",
    "    \"\"\"Computes the test statistic\"\"\"\n",
    "    test_stat = abs(np.mean(d1) - np.mean(d2))\n",
    "    return test_stat"
   ]
  },
  {
   "cell_type": "code",
   "execution_count": 145,
   "metadata": {},
   "outputs": [
    {
     "name": "stdout",
     "output_type": "stream",
     "text": [
      "Test Statistic for Null Hypothesis H0: 0.013518860691434043\n",
      "Test Statistic for Hypothesis H1: 0.016528175458191185\n"
     ]
    }
   ],
   "source": [
    "test_stat_H0 = test_statistic(*run_null_hypothesis(d1, d2))\n",
    "test_stat_H1 = test_statistic(d1, d2)\n",
    "print \"Test Statistic for Null Hypothesis H0:\",  test_stat_H0\n",
    "print \"Test Statistic for Hypothesis H1:\",  test_stat_H1"
   ]
  },
  {
   "cell_type": "code",
   "execution_count": 146,
   "metadata": {},
   "outputs": [
    {
     "name": "stdout",
     "output_type": "stream",
     "text": [
      "The p-value is:  0.802\n"
     ]
    }
   ],
   "source": [
    "# we perform iterations for good statistics\n",
    "N_ITER = 1000\n",
    "test_stat_H0_v = [test_statistic(*run_null_hypothesis(d1, d2)) for _ in range(N_ITER)]\n",
    "p_value = 1. * sum([1 for test_stat_H0 in test_stat_H0_v if test_stat_H0 >= test_stat_H1])/N_ITER\n",
    "print \"The p-value is: \", p_value"
   ]
  },
  {
   "cell_type": "code",
   "execution_count": 147,
   "metadata": {},
   "outputs": [],
   "source": [
    "# The p-value here is not small. \n",
    "# It means that we expect by chance to see an effect as big as the observed about 80% of time."
   ]
  },
  {
   "cell_type": "markdown",
   "metadata": {},
   "source": [
    "## USE-CASE: Testing a Correlation"
   ]
  },
  {
   "cell_type": "code",
   "execution_count": null,
   "metadata": {},
   "outputs": [],
   "source": []
  }
 ],
 "metadata": {
  "kernelspec": {
   "display_name": "Python 2",
   "language": "python",
   "name": "python2"
  },
  "language_info": {
   "codemirror_mode": {
    "name": "ipython",
    "version": 2
   },
   "file_extension": ".py",
   "mimetype": "text/x-python",
   "name": "python",
   "nbconvert_exporter": "python",
   "pygments_lexer": "ipython2",
   "version": "2.7.14"
  }
 },
 "nbformat": 4,
 "nbformat_minor": 2
}
