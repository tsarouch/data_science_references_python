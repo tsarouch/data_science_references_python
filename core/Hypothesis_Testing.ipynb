{
 "cells": [
  {
   "cell_type": "markdown",
   "metadata": {},
   "source": [
    "# Common Use Cases when dealing with Hypothesis Testing"
   ]
  },
  {
   "cell_type": "code",
   "execution_count": 2,
   "metadata": {},
   "outputs": [],
   "source": [
    "import random\n",
    "import pandas as pd\n",
    "import numpy as np\n",
    "import matplotlib.pyplot as plt"
   ]
  },
  {
   "cell_type": "markdown",
   "metadata": {},
   "source": [
    "## USE-CASE: Testing Proportions "
   ]
  },
  {
   "cell_type": "markdown",
   "metadata": {},
   "source": [
    "### Is coin biased ?\n",
    "- We toss coin 250 times, 140 heads, 120 tails. "
   ]
  },
  {
   "cell_type": "code",
   "execution_count": 197,
   "metadata": {},
   "outputs": [
    {
     "name": "stdout",
     "output_type": "stream",
     "text": [
      "(140, 110) 250\n"
     ]
    }
   ],
   "source": [
    "# se have:\n",
    "n_h = 140\n",
    "n_t = 110\n",
    "observations = (n_h, n_t)\n",
    "n_observations = n_h + n_t\n",
    "print observations, n_observations, "
   ]
  },
  {
   "cell_type": "code",
   "execution_count": 198,
   "metadata": {},
   "outputs": [],
   "source": [
    "# We define the null hypothesis and the test statistic\n",
    "\n",
    "def run_null_hypothesis(n_observations):\n",
    "    \"\"\"the model of Null hypothesis\"\"\"\n",
    "    sample = [random.choice('HT') for _ in range(n_observations)]\n",
    "    df = pd.DataFrame(sample)\n",
    "    value_counts = df[0].value_counts()\n",
    "    n_heads = value_counts['H']\n",
    "    n_tails = value_counts['T']\n",
    "    return (n_heads, n_tails)\n",
    "\n",
    "def test_statistic((n_heads, n_tails)):\n",
    "    \"\"\"Computes the test statistic\"\"\"\n",
    "    return abs(n_heads - n_tails)"
   ]
  },
  {
   "cell_type": "code",
   "execution_count": 199,
   "metadata": {},
   "outputs": [
    {
     "name": "stdout",
     "output_type": "stream",
     "text": [
      "Test Statistic for Null Hypothesis H0: 18\n",
      "Test Statistic for Hypothesis H1: 30\n"
     ]
    }
   ],
   "source": [
    "test_stat_H0 = test_statistic(run_null_hypothesis(n_observations))\n",
    "test_stat_H1 = test_statistic(observations)\n",
    "\n",
    "print \"Test Statistic for Null Hypothesis H0:\",  test_stat_H0\n",
    "print \"Test Statistic for Hypothesis H1:\",  test_stat_H1"
   ]
  },
  {
   "cell_type": "code",
   "execution_count": 200,
   "metadata": {},
   "outputs": [
    {
     "name": "stdout",
     "output_type": "stream",
     "text": [
      "The p-value is:  0.068\n"
     ]
    }
   ],
   "source": [
    "# we perform iterations for good statistics\n",
    "N_ITER = 1000\n",
    "test_stat_H0_v = [test_statistic(run_null_hypothesis(n_observations)) for _ in range(N_ITER)]\n",
    "\n",
    "p_value = 1. * sum([1 for test_stat_H0 in test_stat_H0_v if test_stat_H0 >= test_stat_H1])/N_ITER\n",
    "print \"The p-value is: \", p_value"
   ]
  },
  {
   "cell_type": "markdown",
   "metadata": {},
   "source": [
    "In the example above, like most of what will follow, we used the MC way to evaluate the p-value.\n",
    "Nevertheless, in many cases we can analytically, with the frequentist approach have an evaluation of the p-value.\n",
    "Below is show the way of getting a p-value using the Probability Mass Function (pmf) of the binomial distribution.\n",
    "The sucess (heads is up) process follows a Binomial distribution \n",
    "X ~ B(n,p)\n",
    "where n is the number of flips and p is the prob. of success (heads up) in each flip\n",
    "\n",
    "From the classical Hypothesis Test, the p-value will correspond to the probability of getting the effect we see (or even a more rare effect) under the Null Hypothesis.\n",
    "\n",
    "Here the H0 is that the coin is not biased => p=0.5\n",
    "And we have to sum up the probabilities (using the pmf) that we see k="
   ]
  },
  {
   "cell_type": "code",
   "execution_count": 238,
   "metadata": {},
   "outputs": [
    {
     "name": "stdout",
     "output_type": "stream",
     "text": [
      "The p-value using the frequentist approach is:  0.08071001025905322\n"
     ]
    }
   ],
   "source": [
    "p = 0\n",
    "for i in range(140, 250):\n",
    "    p += stats.distributions.binom.pmf(k,  250, 0.5)\n",
    "pval = 1-p\n",
    "print \"The p-value using the frequentist approach is: \" ,  pval "
   ]
  },
  {
   "cell_type": "markdown",
   "metadata": {},
   "source": [
    "### Is dice crooked ?\n",
    "- we have the frequencies {1:8, 2:9, 3:19, 4:5, 6:8, 6:11}"
   ]
  },
  {
   "cell_type": "code",
   "execution_count": 201,
   "metadata": {},
   "outputs": [
    {
     "name": "stdout",
     "output_type": "stream",
     "text": [
      "60\n"
     ]
    }
   ],
   "source": [
    "observations = {1:8, 2:9, 3:19, 4:5, 5:8, 6:11}\n",
    "\n",
    "observations_frequencies = np.array(observations.values())\n",
    "n_dice_drops = np.sum(observations_frequencies)\n",
    "print n_dice_drops"
   ]
  },
  {
   "cell_type": "code",
   "execution_count": 202,
   "metadata": {},
   "outputs": [],
   "source": [
    "def run_null_hypothesis(n_dice_drops):\n",
    "    \"\"\"the model of Null hypothesis\"\"\"\n",
    "    dice_values = [1, 2, 3, 4, 5, 6]\n",
    "    rolls = np.random.choice(dice_values, n_dice_drops, replace=True)\n",
    "    return np.array(dict(pd.DataFrame(rolls)[0].value_counts()).values())\n",
    "\n",
    "def test_statistic(dice_frequencies, n_dice_drops):\n",
    "    \"\"\"Computes the test statistic\"\"\"\n",
    "    expected_frequencies = np.ones(6) * n_dice_drops / 6.\n",
    "    return sum(abs(dice_frequencies - expected_frequencies))"
   ]
  },
  {
   "cell_type": "code",
   "execution_count": 203,
   "metadata": {},
   "outputs": [
    {
     "name": "stdout",
     "output_type": "stream",
     "text": [
      "Test Statistic for Null Hypothesis H0: 16.0\n",
      "Test Statistic for Hypothesis H1: 20.0\n"
     ]
    }
   ],
   "source": [
    "test_stat_H0 = test_statistic(run_null_hypothesis(n_dice_drops), n_dice_drops)\n",
    "test_stat_H1 = test_statistic(observations_frequencies, n_dice_drops)\n",
    "print \"Test Statistic for Null Hypothesis H0:\",  test_stat_H0\n",
    "print \"Test Statistic for Hypothesis H1:\",  test_stat_H1"
   ]
  },
  {
   "cell_type": "code",
   "execution_count": 207,
   "metadata": {},
   "outputs": [
    {
     "name": "stdout",
     "output_type": "stream",
     "text": [
      "The p-value is:  0.135\n"
     ]
    }
   ],
   "source": [
    "# we perform iterations for good statistics\n",
    "N_ITER = 1000\n",
    "test_stat_H0_v = [test_statistic(run_null_hypothesis(n_dice_drops), n_dice_drops) for _ in range(N_ITER)]\n",
    "\n",
    "p_value = 1. * sum([1 for test_stat_H0 in test_stat_H0_v if test_stat_H0 >= test_stat_H1])/N_ITER\n",
    "print \"The p-value is: \", p_value"
   ]
  },
  {
   "cell_type": "markdown",
   "metadata": {
    "collapsed": true
   },
   "source": [
    "## USE-CASE: Testing Difference in Means "
   ]
  },
  {
   "cell_type": "code",
   "execution_count": 141,
   "metadata": {},
   "outputs": [],
   "source": [
    "d1 = np.random.normal(38.601, 1.42, 1000)\n",
    "d2 = np.random.normal(38.523, 1.42, 1000)"
   ]
  },
  {
   "cell_type": "code",
   "execution_count": 142,
   "metadata": {},
   "outputs": [
    {
     "data": {
      "image/png": "[encoded data removed]",
      "text/plain": [
       "<matplotlib.figure.Figure at 0x11953d910>"
      ]
     },
     "metadata": {},
     "output_type": "display_data"
    }
   ],
   "source": [
    "plt.figure(1)\n",
    "plt.subplot(211)\n",
    "count, bins, ignored = plt.hist(d1, 30, normed=True)\n",
    "plt.figure(1)\n",
    "plt.subplot(211)\n",
    "count, bins, ignored = plt.hist(d2, 30, normed=True)\n",
    "\n",
    "# plt.plot(bins, 1/(sigma * np.sqrt(2 * np.pi)) *\n",
    "#                  np.exp( - (bins - mu)**2 / (2 * sigma**2) ),\n",
    "#            linewidth=2, color='r')\n",
    "plt.show()"
   ]
  },
  {
   "cell_type": "code",
   "execution_count": 143,
   "metadata": {},
   "outputs": [
    {
     "data": {
      "image/png": "[encoded data removed]",
      "text/plain": [
       "<matplotlib.figure.Figure at 0x119410d90>"
      ]
     },
     "metadata": {},
     "output_type": "display_data"
    }
   ],
   "source": [
    "# one way to model the null hypothesis is by permutations, shuffle values of the two distributions and treat them as one\n",
    "d_all = [i for i in d1] + [ i for i in d2]\n",
    "np.random.shuffle(d_all)\n",
    "count, bins, ignored = plt.hist(d_all, 30, normed=True)\n",
    "plt.show()"
   ]
  },
  {
   "cell_type": "code",
   "execution_count": 144,
   "metadata": {},
   "outputs": [],
   "source": [
    "def run_null_hypothesis(d1, d2):\n",
    "    \"\"\"the model of Null hypothesis - treat the two distributions as one\"\"\"\n",
    "    d_all = [i for i in d1] + [ i for i in d2]\n",
    "    np.random.shuffle(d_all)\n",
    "    return (d_all[:len(d1)], d_all[len(d1):])\n",
    "\n",
    "def test_statistic(d1, d2):\n",
    "    \"\"\"Computes the test statistic\"\"\"\n",
    "    test_stat = abs(np.mean(d1) - np.mean(d2))\n",
    "    return test_stat"
   ]
  },
  {
   "cell_type": "code",
   "execution_count": 145,
   "metadata": {},
   "outputs": [
    {
     "name": "stdout",
     "output_type": "stream",
     "text": [
      "Test Statistic for Null Hypothesis H0: 0.013518860691434043\n",
      "Test Statistic for Hypothesis H1: 0.016528175458191185\n"
     ]
    }
   ],
   "source": [
    "test_stat_H0 = test_statistic(*run_null_hypothesis(d1, d2))\n",
    "test_stat_H1 = test_statistic(d1, d2)\n",
    "print \"Test Statistic for Null Hypothesis H0:\",  test_stat_H0\n",
    "print \"Test Statistic for Hypothesis H1:\",  test_stat_H1"
   ]
  },
  {
   "cell_type": "code",
   "execution_count": 146,
   "metadata": {},
   "outputs": [
    {
     "name": "stdout",
     "output_type": "stream",
     "text": [
      "The p-value is:  0.802\n"
     ]
    }
   ],
   "source": [
    "# we perform iterations for good statistics\n",
    "N_ITER = 1000\n",
    "test_stat_H0_v = [test_statistic(*run_null_hypothesis(d1, d2)) for _ in range(N_ITER)]\n",
    "p_value = 1. * sum([1 for test_stat_H0 in test_stat_H0_v if test_stat_H0 >= test_stat_H1])/N_ITER\n",
    "print \"The p-value is: \", p_value"
   ]
  },
  {
   "cell_type": "code",
   "execution_count": 147,
   "metadata": {},
   "outputs": [],
   "source": [
    "# The p-value here is not small. \n",
    "# It means that we expect by chance to see an effect as big as the observed about 80% of time."
   ]
  },
  {
   "cell_type": "markdown",
   "metadata": {},
   "source": [
    "## USE-CASE: Testing a Correlation"
   ]
  },
  {
   "cell_type": "code",
   "execution_count": 171,
   "metadata": {},
   "outputs": [
    {
     "data": {
      "text/plain": [
       "<matplotlib.collections.PathCollection at 0x119768d50>"
      ]
     },
     "execution_count": 171,
     "metadata": {},
     "output_type": "execute_result"
    },
    {
     "data": {
      "image/png": "[encoded data removed]",
      "text/plain": [
       "<matplotlib.figure.Figure at 0x11a034f90>"
      ]
     },
     "metadata": {},
     "output_type": "display_data"
    }
   ],
   "source": [
    "data = np.random.multivariate_normal([0, 0], [[1, .75],[.75, 1]], 1000)\n",
    "x = data[:, 0]\n",
    "y = data[:, 1]\n",
    "plt.scatter(x, y)"
   ]
  },
  {
   "cell_type": "code",
   "execution_count": 172,
   "metadata": {},
   "outputs": [
    {
     "data": {
      "text/plain": [
       "<matplotlib.collections.PathCollection at 0x119520b90>"
      ]
     },
     "execution_count": 172,
     "metadata": {},
     "output_type": "execute_result"
    },
    {
     "data": {
      "image/png": "[encoded data removed]",
      "text/plain": [
       "<matplotlib.figure.Figure at 0x119c0e510>"
      ]
     },
     "metadata": {},
     "output_type": "display_data"
    }
   ],
   "source": [
    "# we can make the null hypothesis model just by shuffling the data of one variable\n",
    "x2 = x.copy()\n",
    "np.random.shuffle(x2)\n",
    "plt.scatter(x2, y)"
   ]
  },
  {
   "cell_type": "code",
   "execution_count": 173,
   "metadata": {},
   "outputs": [],
   "source": [
    "def run_null_hypothesis(x, y):\n",
    "    \"\"\"the model of Null hypothesis - treat the two distributions as one\"\"\"\n",
    "    x2 = x.copy()\n",
    "    np.random.shuffle(x2)\n",
    "    return (x2, y)\n",
    "\n",
    "def test_statistic(x, y):\n",
    "    \"\"\"Computes the test statistic\"\"\"\n",
    "    test_stat = abs(np.corrcoef(x, y)[0][1])\n",
    "    return test_stat"
   ]
  },
  {
   "cell_type": "code",
   "execution_count": 174,
   "metadata": {},
   "outputs": [
    {
     "name": "stdout",
     "output_type": "stream",
     "text": [
      "Test Statistic for Null Hypothesis H0: 0.03684180368315462\n",
      "Test Statistic for Hypothesis H1: 0.7331483005590949\n"
     ]
    }
   ],
   "source": [
    "test_stat_H0 = test_statistic(*run_null_hypothesis(x, y))\n",
    "test_stat_H1 = test_statistic(x, y)\n",
    "print \"Test Statistic for Null Hypothesis H0:\",  test_stat_H0\n",
    "print \"Test Statistic for Hypothesis H1:\",  test_stat_H1"
   ]
  },
  {
   "cell_type": "code",
   "execution_count": 175,
   "metadata": {},
   "outputs": [
    {
     "name": "stdout",
     "output_type": "stream",
     "text": [
      "The p-value is:  0.0\n"
     ]
    }
   ],
   "source": [
    "# we perform iterations for good statistics\n",
    "N_ITER = 1000\n",
    "test_stat_H0_v = [test_statistic(*run_null_hypothesis(d1, d2)) for _ in range(N_ITER)]\n",
    "p_value = 1. * sum([1 for test_stat_H0 in test_stat_H0_v if test_stat_H0 >= test_stat_H1])/N_ITER\n",
    "print \"The p-value is: \", p_value"
   ]
  },
  {
   "cell_type": "markdown",
   "metadata": {},
   "source": [
    "## USE-CASE: Testing Proportions with chi2 test\n",
    "- Above we used total deviation as test statistic Sum(abs(observed-expected))\n",
    "- It is more common to use chi2 statistic. Sum((observed-expected)^2/expected)\n",
    "\n",
    "Lets see how what results we get having chi2 statistic"
   ]
  },
  {
   "cell_type": "code",
   "execution_count": 176,
   "metadata": {},
   "outputs": [
    {
     "name": "stdout",
     "output_type": "stream",
     "text": [
      "60\n"
     ]
    }
   ],
   "source": [
    "observations = {1:8, 2:9, 3:19, 4:5, 5:8, 6:11}\n",
    "\n",
    "observations_frequencies = np.array(observations.values())\n",
    "n_dice_drops = np.sum(observations_frequencies)\n",
    "print n_dice_drops"
   ]
  },
  {
   "cell_type": "code",
   "execution_count": 181,
   "metadata": {},
   "outputs": [],
   "source": [
    "def run_null_hypothesis(n_dice_drops):\n",
    "    \"\"\"the model of Null hypothesis\"\"\"\n",
    "    dice_values = [1, 2, 3, 4, 5, 6]\n",
    "    rolls = np.random.choice(dice_values, n_dice_drops, replace=True)\n",
    "    return np.array(dict(pd.DataFrame(rolls)[0].value_counts()).values())\n",
    "\n",
    "def test_statistic(dice_frequencies, n_dice_drops):\n",
    "    \"\"\"Computes the test statistic\"\"\"\n",
    "    expected_frequencies = np.ones(6) * n_dice_drops / 6.\n",
    "    return sum( (dice_frequencies - expected_frequencies)**2 / expected_frequencies)"
   ]
  },
  {
   "cell_type": "code",
   "execution_count": 182,
   "metadata": {},
   "outputs": [
    {
     "name": "stdout",
     "output_type": "stream",
     "text": [
      "Test Statistic for Null Hypothesis H0: 18.2\n",
      "Test Statistic for Hypothesis H1: 11.6\n"
     ]
    }
   ],
   "source": [
    "test_stat_H0 = test_statistic(run_null_hypothesis(n_dice_drops), n_dice_drops)\n",
    "test_stat_H1 = test_statistic(observations_frequencies, n_dice_drops)\n",
    "print \"Test Statistic for Null Hypothesis H0:\",  test_stat_H0\n",
    "print \"Test Statistic for Hypothesis H1:\",  test_stat_H1"
   ]
  },
  {
   "cell_type": "code",
   "execution_count": 183,
   "metadata": {},
   "outputs": [
    {
     "name": "stdout",
     "output_type": "stream",
     "text": [
      "The p-value is:  0.037\n"
     ]
    }
   ],
   "source": [
    "# we perform iterations for good statistics\n",
    "N_ITER = 1000\n",
    "test_stat_H0_v = [test_statistic(run_null_hypothesis(n_dice_drops), n_dice_drops) for _ in range(N_ITER)]\n",
    "\n",
    "p_value = 1. * sum([1 for test_stat_H0 in test_stat_H0_v if test_stat_H0 >= test_stat_H1])/N_ITER\n",
    "print \"The p-value is: \", p_value"
   ]
  },
  {
   "cell_type": "markdown",
   "metadata": {},
   "source": [
    "- we see that the p-value is smaller using the chi2 statistic as test statistic.\n",
    "=> This is very important point since we see that the chioice of t-statistic affects quite a lot the p-value"
   ]
  },
  {
   "cell_type": "markdown",
   "metadata": {},
   "source": [
    "## USE-CASE: Testing Structures in Histograms\n",
    "e.g.understand if we have signal over background\n"
   ]
  },
  {
   "cell_type": "code",
   "execution_count": 206,
   "metadata": {},
   "outputs": [
    {
     "data": {
      "image/png": "[encoded data removed]",
      "text/plain": [
       "<matplotlib.figure.Figure at 0x11ad18210>"
      ]
     },
     "metadata": {},
     "output_type": "display_data"
    }
   ],
   "source": [
    "# Lets say we have already a histogram with the bins values below:\n",
    "x_obs = {1:1, 2:2, 3:2,  4:0, 5:3, 6:1, 7:1, 8:2, 9:5, 10:6,\n",
    "         11:1, 12:0, 13:1, 14:2, 15:1, 16:3, 17:1, 18:0, 19:1, 20:0}\n",
    "x_bgr = {1:1.2, 2:1.8, 3:1.8,  4:1.9, 5:1.9, 6:2, 7:2, 8:2, 9:1.8, 10:1.8,\n",
    "         11:1.7, 12:1.7, 13:1.7, 14:1.6, 15:1.6, 16:1.6, 17:1.5, 18:1.5, 19:1.1, 20:0.3}\n",
    "\n",
    "_ = plt.bar(x_obs.keys(), x_obs.values(), color='b')\n",
    "_ = plt.bar(x_bgr.keys(), x_bgr.values(), alpha=0.6, color='r')"
   ]
  },
  {
   "cell_type": "code",
   "execution_count": 209,
   "metadata": {},
   "outputs": [],
   "source": [
    "# lets say that the red is what we know as background (e.g. from monde carlo) and blue is the observed signal.\n",
    "# Is this signal statistical significant ?"
   ]
  },
  {
   "cell_type": "code",
   "execution_count": null,
   "metadata": {},
   "outputs": [],
   "source": [
    "# The H0 would say that both those distributions come from the same process. \n",
    "# So we can construct the H0 model by adding those values and then splitting them in two parts. "
   ]
  },
  {
   "cell_type": "markdown",
   "metadata": {},
   "source": [
    "- lets focus only in the bin 9 with signal value = 5\n",
    "How likelie it is to find nobs = 5 while a backgronud is 1.8 ?\n",
    "\n",
    "The number of entries $n_s$ in a bar can be treated as a Poisson variable with mean $\\nu_s$.\n",
    "In this scenario we can calculate the p-value as \n",
    "$P(n>= n_{obs}) = \\Sigma_{n=n_{obs}}^{\\infty} pmf_{poisson}(n;\\nu_s=0, \\nu_b) = 1 - \\Sigma_{n=0}^{n_{obs}-1} pmf_{poisson}(n;\\nu_s=0, \\nu_b) $"
   ]
  },
  {
   "cell_type": "code",
   "execution_count": 234,
   "metadata": {},
   "outputs": [
    {
     "name": "stdout",
     "output_type": "stream",
     "text": [
      "The p-value is  0.10870839470920524\n"
     ]
    }
   ],
   "source": [
    "from scipy import stats\n",
    "pmf_values = []\n",
    "N_obs = 5\n",
    "N_bgr = 1.8\n",
    "for i in range(0, N_obs-1):\n",
    "    pmf_values.append(stats.distributions.poisson.pmf(i, N_bgr))\n",
    "pval = 1-np.sum(pmf_values)    \n",
    "print 'The p-value is ', pval"
   ]
  },
  {
   "cell_type": "markdown",
   "metadata": {},
   "source": [
    "- a point to keep in mind is that the background comes with uncertainty so we eventually have a range of p-values"
   ]
  },
  {
   "cell_type": "markdown",
   "metadata": {},
   "source": [
    "In principle we can apply the procedure above to the number of entries in a subset of bins. E.g. in the two bings with large peak we have $n_{obs}=11$ with expected $\\nu_b=3.2$. "
   ]
  },
  {
   "cell_type": "code",
   "execution_count": 235,
   "metadata": {},
   "outputs": [
    {
     "name": "stdout",
     "output_type": "stream",
     "text": [
      "The p-value is  0.0017618878681848749\n"
     ]
    }
   ],
   "source": [
    "from scipy import stats\n",
    "pmf_values = []\n",
    "N_obs = 11\n",
    "N_bgr = 3.2\n",
    "for i in range(0, N_obs-1):\n",
    "    pmf_values.append(stats.distributions.poisson.pmf(i, N_bgr))\n",
    "pval = 1-np.sum(pmf_values)    \n",
    "print 'The p-value is ', pval"
   ]
  },
  {
   "cell_type": "markdown",
   "metadata": {},
   "source": [
    "- Usually though, we do not know a priori where a peak might appear. In order to give more meaningful statement of how unexpected the peak is we should give the probability of observing a discrepancy as improbable as the peak in any of the bins of the histogram."
   ]
  },
  {
   "cell_type": "markdown",
   "metadata": {},
   "source": [
    "- A last thing to keep in mind is that different bin size will lead to differnt p-value. A typical practive is to define the width of the peak region ot be at least several times the expected resolution of the variable x"
   ]
  },
  {
   "cell_type": "code",
   "execution_count": null,
   "metadata": {},
   "outputs": [],
   "source": []
  }
 ],
 "metadata": {
  "kernelspec": {
   "display_name": "Python 2",
   "language": "python",
   "name": "python2"
  },
  "language_info": {
   "codemirror_mode": {
    "name": "ipython",
    "version": 2
   },
   "file_extension": ".py",
   "mimetype": "text/x-python",
   "name": "python",
   "nbconvert_exporter": "python",
   "pygments_lexer": "ipython2",
   "version": "2.7.14"
  }
 },
 "nbformat": 4,
 "nbformat_minor": 2
}
