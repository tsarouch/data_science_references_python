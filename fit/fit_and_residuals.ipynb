{
 "cells": [
  {
   "cell_type": "code",
   "execution_count": 2,
   "metadata": {
    "collapsed": false
   },
   "outputs": [
    {
     "name": "stderr",
     "output_type": "stream",
     "text": [
      "/Users/charilaostsarouchas/anaconda/lib/python2.7/site-packages/pytz/__init__.py:29: UserWarning: Module argparse was already imported from /Users/charilaostsarouchas/anaconda/lib/python2.7/argparse.pyc, but /Users/charilaostsarouchas/anaconda/lib/python2.7/site-packages is being added to sys.path\n",
      "  from pkg_resources import resource_stream\n"
     ]
    }
   ],
   "source": [
    "#Necessary imports\n",
    "# lib for numeric calculations\n",
    "import numpy as np\n",
    "\n",
    "# standard lib for python plotting\n",
    "%matplotlib inline\n",
    "import numpy as np\n",
    "import matplotlib.pyplot as plt\n",
    "\n",
    "# seaborn lib for more option in DS\n",
    "import seaborn as sns\n",
    "\n",
    "# so to obtain pseudo-random numbers\n",
    "import random \n",
    "                                     \n",
    "# fits a curve to data\n",
    "from scipy.optimize import leastsq #least squares\n",
    "from scipy.optimize import curve_fit # non linear least squares\n",
    "\n",
    "import math\n",
    "\n"
   ]
  },
  {
   "cell_type": "markdown",
   "metadata": {},
   "source": [
    "### Plot and Fit the Data"
   ]
  },
  {
   "cell_type": "code",
   "execution_count": 3,
   "metadata": {
    "collapsed": false
   },
   "outputs": [
    {
     "data": {
      "image/png": "[encoded data removed]",
      "text/plain": [
       "<matplotlib.figure.Figure at 0x10bfcfdd0>"
      ]
     },
     "metadata": {},
     "output_type": "display_data"
    }
   ],
   "source": [
    "Nbins = 100\n",
    "def gauss(x, *p):\n",
    "    \"\"\" Gaussian model function\"\"\"\n",
    "    I, mu, sigma = p\n",
    "    return I * np.exp( - (x - mu) ** 2 / (2. * sigma ** 2))\n",
    "# Create the data and bin information\n",
    "data = np.random.normal(0, 1, size=10000)\n",
    "bin_values, bin_edges = np.histogram(data, density=False, bins=Nbins)\n",
    "bin_centres = (bin_edges[:-1] + bin_edges[1:])/2\n",
    "# assign params\n",
    "init_coeff = [0., 1., 1.]\n",
    "# Fit the data\n",
    "fit_coeff, var_matrix = curve_fit(gauss, bin_centres, bin_values, p0=init_coeff)\n",
    "#fit_coeff, var_matrix = curve_fit(gauss, bin_centres, bin_values, p0=init_coeff)\n",
    "\n",
    "\n",
    "hist_fit = gauss(bin_centres, *fit_coeff)\n",
    "# and visualize\n",
    "plt.plot(bin_centres, hist_fit, label='Fitted data', color='red', linewidth=2)\n",
    "hist = plt.hist(data, bins=Nbins, color='blue', alpha=.3)"
   ]
  },
  {
   "cell_type": "code",
   "execution_count": 51,
   "metadata": {
    "collapsed": false
   },
   "outputs": [
    {
     "data": {
      "text/plain": [
       "3.7704377485451674"
      ]
     },
     "execution_count": 51,
     "metadata": {},
     "output_type": "execute_result"
    }
   ],
   "source": [
    "bin_centres[99]"
   ]
  },
  {
   "cell_type": "markdown",
   "metadata": {},
   "source": [
    "### See the Fit Residuals"
   ]
  },
  {
   "cell_type": "code",
   "execution_count": 70,
   "metadata": {
    "collapsed": false
   },
   "outputs": [
    {
     "data": {
      "text/plain": [
       "'\\n  //Considering all the bins\\n  for (int i=1; i<=nbins; i++){\\n    first_index = i;\\n    last_index = i;\\n    observed = hist->GetBinContent(i);\\n    err_sq = (hist->GetBinError(i))*(hist->GetBinError(i));\\n    expected = func->Eval(hist->GetBinCenter(i));    \\n    //if observed < 6, keep adding bins\\n    while (expected < 6. && i<nbins){\\n      i++;\\n      assert (i<=nbins);\\n      last_index = i;\\n      observed += hist->GetBinContent(i);\\n      err_sq += (hist->GetBinError(i))*(hist->GetBinError(i));\\n      expected += func->Eval(hist->GetBinCenter(i));    \\n    }\\n    entries_counted += observed;\\n\\n    //make sure that there are < 6 events in the remaining bins\\n    if(n_entries-entries_counted <6){\\n      //finish it up if there are < 6 events remaining\\n      while(i<nbins){\\n\\ti++;\\n\\tlast_index = i;\\n\\tobserved += hist->GetBinContent(i);\\n\\terr_sq += (hist->GetBinError(i))*(hist->GetBinError(i));\\n\\texpected += func->Eval(hist->GetBinCenter(i));    \\n\\tentries_counted += hist->GetBinContent(i);\\n      }\\n    }\\n  \\n    cout << \"First Index \" << first_index << \"     Last Index \" << last_index << endl;\\n    cout << \"(last_index- first_index +1) \" << (last_index- first_index +1) << endl;\\n    cout << \"The number of observed for this bin was \" << observed << endl;\\n    cout << \"The number of expected for this bin was \" << expected << endl;\\n    cout << \"I\\'ve counted through bin \" << last_index << endl;\\n\\n    //    double temp = (observed-expected)*(observed-expected)/err_sq;\\n    double temp = (observed-expected)*(observed-expected)/expected;\\n    chisq += temp;\\n    //Set the values in the residual plot\\n    for (int j=first_index;j<=last_index;j++){\\n      if ((expected-observed) > 0) \\n\\tresHisto->SetBinContent(j,TMath::Sqrt(temp));\\n      else \\n\\tresHisto->SetBinContent(j,-1.*TMath::Sqrt(temp));\\n    }\\n\\n\\n    nbins_post_rebinning ++;\\n  }\\n  Int_t ndf = nbins_post_rebinning -_ndf_func;\\n  #prob = TMath::Prob(chisq,ndf); \\n  cout << \"**********************************************************************\" << endl;\\n  cout << \"**********************************************************************\" << endl;\\n  cout << \"**********************************************************************\" << endl;\\n  cout << \"**********************************************************************\" << endl;\\n  cout << \"The chi sq for this fit is \" << chisq << endl;\\n  cout << \"There were this many bins after rebinning \" << nbins_post_rebinning << endl;\\n  cout << \"and this many free parameters in the original fit \" << _ndf_func << endl;\\n  cout << \"So the probability for this fit is \" << prob << endl;\\n  cout << \"**********************************************************************\" << endl;\\n  cout << \"**********************************************************************\" << endl;\\n  cout << \"**********************************************************************\" << endl;\\n  cout << \"**********************************************************************\" << endl;\\n \\n  resHisto->SetFillColor(4); resHisto->SetFillStyle(1001);\\n  return resHisto;\\n'"
      ]
     },
     "execution_count": 70,
     "metadata": {},
     "output_type": "execute_result"
    }
   ],
   "source": [
    "def calc_chisq(data, function, params, _ndf_func=None,  prob=None):\n",
    "    \"\"\"\n",
    "    \"\"\"\n",
    "    bin_values, bin_edges = np.histogram(data, density=False, bins=Nbins)\n",
    "    bin_centres = (bin_edges[:-1] + bin_edges[1:])/2\n",
    " \n",
    "    resHisto = None\n",
    "    newHname = ''\n",
    "\n",
    "    #hist->Sumw2();\n",
    "  \n",
    "    chisq = 0.0\n",
    "    nbins = len(bin_values)\n",
    "  \n",
    "    entries_counted = 0.;\n",
    "    ###n_entries = hist->Integral(1,nbins);\n",
    "    n_entries = 0\n",
    "    for i in bin_values:\n",
    "        n_entries += i\n",
    "    \n",
    "    first_index = 0\n",
    "    last_index = 0\n",
    "    expected = 0.\n",
    "    observed = 0\n",
    "    err_sq = 0.\n",
    "    nbins_post_rebinning = 0\n",
    " \n",
    "    tmps = []\n",
    "    histo_map = {}\n",
    "    \n",
    "    for i in range(nbins):\n",
    "        first_index = i\n",
    "        last_index = i\n",
    "        observed = bin_values[i]\n",
    "        expected = function(bin_centres[i], *params) \n",
    "        ##err_sq = (hist->GetBinError(i))*(hist->GetBinError(i));\n",
    "        \n",
    "        #if observed < 6, keep adding bins\n",
    "        while expected < 6. and i < nbins-1:\n",
    "            i += 1\n",
    "            #  assert (i<=nbins)\n",
    "            last_index = i\n",
    "            observed += bin_values[i]\n",
    "            expected += function(bin_centres[i], *params)   \n",
    "            #err_sq += (hist->GetBinError(i))*(hist->GetBinError(i));\n",
    "\n",
    "        entries_counted += observed\n",
    "        \n",
    "        \n",
    "        \n",
    "        # make sure that there are > 6 events in the remaining bins\n",
    "        if n_entries - entries_counted < 6:\n",
    "            # finish it up if there are < 6 events remaining\n",
    "            while i < nbins-1:\n",
    "                i += 1 \n",
    "                last_index = i\n",
    "                observed += bin_values[i]\n",
    "                #err_sq += (hist->GetBinError(i))*(hist->GetBinError(i));\n",
    "                expected += function(bin_centres[i], *params)  \n",
    "                entries_counted +=  bin_values[i]\n",
    "    \n",
    "        \n",
    "    \n",
    "    \n",
    "       #temp = (observed - expected) * (observed - expected) / err_sq\n",
    "        temp = (observed - expected) * (observed - expected) / expected \n",
    "        chisq += temp\n",
    "        \n",
    "        tmps.append(temp)\n",
    "        #histo_map[i] = math.sqrt(temp)\n",
    "        # Set the values in the residual plot\n",
    "        print first_index, last_index, expected - observed\n",
    "        for j in range(first_index, last_index+1):\n",
    "            if (expected - observed) > 0: \n",
    "                histo_map[j] = math.sqrt(temp)\n",
    "            else:\n",
    "                histo_map[j] = -1.* math.sqrt(temp)\n",
    "\n",
    "        nbins_post_rebinning +=1 \n",
    "    \n",
    "\n",
    "    print \"First Index \" , first_index , \" ,    Last Index \" , last_index\n",
    "    print \"(last_index- first_index +1) \" , (last_index- first_index +1) \n",
    "    print \"The number of observed for this bin was \", observed \n",
    "    print \"The number of expected for this bin was \", expected \n",
    "    print \"I've counted through bin \", last_index  \n",
    "\n",
    "    #ndf = nbins_post_rebinning -_ndf_func;\n",
    "    #prob = TMath::Prob(chisq,ndf); \n",
    "    print  \"**********************************************************************\" \n",
    "    print  \"**********************************************************************\" \n",
    "    print  \"**********************************************************************\" \n",
    "    print  \"**********************************************************************\" \n",
    "    print  \"The chi sq for this fit is \", chisq\n",
    "    print  \"There were this many bins after rebinning \", nbins_post_rebinning \n",
    "    print  \"and this many free parameters in the original fit \", _ndf_func  \n",
    "    print  \"So the probability for this fit is \", prob  \n",
    "    print  \"**********************************************************************\" \n",
    "    print  \"**********************************************************************\" \n",
    "    print  \"**********************************************************************\" \n",
    "    print  \"**********************************************************************\" \n",
    "\n",
    "    return histo_map\n",
    "\n",
    "\n",
    "\"\"\"\n",
    "  //Considering all the bins\n",
    "  for (int i=1; i<=nbins; i++){\n",
    "    first_index = i;\n",
    "    last_index = i;\n",
    "    observed = hist->GetBinContent(i);\n",
    "    err_sq = (hist->GetBinError(i))*(hist->GetBinError(i));\n",
    "    expected = func->Eval(hist->GetBinCenter(i));    \n",
    "    //if observed < 6, keep adding bins\n",
    "    while (expected < 6. && i<nbins){\n",
    "      i++;\n",
    "      assert (i<=nbins);\n",
    "      last_index = i;\n",
    "      observed += hist->GetBinContent(i);\n",
    "      err_sq += (hist->GetBinError(i))*(hist->GetBinError(i));\n",
    "      expected += func->Eval(hist->GetBinCenter(i));    \n",
    "    }\n",
    "    entries_counted += observed;\n",
    "\n",
    "    //make sure that there are < 6 events in the remaining bins\n",
    "    if(n_entries-entries_counted <6){\n",
    "      //finish it up if there are < 6 events remaining\n",
    "      while(i<nbins){\n",
    "\ti++;\n",
    "\tlast_index = i;\n",
    "\tobserved += hist->GetBinContent(i);\n",
    "\terr_sq += (hist->GetBinError(i))*(hist->GetBinError(i));\n",
    "\texpected += func->Eval(hist->GetBinCenter(i));    \n",
    "\tentries_counted += hist->GetBinContent(i);\n",
    "      }\n",
    "    }\n",
    "  \n",
    "    cout << \"First Index \" << first_index << \"     Last Index \" << last_index << endl;\n",
    "    cout << \"(last_index- first_index +1) \" << (last_index- first_index +1) << endl;\n",
    "    cout << \"The number of observed for this bin was \" << observed << endl;\n",
    "    cout << \"The number of expected for this bin was \" << expected << endl;\n",
    "    cout << \"I've counted through bin \" << last_index << endl;\n",
    "\n",
    "    //    double temp = (observed-expected)*(observed-expected)/err_sq;\n",
    "    double temp = (observed-expected)*(observed-expected)/expected;\n",
    "    chisq += temp;\n",
    "    //Set the values in the residual plot\n",
    "    for (int j=first_index;j<=last_index;j++){\n",
    "      if ((expected-observed) > 0) \n",
    "\tresHisto->SetBinContent(j,TMath::Sqrt(temp));\n",
    "      else \n",
    "\tresHisto->SetBinContent(j,-1.*TMath::Sqrt(temp));\n",
    "    }\n",
    "\n",
    "\n",
    "    nbins_post_rebinning ++;\n",
    "  }\n",
    "  Int_t ndf = nbins_post_rebinning -_ndf_func;\n",
    "  #prob = TMath::Prob(chisq,ndf); \n",
    "  cout << \"**********************************************************************\" << endl;\n",
    "  cout << \"**********************************************************************\" << endl;\n",
    "  cout << \"**********************************************************************\" << endl;\n",
    "  cout << \"**********************************************************************\" << endl;\n",
    "  cout << \"The chi sq for this fit is \" << chisq << endl;\n",
    "  cout << \"There were this many bins after rebinning \" << nbins_post_rebinning << endl;\n",
    "  cout << \"and this many free parameters in the original fit \" << _ndf_func << endl;\n",
    "  cout << \"So the probability for this fit is \" << prob << endl;\n",
    "  cout << \"**********************************************************************\" << endl;\n",
    "  cout << \"**********************************************************************\" << endl;\n",
    "  cout << \"**********************************************************************\" << endl;\n",
    "  cout << \"**********************************************************************\" << endl;\n",
    " \n",
    "  resHisto->SetFillColor(4); resHisto->SetFillStyle(1001);\n",
    "  return resHisto;\n",
    "\"\"\"\n",
    "\n",
    "\n",
    "\n",
    "\n"
   ]
  },
  {
   "cell_type": "code",
   "execution_count": 71,
   "metadata": {
    "collapsed": false
   },
   "outputs": [
    {
     "name": "stdout",
     "output_type": "stream",
     "text": [
      "0 5 1.75220944872\n",
      "1 5 2.20452492326\n",
      "2 6 4.89534888996\n",
      "3 6 3.97907432483\n",
      "4 7 7.8170959462\n",
      "5 7 6.31744658991\n",
      "6 8 8.17581212655\n",
      "7 8 5.77464298617\n",
      "8 9 4.42994511909\n",
      "9 10 1.43238353051\n",
      "10 11 2.83993449357\n",
      "11 11 2.07631091741\n",
      "12 12 1.64043161644\n",
      "13 13 -0.507446276638\n",
      "14 14 -0.328028162326\n",
      "15 15 -8.77965733929\n",
      "16 16 -2.81882721194\n",
      "17 17 3.59914658548\n",
      "18 18 11.519286218\n",
      "19 19 10.9859413525\n",
      "20 20 4.04161268025\n",
      "21 21 7.72562107426\n",
      "22 22 4.0726426924\n",
      "23 23 5.1111393544\n",
      "24 24 5.8617226701\n",
      "25 25 1.33549921695\n",
      "26 26 8.53245203761\n",
      "27 27 4.43992030738\n",
      "28 28 2.03124365654\n",
      "29 29 -4.73536018856\n",
      "30 30 -9.91761649988\n",
      "31 31 14.4103506209\n",
      "32 32 -42.8420156886\n",
      "33 33 3.21872876815\n",
      "34 34 -0.529037361202\n",
      "35 35 -7.22055307556\n",
      "36 36 -2.0027168153\n",
      "37 37 2.96835719981\n",
      "38 38 4.53022204336\n",
      "39 39 5.51735378789\n",
      "40 40 6.76469388936\n",
      "41 41 11.1113757503\n",
      "42 42 -32.5954799592\n",
      "43 43 -9.49702508614\n",
      "44 44 2.28087393072\n",
      "45 45 6.63088670919\n",
      "46 46 18.4670451218\n",
      "47 47 -14.2729589019\n",
      "48 48 4.37391021643\n",
      "49 49 14.3970375162\n",
      "50 50 1.81244728307\n",
      "51 51 4.66236575247\n",
      "52 52 -0.985926591334\n",
      "53 53 15.9580904708\n",
      "54 54 2.60576394964\n",
      "55 55 7.0863461424\n",
      "56 56 -37.4563283797\n",
      "57 57 -0.867448076879\n",
      "58 58 -11.9849861484\n",
      "59 59 -1.64349169681\n",
      "60 60 -3.67778780479\n",
      "61 61 15.073536605\n",
      "62 62 -5.23505947811\n",
      "63 63 0.541132443044\n",
      "64 64 3.5347224609\n",
      "65 65 1.86436657894\n",
      "66 66 10.6334238227\n",
      "67 67 9.92912630974\n",
      "68 68 -1.17775630092\n",
      "69 69 -8.63279290386\n",
      "70 70 0.602644096805\n",
      "71 71 4.55226655455\n",
      "72 72 -6.77395400403\n",
      "73 73 -4.37839165974\n",
      "74 74 -1.27422052005\n",
      "75 75 -7.48378400176\n",
      "76 76 -1.03693962801\n",
      "77 77 -5.96943308312\n",
      "78 78 -0.321347079087\n",
      "79 79 0.864338339737\n",
      "80 80 9.54304658537\n",
      "81 81 -2.33025212009\n",
      "82 82 -2.80006500493\n",
      "83 83 -3.90957133028\n",
      "84 99 3.20333596339\n",
      "85 99 1.90331957111\n",
      "86 99 -0.886613866704\n",
      "87 99 -0.410812893698\n",
      "88 99 -2.88063614763\n",
      "89 99 -1.47753824809\n",
      "90 99 -2.35615678514\n",
      "91 99 -3.64732434383\n",
      "92 99 -3.46094652362\n",
      "93 99 -1.88870260526\n",
      "94 99 -2.00653953318\n",
      "95 99 -1.87694201287\n",
      "96 99 -1.5509716922\n",
      "97 99 -1.07007662281\n",
      "98 99 -0.467678587004\n",
      "99 99 -0.770550584479\n",
      "First Index  99  ,    Last Index  99\n",
      "(last_index- first_index +1)  1\n",
      "The number of observed for this bin was  1\n",
      "The number of expected for this bin was  0.229449415521\n",
      "I've counted through bin  99\n",
      "**********************************************************************\n",
      "**********************************************************************\n",
      "**********************************************************************\n",
      "**********************************************************************\n",
      "The chi sq for this fit is  117.486234155\n",
      "There were this many bins after rebinning  100\n",
      "and this many free parameters in the original fit  None\n",
      "So the probability for this fit is  None\n",
      "**********************************************************************\n",
      "**********************************************************************\n",
      "**********************************************************************\n",
      "**********************************************************************\n"
     ]
    }
   ],
   "source": [
    "hist_data = calc_chisq(data, gauss, fit_coeff)"
   ]
  },
  {
   "cell_type": "code",
   "execution_count": 69,
   "metadata": {
    "collapsed": false
   },
   "outputs": [
    {
     "data": {
      "text/plain": [
       "<Container object of 100 artists>"
      ]
     },
     "execution_count": 69,
     "metadata": {},
     "output_type": "execute_result"
    },
    {
     "data": {
      "image/png": "[encoded data removed]",
      "text/plain": [
       "<matplotlib.figure.Figure at 0x10d31b790>"
      ]
     },
     "metadata": {},
     "output_type": "display_data"
    }
   ],
   "source": [
    "bin_width = bin_edges[1:] - bin_edges[:-1]  \n",
    "plt.bar(bin_edges[:-1], hist_data.values(), width=bin_width) "
   ]
  },
  {
   "cell_type": "code",
   "execution_count": 26,
   "metadata": {
    "collapsed": false
   },
   "outputs": [
    {
     "name": "stdout",
     "output_type": "stream",
     "text": [
      "0 5\n",
      "1 5\n",
      "2 6\n",
      "3 6\n",
      "4 7\n",
      "5 7\n",
      "6 8\n",
      "7 8\n",
      "8 9\n",
      "9 10\n",
      "10 11\n",
      "11 11\n",
      "12 12\n",
      "13 13\n",
      "14 14\n",
      "15 15\n",
      "16 16\n",
      "17 17\n",
      "18 18\n",
      "19 19\n",
      "20 20\n",
      "21 21\n",
      "22 22\n",
      "23 23\n",
      "24 24\n",
      "25 25\n",
      "26 26\n",
      "27 27\n",
      "28 28\n",
      "29 29\n",
      "30 30\n",
      "31 31\n",
      "32 32\n",
      "33 33\n",
      "34 34\n",
      "35 35\n",
      "36 36\n",
      "37 37\n",
      "38 38\n",
      "39 39\n",
      "40 40\n",
      "41 41\n",
      "42 42\n",
      "43 43\n",
      "44 44\n",
      "45 45\n",
      "46 46\n",
      "47 47\n",
      "48 48\n",
      "49 49\n",
      "50 50\n",
      "51 51\n",
      "52 52\n",
      "53 53\n",
      "54 54\n",
      "55 55\n",
      "56 56\n",
      "57 57\n",
      "58 58\n",
      "59 59\n",
      "60 60\n",
      "61 61\n",
      "62 62\n",
      "63 63\n",
      "64 64\n",
      "65 65\n",
      "66 66\n",
      "67 67\n",
      "68 68\n",
      "69 69\n",
      "70 70\n",
      "71 71\n",
      "72 72\n",
      "73 73\n",
      "74 74\n",
      "75 75\n",
      "76 76\n",
      "77 77\n",
      "78 78\n",
      "79 79\n",
      "80 80\n",
      "81 81\n",
      "82 82\n",
      "83 83\n"
     ]
    },
    {
     "ename": "IndexError",
     "evalue": "index 100 is out of bounds for axis 0 with size 100",
     "output_type": "error",
     "traceback": [
      "\u001b[0;31m---------------------------------------------------------------------------\u001b[0m",
      "\u001b[0;31mIndexError\u001b[0m                                Traceback (most recent call last)",
      "\u001b[0;32m<ipython-input-26-de7b491602e3>\u001b[0m in \u001b[0;36m<module>\u001b[0;34m()\u001b[0m\n\u001b[1;32m      1\u001b[0m \u001b[0;31m#plt.plot(bin_centres, hist_fit, label='Fitted data', color='red', linewidth=2)\u001b[0m\u001b[0;34m\u001b[0m\u001b[0;34m\u001b[0m\u001b[0m\n\u001b[1;32m      2\u001b[0m \u001b[0;31m#hist = plt.hist(data, bins=Nbins, color='blue', alpha=.3)\u001b[0m\u001b[0;34m\u001b[0m\u001b[0;34m\u001b[0m\u001b[0m\n\u001b[0;32m----> 3\u001b[0;31m \u001b[0mhist_data\u001b[0m \u001b[0;34m=\u001b[0m \u001b[0mcalc_chisq\u001b[0m\u001b[0;34m(\u001b[0m\u001b[0mhist\u001b[0m\u001b[0;34m,\u001b[0m \u001b[0mgauss\u001b[0m\u001b[0;34m,\u001b[0m \u001b[0mfit_coeff\u001b[0m\u001b[0;34m)\u001b[0m\u001b[0;34m\u001b[0m\u001b[0m\n\u001b[0m",
      "\u001b[0;32m<ipython-input-25-99c881362eab>\u001b[0m in \u001b[0;36mcalc_chisq\u001b[0;34m(hist, function, params, _ndf_func, prob)\u001b[0m\n\u001b[1;32m     55\u001b[0m                 \u001b[0mi\u001b[0m \u001b[0;34m+=\u001b[0m \u001b[0;36m1\u001b[0m\u001b[0;34m\u001b[0m\u001b[0m\n\u001b[1;32m     56\u001b[0m                 \u001b[0mlast_index\u001b[0m \u001b[0;34m=\u001b[0m \u001b[0mi\u001b[0m\u001b[0;34m\u001b[0m\u001b[0m\n\u001b[0;32m---> 57\u001b[0;31m                 \u001b[0mobserved\u001b[0m \u001b[0;34m+=\u001b[0m \u001b[0mbin_values\u001b[0m\u001b[0;34m[\u001b[0m\u001b[0mi\u001b[0m\u001b[0;34m]\u001b[0m\u001b[0;34m\u001b[0m\u001b[0m\n\u001b[0m\u001b[1;32m     58\u001b[0m                 \u001b[0;31m#err_sq += (hist->GetBinError(i))*(hist->GetBinError(i));\u001b[0m\u001b[0;34m\u001b[0m\u001b[0;34m\u001b[0m\u001b[0m\n\u001b[1;32m     59\u001b[0m                 \u001b[0mexpected\u001b[0m \u001b[0;34m+=\u001b[0m \u001b[0mfunction\u001b[0m\u001b[0;34m(\u001b[0m\u001b[0mbin_centres\u001b[0m\u001b[0;34m[\u001b[0m\u001b[0mi\u001b[0m\u001b[0;34m]\u001b[0m\u001b[0;34m,\u001b[0m \u001b[0;34m*\u001b[0m\u001b[0mparams\u001b[0m\u001b[0;34m)\u001b[0m\u001b[0;34m\u001b[0m\u001b[0m\n",
      "\u001b[0;31mIndexError\u001b[0m: index 100 is out of bounds for axis 0 with size 100"
     ]
    }
   ],
   "source": [
    "#plt.plot(bin_centres, hist_fit, label='Fitted data', color='red', linewidth=2)\n",
    "#hist = plt.hist(data, bins=Nbins, color='blue', alpha=.3)\n",
    "hist_data = calc_chisq(hist, gauss, fit_coeff)"
   ]
  },
  {
   "cell_type": "code",
   "execution_count": 27,
   "metadata": {
    "collapsed": false
   },
   "outputs": [
    {
     "data": {
      "text/plain": [
       "{0: 0.6743153799041263,\n",
       " 1: 0.8850356124611929,\n",
       " 2: 1.7421999073312329,\n",
       " 3: 1.506201721556627,\n",
       " 4: 2.632586555865332,\n",
       " 5: 2.3354028094293606,\n",
       " 6: 2.699035810357099,\n",
       " 7: 2.2186149374262336,\n",
       " 8: 1.5257591120662393,\n",
       " 9: 0.44347337031873224,\n",
       " 10: 0.792550453140586,\n",
       " 86: 0.6307537629067244,\n",
       " 87: 0.3755813185373557,\n",
       " 88: -0.20610620088146198,\n",
       " 89: 0.7505478830180632,\n",
       " 90: -0.13557185374745878,\n",
       " 91: -1.0169405812701708,\n",
       " 92: -1.4705409063845858,\n",
       " 93: -0.9314812833689043,\n",
       " 94: -1.159740856516764,\n",
       " 95: -1.288160350353138,\n",
       " 96: -1.288443670549807,\n",
       " 97: -1.1096634811131059,\n",
       " 98: -0.6410036724940109}"
      ]
     },
     "execution_count": 27,
     "metadata": {},
     "output_type": "execute_result"
    }
   ],
   "source": [
    "hist_data"
   ]
  },
  {
   "cell_type": "code",
   "execution_count": 28,
   "metadata": {
    "collapsed": false
   },
   "outputs": [
    {
     "data": {
      "text/plain": [
       "26"
      ]
     },
     "execution_count": 28,
     "metadata": {},
     "output_type": "execute_result"
    }
   ],
   "source": [
    "bin_width = bin_edges[1:] - bin_edges[:-1]  \n",
    "len(histo_map.values())"
   ]
  },
  {
   "cell_type": "code",
   "execution_count": 30,
   "metadata": {
    "collapsed": false
   },
   "outputs": [
    {
     "ename": "AssertionError",
     "evalue": "incompatible sizes: argument 'height' must be length 101 or scalar",
     "output_type": "error",
     "traceback": [
      "\u001b[0;31m---------------------------------------------------------------------------\u001b[0m",
      "\u001b[0;31mAssertionError\u001b[0m                            Traceback (most recent call last)",
      "\u001b[0;32m<ipython-input-30-a69d9b82b130>\u001b[0m in \u001b[0;36m<module>\u001b[0;34m()\u001b[0m\n\u001b[1;32m      1\u001b[0m \u001b[0mhist_data\u001b[0m\u001b[0;34m.\u001b[0m\u001b[0mvalues\u001b[0m\u001b[0;34m(\u001b[0m\u001b[0;34m)\u001b[0m\u001b[0;34m\u001b[0m\u001b[0m\n\u001b[1;32m      2\u001b[0m \u001b[0mbin_width\u001b[0m \u001b[0;34m=\u001b[0m \u001b[0mbin_edges\u001b[0m\u001b[0;34m[\u001b[0m\u001b[0;36m1\u001b[0m\u001b[0;34m:\u001b[0m\u001b[0;34m]\u001b[0m \u001b[0;34m-\u001b[0m \u001b[0mbin_edges\u001b[0m\u001b[0;34m[\u001b[0m\u001b[0;34m:\u001b[0m\u001b[0;34m-\u001b[0m\u001b[0;36m1\u001b[0m\u001b[0;34m]\u001b[0m\u001b[0;34m\u001b[0m\u001b[0m\n\u001b[0;32m----> 3\u001b[0;31m \u001b[0mplt\u001b[0m\u001b[0;34m.\u001b[0m\u001b[0mbar\u001b[0m\u001b[0;34m(\u001b[0m\u001b[0mbin_edges\u001b[0m\u001b[0;34m,\u001b[0m \u001b[0mhist_data\u001b[0m\u001b[0;34m.\u001b[0m\u001b[0mvalues\u001b[0m\u001b[0;34m(\u001b[0m\u001b[0;34m)\u001b[0m\u001b[0;34m,\u001b[0m \u001b[0mwidth\u001b[0m\u001b[0;34m=\u001b[0m\u001b[0mbin_width\u001b[0m\u001b[0;34m)\u001b[0m\u001b[0;34m\u001b[0m\u001b[0m\n\u001b[0m\u001b[1;32m      4\u001b[0m \u001b[0;34m\u001b[0m\u001b[0m\n",
      "\u001b[0;32m/Users/charilaostsarouchas/anaconda/lib/python2.7/site-packages/matplotlib/pyplot.pyc\u001b[0m in \u001b[0;36mbar\u001b[0;34m(left, height, width, bottom, hold, **kwargs)\u001b[0m\n\u001b[1;32m   2566\u001b[0m         \u001b[0max\u001b[0m\u001b[0;34m.\u001b[0m\u001b[0mhold\u001b[0m\u001b[0;34m(\u001b[0m\u001b[0mhold\u001b[0m\u001b[0;34m)\u001b[0m\u001b[0;34m\u001b[0m\u001b[0m\n\u001b[1;32m   2567\u001b[0m     \u001b[0;32mtry\u001b[0m\u001b[0;34m:\u001b[0m\u001b[0;34m\u001b[0m\u001b[0m\n\u001b[0;32m-> 2568\u001b[0;31m         \u001b[0mret\u001b[0m \u001b[0;34m=\u001b[0m \u001b[0max\u001b[0m\u001b[0;34m.\u001b[0m\u001b[0mbar\u001b[0m\u001b[0;34m(\u001b[0m\u001b[0mleft\u001b[0m\u001b[0;34m,\u001b[0m \u001b[0mheight\u001b[0m\u001b[0;34m,\u001b[0m \u001b[0mwidth\u001b[0m\u001b[0;34m=\u001b[0m\u001b[0mwidth\u001b[0m\u001b[0;34m,\u001b[0m \u001b[0mbottom\u001b[0m\u001b[0;34m=\u001b[0m\u001b[0mbottom\u001b[0m\u001b[0;34m,\u001b[0m \u001b[0;34m**\u001b[0m\u001b[0mkwargs\u001b[0m\u001b[0;34m)\u001b[0m\u001b[0;34m\u001b[0m\u001b[0m\n\u001b[0m\u001b[1;32m   2569\u001b[0m         \u001b[0mdraw_if_interactive\u001b[0m\u001b[0;34m(\u001b[0m\u001b[0;34m)\u001b[0m\u001b[0;34m\u001b[0m\u001b[0m\n\u001b[1;32m   2570\u001b[0m     \u001b[0;32mfinally\u001b[0m\u001b[0;34m:\u001b[0m\u001b[0;34m\u001b[0m\u001b[0m\n",
      "\u001b[0;32m/Users/charilaostsarouchas/anaconda/lib/python2.7/site-packages/matplotlib/axes/_axes.pyc\u001b[0m in \u001b[0;36mbar\u001b[0;34m(self, left, height, width, bottom, **kwargs)\u001b[0m\n\u001b[1;32m   1989\u001b[0m         assert len(height) == nbars, (\"incompatible sizes: argument 'height' \"\n\u001b[1;32m   1990\u001b[0m                                       \u001b[0;34m\"must be length %d or scalar\"\u001b[0m \u001b[0;34m%\u001b[0m\u001b[0;34m\u001b[0m\u001b[0m\n\u001b[0;32m-> 1991\u001b[0;31m                                       nbars)\n\u001b[0m\u001b[1;32m   1992\u001b[0m         assert len(width) == nbars, (\"incompatible sizes: argument 'width' \"\n\u001b[1;32m   1993\u001b[0m                                      \u001b[0;34m\"must be length %d or scalar\"\u001b[0m \u001b[0;34m%\u001b[0m\u001b[0;34m\u001b[0m\u001b[0m\n",
      "\u001b[0;31mAssertionError\u001b[0m: incompatible sizes: argument 'height' must be length 101 or scalar"
     ]
    },
    {
     "data": {
      "image/png": "[encoded data removed]",
      "text/plain": [
       "<matplotlib.figure.Figure at 0x10cbaf8d0>"
      ]
     },
     "metadata": {},
     "output_type": "display_data"
    }
   ],
   "source": [
    "hist_data.values()\n",
    "bin_width = bin_edges[1:] - bin_edges[:-1]  \n",
    "plt.bar(bin_edges, hist_data.values(), width=bin_width) \n",
    "\n"
   ]
  },
  {
   "cell_type": "code",
   "execution_count": null,
   "metadata": {
    "collapsed": true
   },
   "outputs": [],
   "source": []
  }
 ],
 "metadata": {
  "kernelspec": {
   "display_name": "Python 2",
   "language": "python",
   "name": "python2"
  },
  "language_info": {
   "codemirror_mode": {
    "name": "ipython",
    "version": 2
   },
   "file_extension": ".py",
   "mimetype": "text/x-python",
   "name": "python",
   "nbconvert_exporter": "python",
   "pygments_lexer": "ipython2",
   "version": "2.7.10"
  }
 },
 "nbformat": 4,
 "nbformat_minor": 0
}
