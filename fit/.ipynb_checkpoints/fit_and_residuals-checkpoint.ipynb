{
 "cells": [
  {
   "cell_type": "code",
   "execution_count": 105,
   "metadata": {
    "collapsed": false
   },
   "outputs": [],
   "source": [
    "#Necessary imports\n",
    "# lib for numeric calculations\n",
    "import numpy as np\n",
    "\n",
    "# standard lib for python plotting\n",
    "%matplotlib inline\n",
    "import numpy as np\n",
    "import matplotlib.pyplot as plt\n",
    "\n",
    "# seaborn lib for more option in DS\n",
    "import seaborn as sns\n",
    "\n",
    "# so to obtain pseudo-random numbers\n",
    "import random \n",
    "                                     \n",
    "# fits a curve to data\n",
    "from scipy.optimize import leastsq #least squares\n",
    "from scipy.optimize import curve_fit # non linear least squares\n",
    "\n",
    "import math\n",
    "\n"
   ]
  },
  {
   "cell_type": "markdown",
   "metadata": {},
   "source": [
    "### Plot and Fit the Data"
   ]
  },
  {
   "cell_type": "code",
   "execution_count": 97,
   "metadata": {
    "collapsed": false
   },
   "outputs": [
    {
     "data": {
      "image/png": "[encoded data removed]",
      "text/plain": [
       "<matplotlib.figure.Figure at 0x10dbdc790>"
      ]
     },
     "metadata": {},
     "output_type": "display_data"
    }
   ],
   "source": [
    "Nbins = 100\n",
    "def gauss(x, *p):\n",
    "    \"\"\" Gaussian model function\"\"\"\n",
    "    I, mu, sigma = p\n",
    "    return I * np.exp( - (x - mu) ** 2 / (2. * sigma ** 2))\n",
    "# Create the data and bin information\n",
    "data = np.random.normal(0, 1, size=10000)\n",
    "bin_values, bin_edges = np.histogram(data, density=False, bins=Nbins)\n",
    "bin_centres = (bin_edges[:-1] + bin_edges[1:])/2\n",
    "# assign params\n",
    "init_coeff = [0., 1., 1.]\n",
    "# Fit the data\n",
    "fit_coeff, var_matrix = curve_fit(gauss, bin_centres, bin_values, p0=init_coeff)\n",
    "fit_coeff, var_matrix = curve_fit(gauss, bin_centres, bin_values, p0=init_coeff)\n",
    "\n",
    "\n",
    "hist_fit = gauss(bin_centres, *fit_coeff)\n",
    "# and visualize\n",
    "plt.plot(bin_centres, hist_fit, label='Fitted data', color='red', linewidth=2)\n",
    "hist = plt.hist(data, bins=Nbins, color='blue', alpha=.3)"
   ]
  },
  {
   "cell_type": "markdown",
   "metadata": {},
   "source": [
    "### See the Fit Residuals"
   ]
  },
  {
   "cell_type": "code",
   "execution_count": 122,
   "metadata": {
    "collapsed": false
   },
   "outputs": [
    {
     "data": {
      "text/plain": [
       "'\\n  //Considering all the bins\\n  for (int i=1; i<=nbins; i++){\\n    first_index = i;\\n    last_index = i;\\n    observed = hist->GetBinContent(i);\\n    err_sq = (hist->GetBinError(i))*(hist->GetBinError(i));\\n    expected = func->Eval(hist->GetBinCenter(i));    \\n    //if observed < 6, keep adding bins\\n    while (expected < 6. && i<nbins){\\n      i++;\\n      assert (i<=nbins);\\n      last_index = i;\\n      observed += hist->GetBinContent(i);\\n      err_sq += (hist->GetBinError(i))*(hist->GetBinError(i));\\n      expected += func->Eval(hist->GetBinCenter(i));    \\n    }\\n    entries_counted += observed;\\n\\n    //make sure that there are < 6 events in the remaining bins\\n    if(n_entries-entries_counted <6){\\n      //finish it up if there are < 6 events remaining\\n      while(i<nbins){\\n\\ti++;\\n\\tlast_index = i;\\n\\tobserved += hist->GetBinContent(i);\\n\\terr_sq += (hist->GetBinError(i))*(hist->GetBinError(i));\\n\\texpected += func->Eval(hist->GetBinCenter(i));    \\n\\tentries_counted += hist->GetBinContent(i);\\n      }\\n    }\\n  \\n    cout << \"First Index \" << first_index << \"     Last Index \" << last_index << endl;\\n    cout << \"(last_index- first_index +1) \" << (last_index- first_index +1) << endl;\\n    cout << \"The number of observed for this bin was \" << observed << endl;\\n    cout << \"The number of expected for this bin was \" << expected << endl;\\n    cout << \"I\\'ve counted through bin \" << last_index << endl;\\n\\n    //    double temp = (observed-expected)*(observed-expected)/err_sq;\\n    double temp = (observed-expected)*(observed-expected)/expected;\\n    chisq += temp;\\n    //Set the values in the residual plot\\n    for (int j=first_index;j<=last_index;j++){\\n      if ((expected-observed) > 0) \\n\\tresHisto->SetBinContent(j,TMath::Sqrt(temp));\\n      else \\n\\tresHisto->SetBinContent(j,-1.*TMath::Sqrt(temp));\\n    }\\n\\n\\n    nbins_post_rebinning ++;\\n  }\\n  Int_t ndf = nbins_post_rebinning -_ndf_func;\\n  #prob = TMath::Prob(chisq,ndf); \\n  cout << \"**********************************************************************\" << endl;\\n  cout << \"**********************************************************************\" << endl;\\n  cout << \"**********************************************************************\" << endl;\\n  cout << \"**********************************************************************\" << endl;\\n  cout << \"The chi sq for this fit is \" << chisq << endl;\\n  cout << \"There were this many bins after rebinning \" << nbins_post_rebinning << endl;\\n  cout << \"and this many free parameters in the original fit \" << _ndf_func << endl;\\n  cout << \"So the probability for this fit is \" << prob << endl;\\n  cout << \"**********************************************************************\" << endl;\\n  cout << \"**********************************************************************\" << endl;\\n  cout << \"**********************************************************************\" << endl;\\n  cout << \"**********************************************************************\" << endl;\\n \\n  resHisto->SetFillColor(4); resHisto->SetFillStyle(1001);\\n  return resHisto;\\n'"
      ]
     },
     "execution_count": 122,
     "metadata": {},
     "output_type": "execute_result"
    }
   ],
   "source": [
    "def calc_chisq(hist, function, params, _ndf_func=None,  prob=None):\n",
    "    \"\"\"\n",
    "    \"\"\"\n",
    "    bin_values, bin_edges = np.histogram(data, density=False, bins=Nbins)\n",
    "    bin_centres = (bin_edges[:-1] + bin_edges[1:])/2\n",
    " \n",
    "    resHisto = None\n",
    "    newHname = ''\n",
    "\n",
    "    #hist->Sumw2();\n",
    "  \n",
    "    chisq = 0.0\n",
    "    nbins = len(bin_values)\n",
    "  \n",
    "    entries_counted = 0.;\n",
    "    ###n_entries = hist->Integral(1,nbins);\n",
    "    n_entries = 0\n",
    "    for i in bin_values:\n",
    "        n_entries += i\n",
    "    \n",
    "    first_index = 0\n",
    "    last_index = 0\n",
    "    expected = 0.\n",
    "    observed = 0\n",
    "    err_sq = 0.\n",
    "    nbins_post_rebinning = 0\n",
    " \n",
    "    tmps = []\n",
    "    histo_map = {}\n",
    "    \n",
    "    for i in range(nbins):\n",
    "        first_index = i\n",
    "        last_index = i\n",
    "        observed = bin_values[i]\n",
    "        expected = function(bin_centres[i], *params) \n",
    "        ##err_sq = (hist->GetBinError(i))*(hist->GetBinError(i));\n",
    "\n",
    "\n",
    "        \n",
    "        \n",
    "        #if observed < 6, keep adding bins\n",
    "        while expected < 6. and i < nbins-1:\n",
    "            i += 1\n",
    "            #  assert (i<=nbins)\n",
    "            last_index = i;\n",
    "            observed += bin_values[i]\n",
    "            expected += function(bin_centres[i], *params)   \n",
    "            #err_sq += (hist->GetBinError(i))*(hist->GetBinError(i));\n",
    "\n",
    "        entries_counted += observed\n",
    "        \n",
    "        \n",
    "        \n",
    "        # make sure that there are > 6 events in the remaining bins\n",
    "        if n_entries - entries_counted < 6:\n",
    "            # finish it up if there are < 6 events remaining\n",
    "            while i < nbins-1:\n",
    "                i += 1 \n",
    "                last_index = i\n",
    "                observed += bin_values[i]\n",
    "                #err_sq += (hist->GetBinError(i))*(hist->GetBinError(i));\n",
    "                expected += function(bin_centres[i], *params)  \n",
    "                entries_counted +=  bin_values[i]\n",
    "      \n",
    "    \n",
    "    \n",
    "       #temp = (observed - expected) * (observed - expected) / err_sq\n",
    "        temp = (observed - expected) * (observed - expected) / expected \n",
    "        chisq += temp;\n",
    "        \n",
    "        tmps.append(temp)\n",
    "        histo_map[i] = math.sqrt(temp)\n",
    "\n",
    "        # Set the values in the residual plot\n",
    "        \n",
    "        for j in range(first_index, last_index):\n",
    "            #if temp==0:\n",
    "            #    histo_map[j] = 0\n",
    "            #    continue\n",
    "            if (expected - observed) > 0: \n",
    "                histo_map[j] = math.sqrt(temp)\n",
    "            else:\n",
    "                histo_map[j] = -1.* math.sqrt(temp)\n",
    "\n",
    "        nbins_post_rebinning +=1 \n",
    "    \n",
    "\n",
    "    print \"First Index \" , first_index , \" ,    Last Index \" , last_index\n",
    "    print \"(last_index- first_index +1) \" , (last_index- first_index +1) \n",
    "    print \"The number of observed for this bin was \", observed \n",
    "    print \"The number of expected for this bin was \", expected \n",
    "    print \"I've counted through bin \", last_index  \n",
    "\n",
    "    #ndf = nbins_post_rebinning -_ndf_func;\n",
    "    #prob = TMath::Prob(chisq,ndf); \n",
    "    print  \"**********************************************************************\" \n",
    "    print  \"**********************************************************************\" \n",
    "    print  \"**********************************************************************\" \n",
    "    print  \"**********************************************************************\" \n",
    "    print  \"The chi sq for this fit is \", chisq\n",
    "    print  \"There were this many bins after rebinning \", nbins_post_rebinning \n",
    "    print  \"and this many free parameters in the original fit \", _ndf_func  \n",
    "    print  \"So the probability for this fit is \", prob  \n",
    "    print  \"**********************************************************************\" \n",
    "    print  \"**********************************************************************\" \n",
    "    print  \"**********************************************************************\" \n",
    "    print  \"**********************************************************************\" \n",
    "\n",
    "    return histo_map\n",
    "\n",
    "\n",
    "\"\"\"\n",
    "  //Considering all the bins\n",
    "  for (int i=1; i<=nbins; i++){\n",
    "    first_index = i;\n",
    "    last_index = i;\n",
    "    observed = hist->GetBinContent(i);\n",
    "    err_sq = (hist->GetBinError(i))*(hist->GetBinError(i));\n",
    "    expected = func->Eval(hist->GetBinCenter(i));    \n",
    "    //if observed < 6, keep adding bins\n",
    "    while (expected < 6. && i<nbins){\n",
    "      i++;\n",
    "      assert (i<=nbins);\n",
    "      last_index = i;\n",
    "      observed += hist->GetBinContent(i);\n",
    "      err_sq += (hist->GetBinError(i))*(hist->GetBinError(i));\n",
    "      expected += func->Eval(hist->GetBinCenter(i));    \n",
    "    }\n",
    "    entries_counted += observed;\n",
    "\n",
    "    //make sure that there are < 6 events in the remaining bins\n",
    "    if(n_entries-entries_counted <6){\n",
    "      //finish it up if there are < 6 events remaining\n",
    "      while(i<nbins){\n",
    "\ti++;\n",
    "\tlast_index = i;\n",
    "\tobserved += hist->GetBinContent(i);\n",
    "\terr_sq += (hist->GetBinError(i))*(hist->GetBinError(i));\n",
    "\texpected += func->Eval(hist->GetBinCenter(i));    \n",
    "\tentries_counted += hist->GetBinContent(i);\n",
    "      }\n",
    "    }\n",
    "  \n",
    "    cout << \"First Index \" << first_index << \"     Last Index \" << last_index << endl;\n",
    "    cout << \"(last_index- first_index +1) \" << (last_index- first_index +1) << endl;\n",
    "    cout << \"The number of observed for this bin was \" << observed << endl;\n",
    "    cout << \"The number of expected for this bin was \" << expected << endl;\n",
    "    cout << \"I've counted through bin \" << last_index << endl;\n",
    "\n",
    "    //    double temp = (observed-expected)*(observed-expected)/err_sq;\n",
    "    double temp = (observed-expected)*(observed-expected)/expected;\n",
    "    chisq += temp;\n",
    "    //Set the values in the residual plot\n",
    "    for (int j=first_index;j<=last_index;j++){\n",
    "      if ((expected-observed) > 0) \n",
    "\tresHisto->SetBinContent(j,TMath::Sqrt(temp));\n",
    "      else \n",
    "\tresHisto->SetBinContent(j,-1.*TMath::Sqrt(temp));\n",
    "    }\n",
    "\n",
    "\n",
    "    nbins_post_rebinning ++;\n",
    "  }\n",
    "  Int_t ndf = nbins_post_rebinning -_ndf_func;\n",
    "  #prob = TMath::Prob(chisq,ndf); \n",
    "  cout << \"**********************************************************************\" << endl;\n",
    "  cout << \"**********************************************************************\" << endl;\n",
    "  cout << \"**********************************************************************\" << endl;\n",
    "  cout << \"**********************************************************************\" << endl;\n",
    "  cout << \"The chi sq for this fit is \" << chisq << endl;\n",
    "  cout << \"There were this many bins after rebinning \" << nbins_post_rebinning << endl;\n",
    "  cout << \"and this many free parameters in the original fit \" << _ndf_func << endl;\n",
    "  cout << \"So the probability for this fit is \" << prob << endl;\n",
    "  cout << \"**********************************************************************\" << endl;\n",
    "  cout << \"**********************************************************************\" << endl;\n",
    "  cout << \"**********************************************************************\" << endl;\n",
    "  cout << \"**********************************************************************\" << endl;\n",
    " \n",
    "  resHisto->SetFillColor(4); resHisto->SetFillStyle(1001);\n",
    "  return resHisto;\n",
    "\"\"\"\n",
    "\n",
    "\n",
    "\n",
    "\n"
   ]
  },
  {
   "cell_type": "code",
   "execution_count": 123,
   "metadata": {
    "collapsed": false
   },
   "outputs": [
    {
     "name": "stdout",
     "output_type": "stream",
     "text": [
      "First Index  99  ,    Last Index  99\n",
      "(last_index- first_index +1)  1\n",
      "The number of observed for this bin was  1\n",
      "The number of expected for this bin was  0.0596267915721\n",
      "I've counted through bin  99\n",
      "**********************************************************************\n",
      "**********************************************************************\n",
      "**********************************************************************\n",
      "**********************************************************************\n",
      "The chi sq for this fit is  113.749968762\n",
      "There were this many bins after rebinning  100\n",
      "and this many free parameters in the original fit  None\n",
      "So the probability for this fit is  None\n",
      "**********************************************************************\n",
      "**********************************************************************\n",
      "**********************************************************************\n",
      "**********************************************************************\n"
     ]
    }
   ],
   "source": [
    "#plt.plot(bin_centres, hist_fit, label='Fitted data', color='red', linewidth=2)\n",
    "#hist = plt.hist(data, bins=Nbins, color='blue', alpha=.3)\n",
    "histo_map = calc_chisq(hist, gauss, coeff)\n",
    "\n",
    "#bin_width = bin_edges[1:] - bin_edges[:-1]  \n",
    "#plt.bar(bin_edges[:-1], tmps, width=bin_width) \n",
    "\n",
    "\n",
    "plt.show()\n"
   ]
  },
  {
   "cell_type": "code",
   "execution_count": 128,
   "metadata": {
    "collapsed": false
   },
   "outputs": [
    {
     "data": {
      "text/plain": [
       "<Container object of 100 artists>"
      ]
     },
     "execution_count": 128,
     "metadata": {},
     "output_type": "execute_result"
    },
    {
     "data": {
      "image/png": "[encoded data removed]",
      "text/plain": [
       "<matplotlib.figure.Figure at 0x10dafb850>"
      ]
     },
     "metadata": {},
     "output_type": "display_data"
    }
   ],
   "source": [
    "histo_map.values()\n",
    "bin_width = bin_edges[1:] - bin_edges[:-1]  \n",
    "plt.bar(bin_edges[:-1], histo_map.values(), width=bin_width) \n",
    "\n"
   ]
  },
  {
   "cell_type": "code",
   "execution_count": null,
   "metadata": {
    "collapsed": true
   },
   "outputs": [],
   "source": []
  }
 ],
 "metadata": {
  "kernelspec": {
   "display_name": "Python 2",
   "language": "python",
   "name": "python2"
  },
  "language_info": {
   "codemirror_mode": {
    "name": "ipython",
    "version": 2
   },
   "file_extension": ".py",
   "mimetype": "text/x-python",
   "name": "python",
   "nbconvert_exporter": "python",
   "pygments_lexer": "ipython2",
   "version": "2.7.10"
  }
 },
 "nbformat": 4,
 "nbformat_minor": 0
}
