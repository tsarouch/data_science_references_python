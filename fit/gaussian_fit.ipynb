{
 "cells": [
  {
   "cell_type": "markdown",
   "metadata": {},
   "source": [
    "The typical problem we have to solve:\n",
    "\n",
    "Modeling data and determining how well some theoretical function describes experimental data.\n",
    "\n",
    "Lets say we want to study the properties of a distribution e.g. physics process.\n",
    "Typically we see the histogram and we want to see to which class of distribution belongs to.\n",
    "we can obtain this by fitting our data and checking the residuals (goodness of fit)"
   ]
  },
  {
   "cell_type": "code",
   "execution_count": 50,
   "metadata": {
    "collapsed": false
   },
   "outputs": [],
   "source": [
    "#Necessary imports\n",
    "\n",
    "# lib for numeric calculations\n",
    "import numpy as np\n",
    "\n",
    "# standard lib for python plotting\n",
    "%matplotlib inline\n",
    "import numpy as np\n",
    "import matplotlib.pyplot as plt\n",
    "\n",
    "# seaborn lib for more option in DS\n",
    "import seaborn as sns\n",
    "\n",
    "# so to obtain pseudo-random numbers\n",
    "import random \n",
    "                                     \n",
    "# fits a curve to data\n",
    "from scipy.optimize import curve_fit                                     "
   ]
  },
  {
   "cell_type": "code",
   "execution_count": 74,
   "metadata": {
    "collapsed": true
   },
   "outputs": [],
   "source": [
    "# Lets say that a physics process gives us a gaussian distribution with a\n",
    "# mean value somewhere between 3 nad 5\n",
    "# and a sigma with a value around 1\n",
    "# We do not know exactly their precise number and this is what we want to figure out with the fit.\n",
    "mu =  random.randrange(3, 5, 1)\n",
    "sigma = 0.1 * random.randrange(8, 12, 1)"
   ]
  },
  {
   "cell_type": "code",
   "execution_count": 93,
   "metadata": {
    "collapsed": true
   },
   "outputs": [],
   "source": [
    "# Now we know (or assume looking at the histogram) that our distribution is a gaussian\n",
    "def gauss(x, *p):\n",
    "    \"\"\" Gaussian model function\n",
    "    \"\"\"\n",
    "    I, mu, sigma = p\n",
    "    return I * np.exp( - (x - mu) ** 2 / (2. * sigma ** 2))\n",
    "\n"
   ]
  },
  {
   "cell_type": "code",
   "execution_count": 94,
   "metadata": {
    "collapsed": false
   },
   "outputs": [
    {
     "name": "stdout",
     "output_type": "stream",
     "text": [
      "Fitted mean =  4.00332689357\n",
      "Fitted standard deviation =  -1.10501201571\n"
     ]
    },
    {
     "data": {
      "image/png": "[encoded data removed]",
      "text/plain": [
       "<matplotlib.figure.Figure at 0x10f8c58d0>"
      ]
     },
     "metadata": {},
     "output_type": "display_data"
    }
   ],
   "source": [
    "# Create the data\n",
    "data = np.random.normal(mu, sigma, size=10000)\n",
    "\n",
    "# Get histogram information\n",
    "bin_values, bin_edges = np.histogram(data, density=False, bins=100)\n",
    "bin_centres = (bin_edges[:-1] + bin_edges[1:])/2\n",
    "\n",
    "\n",
    "# p0 is an initial guess for the fitting parameters (I, mu and sigma above)\n",
    "params = [1., 4., 1.]\n",
    "\n",
    "# Get the coefficients\n",
    "coeff, var_matrix = curve_fit(gauss, bin_centres, bin_values, p0=params)\n",
    "\n",
    "# Get the fitted curve\n",
    "hist_fit = gauss(bin_centres, *coeff)\n",
    "\n",
    "plt.plot(bin_centres, hist_fit, label='Fitted data', color='red', linewidth=2)\n",
    "_ = plt.hist(data, bins=100, color='blue', alpha=.3)\n",
    "\n",
    "# Finally, lets get the fitting parameters, i.e. the mean and standard deviation:\n",
    "print 'Fitted mean = ', coeff[1]\n",
    "print 'Fitted standard deviation = ', coeff[2]\n",
    "plt.show()"
   ]
  },
  {
   "cell_type": "code",
   "execution_count": 1,
   "metadata": {
    "collapsed": false
   },
   "outputs": [
    {
     "data": {
      "text/plain": [
       "0.01"
      ]
     },
     "execution_count": 1,
     "metadata": {},
     "output_type": "execute_result"
    }
   ],
   "source": [
    "100./10000\n"
   ]
  },
  {
   "cell_type": "code",
   "execution_count": null,
   "metadata": {
    "collapsed": true
   },
   "outputs": [],
   "source": []
  }
 ],
 "metadata": {
  "kernelspec": {
   "display_name": "Python 2",
   "language": "python",
   "name": "python2"
  },
  "language_info": {
   "codemirror_mode": {
    "name": "ipython",
    "version": 2
   },
   "file_extension": ".py",
   "mimetype": "text/x-python",
   "name": "python",
   "nbconvert_exporter": "python",
   "pygments_lexer": "ipython2",
   "version": "2.7.10"
  }
 },
 "nbformat": 4,
 "nbformat_minor": 0
}
