{
 "cells": [
  {
   "cell_type": "code",
   "execution_count": 2,
   "metadata": {
    "collapsed": true
   },
   "outputs": [],
   "source": [
    "import numpy as np\n",
    "import matplotlib.pyplot as plt"
   ]
  },
  {
   "cell_type": "markdown",
   "metadata": {},
   "source": [
    "### Linear fit"
   ]
  },
  {
   "cell_type": "code",
   "execution_count": 13,
   "metadata": {
    "collapsed": false
   },
   "outputs": [
    {
     "data": {
      "image/png": "[encoded data removed]",
      "text/plain": [
       "<matplotlib.figure.Figure at 0x109a3e890>"
      ]
     },
     "metadata": {},
     "output_type": "display_data"
    },
    {
     "name": "stdout",
     "output_type": "stream",
     "text": [
      "The polynomial of the fit is:   \n",
      "0.9212 x + 0.4545\n"
     ]
    }
   ],
   "source": [
    "# generate data\n",
    "n_points = 10\n",
    "x = np.array(range(n_points))\n",
    "y = np.array(range(n_points))\n",
    "#lets make it more real\n",
    "y[1] = 2\n",
    "y[4] = 5\n",
    "y[7] = 6\n",
    "\n",
    "# perform the polynomial fit\n",
    "z = np.polyfit(x, y, 1)\n",
    "# use poly1d, an one-dimensional polynomial convenience class, to encapsulate “natural” operations on polynomials \n",
    "p = np.poly1d(z)\n",
    "\n",
    "# add the fit line\n",
    "xp = np.linspace(0, 10, 10)\n",
    "\n",
    "#plot\n",
    "_ = plt.plot(x, y, '.', xp, p(xp), '-')\n",
    "plt.ylim(0,15)\n",
    "plt.show()\n",
    "\n",
    "print \"The polynomial of the fit is: \", p"
   ]
  },
  {
   "cell_type": "code",
   "execution_count": 12,
   "metadata": {
    "collapsed": false
   },
   "outputs": [
    {
     "data": {
      "text/plain": [
       "poly1d([ 0.92121212,  0.45454545])"
      ]
     },
     "execution_count": 12,
     "metadata": {},
     "output_type": "execute_result"
    }
   ],
   "source": [
    "p"
   ]
  },
  {
   "cell_type": "markdown",
   "metadata": {},
   "source": [
    "### Polynomial fit of higher degree"
   ]
  },
  {
   "cell_type": "code",
   "execution_count": 14,
   "metadata": {
    "collapsed": false
   },
   "outputs": [
    {
     "data": {
      "image/png": "[encoded data removed]",
      "text/plain": [
       "<matplotlib.figure.Figure at 0x109b63550>"
      ]
     },
     "metadata": {},
     "output_type": "display_data"
    },
    {
     "name": "stdout",
     "output_type": "stream",
     "text": [
      "The polynomial of the fit is:           3          2\n",
      "0.08704 x - 0.8135 x + 1.693 x - 0.03968\n"
     ]
    }
   ],
   "source": [
    "# generate the data\n",
    "x = np.array([0.0, 1.0, 2.0, 3.0,  4.0,  5.0])\n",
    "y = np.array([0.0, 0.8, 0.9, 0.1, -0.8, -1.0])\n",
    "\n",
    "# perform the fit \n",
    "z = np.polyfit(x, y, 3)\n",
    "p = np.poly1d(z)\n",
    "\n",
    "# plot\n",
    "xp = np.linspace(-2, 6, 100)\n",
    "_ = plt.plot(x, y, '.', xp, p(xp), '-')\n",
    "plt.ylim(-2,2)\n",
    "plt.show()\n",
    "\n",
    "print \"The polynomial of the fit is: \", p"
   ]
  },
  {
   "cell_type": "code",
   "execution_count": null,
   "metadata": {
    "collapsed": true
   },
   "outputs": [],
   "source": []
  }
 ],
 "metadata": {
  "kernelspec": {
   "display_name": "Python 2",
   "language": "python",
   "name": "python2"
  },
  "language_info": {
   "codemirror_mode": {
    "name": "ipython",
    "version": 2
   },
   "file_extension": ".py",
   "mimetype": "text/x-python",
   "name": "python",
   "nbconvert_exporter": "python",
   "pygments_lexer": "ipython2",
   "version": "2.7.12"
  }
 },
 "nbformat": 4,
 "nbformat_minor": 0
}
