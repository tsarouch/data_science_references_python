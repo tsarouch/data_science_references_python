{
 "cells": [
  {
   "cell_type": "code",
   "execution_count": 1,
   "metadata": {
    "collapsed": true
   },
   "outputs": [],
   "source": [
    "import requests\n",
    "import json\n",
    "import os\n",
    "from time import sleep"
   ]
  },
  {
   "cell_type": "code",
   "execution_count": 266,
   "metadata": {
    "collapsed": true
   },
   "outputs": [],
   "source": [
    "# Good to know..\n",
    "# Status Description\n",
    "# 200 “OK”: nonspecific success\n",
    "# 201 “Created”: successful resource creation\n",
    "# 202 “Accepted”: successful start of an asynchronous action\n",
    "# 204 “No Content”: success without any content\n",
    "# 400 “Bad Request”: nonspecific failure\n",
    "# 401 “Unauthorized”: failed authentication or authorization\n",
    "# 404 “Not Found”: resource not found at the target URI\n",
    "# 500 “Internal Server Error”: API malfunction"
   ]
  },
  {
   "cell_type": "markdown",
   "metadata": {},
   "source": [
    "## Credentials"
   ]
  },
  {
   "cell_type": "code",
   "execution_count": 2,
   "metadata": {
    "collapsed": true
   },
   "outputs": [],
   "source": [
    "#myIbmId = 'ips.app@outlook.com'\n",
    "#myIbmIdPassword = 'ips.app1'\n",
    "#myClientId = '5c20d153-09ad-40e3-9387-124cd132bc42'\n",
    "#myClientSecret = 'R8qP7dF2kH4fH4iH3lH2iJ7uD3yI2fQ5oY0cH8pE2kY3eN0cJ8'\n",
    "\n",
    "myIbmId = 'tsarouch@gmail.com'\n",
    "myIbmIdPassword = 'Eat2@pples'\n",
    "myClientId = '28701078-8029-4da5-a335-763d0b05951f'\n",
    "myClientSecret = 'tY2pF6qW6fG2hC2qD3jQ3rF1gR8oF2yQ6cF0sM4yU1yH7kV0lH'"
   ]
  },
  {
   "cell_type": "code",
   "execution_count": 3,
   "metadata": {
    "collapsed": true
   },
   "outputs": [],
   "source": [
    "apiBase = 'https://' + myIbmId + ':' + myIbmIdPassword + '@api.ibm.com/pairs/run/v1/'\n",
    "apiHeaders = {\n",
    "    'Content-Type': 'application/json', # Required for POST and PUT operations\n",
    "    'x-ibm-client-id': myClientId,\n",
    "    'x-ibm-client-secret': myClientSecret\n",
    "}"
   ]
  },
  {
   "cell_type": "markdown",
   "metadata": {},
   "source": [
    "## Check connection"
   ]
  },
  {
   "cell_type": "code",
   "execution_count": 4,
   "metadata": {},
   "outputs": [
    {
     "name": "stdout",
     "output_type": "stream",
     "text": [
      "HTTP status code: 204\n"
     ]
    }
   ],
   "source": [
    "# The \"noop\" operation is useful for checking API invocation credentials, gathering performance measures, monitoring API service availability, etc.\n",
    "apiName = 'noop'\n",
    "response = requests.get((apiBase + apiName), headers=apiHeaders)\n",
    "print('HTTP status code: ' + str(response.status_code))\n",
    "if (response.status_code != 204):\n",
    "    print(response.json())"
   ]
  },
  {
   "cell_type": "markdown",
   "metadata": {},
   "source": [
    "## Delete a past query if needed"
   ]
  },
  {
   "cell_type": "code",
   "execution_count": 284,
   "metadata": {},
   "outputs": [
    {
     "name": "stdout",
     "output_type": "stream",
     "text": [
      "HTTP status code: 204\n"
     ]
    }
   ],
   "source": [
    "queryId = '41f3afebb1799875da9ba07a3d5d840a'\n",
    "apiName = 'queries' + '/' + queryId\n",
    "response = requests.delete((apiBase + apiName), headers=apiHeaders)\n",
    "print('HTTP status code: ' + str(response.status_code))\n",
    "if (response.status_code != 204):\n",
    "    print(response.json())"
   ]
  },
  {
   "cell_type": "markdown",
   "metadata": {},
   "source": [
    "## Submit a query"
   ]
  },
  {
   "cell_type": "code",
   "execution_count": 555,
   "metadata": {},
   "outputs": [],
   "source": [
    "df_geocodes = pd.read_csv('/Users/charilaostsarouchas/Downloads/extended.csv')\n",
    "df_geocodes = df_geocodes.sample(frac=1)\n",
    "df_geocodes['lat'] = df_geocodes['lat'].astype('str')\n",
    "df_geocodes['long'] = df_geocodes['lon'].astype('str')\n",
    "points_examples = df_geocodes[['lat', 'long']].drop_duplicates()[:10].to_dict('records')"
   ]
  },
  {
   "cell_type": "code",
   "execution_count": 568,
   "metadata": {},
   "outputs": [
    {
     "data": {
      "text/plain": [
       "[{'lat': '39.6247215271', 'long': '-0.595210015774'},\n",
       " {'lat': '42.3436415', 'long': '-7.8674242'},\n",
       " {'lat': '37.2575874', 'long': '-6.9484945'},\n",
       " {'lat': '42.035291', 'long': '0.1273884'},\n",
       " {'lat': '37.2961366', 'long': '-1.8807223'},\n",
       " {'lat': '39.42333775', 'long': '-0.478919564333'},\n",
       " {'lat': '38.353738', 'long': '-0.4901846'},\n",
       " {'lat': '41.4963684082', 'long': '2.16325998306'},\n",
       " {'lat': '37.8706817627', 'long': '-4.77859020233'},\n",
       " {'lat': '41.620353', 'long': '2.6017906'}]"
      ]
     },
     "execution_count": 568,
     "metadata": {},
     "output_type": "execute_result"
    }
   ],
   "source": [
    "points_examples"
   ]
  },
  {
   "cell_type": "code",
   "execution_count": 586,
   "metadata": {},
   "outputs": [
    {
     "name": "stdout",
     "output_type": "stream",
     "text": [
      "the query id is:  19bcb15f0cb2004b6ef3422693b480d9\n"
     ]
    }
   ],
   "source": [
    "apiName = 'queries'\n",
    "apiBody = {\n",
    "    \"name\": \"point query\",\n",
    "    \"spatial\" : {\n",
    "        \"type\" : \"point\",\n",
    "        \"point\" : [{\"lat\" : \"39.6247215271\", \"long\" : \"-0.595210015774\"},\n",
    "                   {\"lat\": '42.3436415', 'long': '-7.8674242'},\n",
    "                   {'lat': '37.2575874', 'long': '-6.9484945'}]  \n",
    "    },\n",
    "    \"datalayer\" : [\n",
    "        {\"id\" : \"25001\",\n",
    "         \"temporal\": [[\"2016-02-01\", \"2016-03-01\"]]\n",
    "        }\n",
    "    ]\n",
    "}\n",
    "query_response = requests.post((apiBase + apiName), headers=apiHeaders, data=json.dumps(apiBody))\n",
    "print \"the query id is: \", query_response.json()['query'][0]['id']"
   ]
  },
  {
   "cell_type": "markdown",
   "metadata": {},
   "source": [
    "## Check the query and job status"
   ]
  },
  {
   "cell_type": "code",
   "execution_count": 588,
   "metadata": {},
   "outputs": [
    {
     "name": "stdout",
     "output_type": "stream",
     "text": [
      "Query ID:  19bcb15f0cb2004b6ef3422693b480d9\n",
      "Query Status Response:  200\n",
      "Job ID:  7ac58840852a06af32be94fe3b88271a\n",
      "Job Status Response:  200\n"
     ]
    }
   ],
   "source": [
    "# query\n",
    "query_id = query_response.json()['query'][0]['id']\n",
    "print \"Query ID: \", query_id\n",
    "apiName = 'queries' + '/' + query_id + \"?done=true\"\n",
    "query_response = requests.get((apiBase + apiName), headers=apiHeaders)\n",
    "print \"Query Status Response: \", query_response.status_code\n",
    "\n",
    "\n",
    "# job\n",
    "job_id = query_response.json()['query'][0]['job']['id']\n",
    "print \"Job ID: \", job_id\n",
    "apiName = 'jobs' + '/' + job_id\n",
    "job_response = requests.get((apiBase + apiName), headers=apiHeaders)\n",
    "print \"Job Status Response: \", job_response.status_code"
   ]
  },
  {
   "cell_type": "code",
   "execution_count": 589,
   "metadata": {},
   "outputs": [
    {
     "name": "stdout",
     "output_type": "stream",
     "text": [
      "19bcb15f0cb2004b6ef3422693b480d9\n",
      "Query status:  200\n",
      "Query - Job status:  201\n"
     ]
    }
   ],
   "source": [
    "query_id = query_response.json()['query'][0]['id']\n",
    "print query_id\n",
    "\n",
    "apiName = 'queries' + '/' + query_id + \"?done=true\"\n",
    "response = requests.get((apiBase + apiName), headers=apiHeaders)\n",
    "\n",
    "print  \"Query status: \", response.status_code\n",
    "\n",
    "result = None\n",
    "if response.status_code == 200:\n",
    "    response = requests.get((apiBase + apiName), headers=apiHeaders)\n",
    "\n",
    "    print  \"Query - Job status: \", response.json()['query'][0]['job']['status']\n",
    "    if response.json()['query'][0]['job']['status'] == '201':\n",
    "        downloadUrl = response.json()['query'][0]['result']['refs'][0]['url']\n",
    "        result = requests.get(downloadUrl)"
   ]
  },
  {
   "cell_type": "code",
   "execution_count": 590,
   "metadata": {},
   "outputs": [
    {
     "name": "stdout",
     "output_type": "stream",
     "text": [
      "N datapoints:  116\n"
     ]
    }
   ],
   "source": [
    "print \"N datapoints: \", len(json.loads(result.content)['data'])"
   ]
  },
  {
   "cell_type": "markdown",
   "metadata": {},
   "source": [
    "## Retrieve data to DataFrame"
   ]
  },
  {
   "cell_type": "code",
   "execution_count": 591,
   "metadata": {},
   "outputs": [],
   "source": [
    "import datetime\n",
    "import pandas as pd\n",
    "data = []\n",
    "for i in range(len(json.loads(result.content)['data'])):\n",
    "    ts = json.loads(result.content)['data'][i]['timestamp']\n",
    "    dt = datetime.datetime.fromtimestamp(int(ts/1000)).strftime('%Y-%m-%d %H:%M:%S')\n",
    "    date = dt[:10]\n",
    "    temp_K = json.loads(result.content)['data'][i]['value']\n",
    "    temp_C = temp_K -273.15\n",
    "    lat = json.loads(result.content)['data'][i]['lat']\n",
    "    lon = json.loads(result.content)['data'][i]['lon']\n",
    "    data.append([lat, lon, ts, dt, date, temp_C])\n",
    "df = pd.DataFrame(data=data, columns = ['lat', 'lon', 'timestamp', 'datetime', 'date', 'temperature'])"
   ]
  },
  {
   "cell_type": "code",
   "execution_count": 592,
   "metadata": {},
   "outputs": [
    {
     "data": {
      "text/html": [
       "<div>\n",
       "<table border=\"1\" class=\"dataframe\">\n",
       "  <thead>\n",
       "    <tr style=\"text-align: right;\">\n",
       "      <th></th>\n",
       "      <th>lat</th>\n",
       "      <th>lon</th>\n",
       "      <th>timestamp</th>\n",
       "      <th>datetime</th>\n",
       "      <th>date</th>\n",
       "      <th>temperature</th>\n",
       "    </tr>\n",
       "  </thead>\n",
       "  <tbody>\n",
       "    <tr>\n",
       "      <th>0</th>\n",
       "      <td>39.624722</td>\n",
       "      <td>-0.59521</td>\n",
       "      <td>1456790400000</td>\n",
       "      <td>2016-03-01 01:00:00</td>\n",
       "      <td>2016-03-01</td>\n",
       "      <td>5.074487</td>\n",
       "    </tr>\n",
       "    <tr>\n",
       "      <th>1</th>\n",
       "      <td>39.624722</td>\n",
       "      <td>-0.59521</td>\n",
       "      <td>1456768800000</td>\n",
       "      <td>2016-02-29 19:00:00</td>\n",
       "      <td>2016-02-29</td>\n",
       "      <td>7.257257</td>\n",
       "    </tr>\n",
       "    <tr>\n",
       "      <th>2</th>\n",
       "      <td>39.624722</td>\n",
       "      <td>-0.59521</td>\n",
       "      <td>1456747200000</td>\n",
       "      <td>2016-02-29 13:00:00</td>\n",
       "      <td>2016-02-29</td>\n",
       "      <td>8.097009</td>\n",
       "    </tr>\n",
       "    <tr>\n",
       "      <th>3</th>\n",
       "      <td>39.624722</td>\n",
       "      <td>-0.59521</td>\n",
       "      <td>1456725600000</td>\n",
       "      <td>2016-02-29 07:00:00</td>\n",
       "      <td>2016-02-29</td>\n",
       "      <td>4.240259</td>\n",
       "    </tr>\n",
       "    <tr>\n",
       "      <th>4</th>\n",
       "      <td>39.624722</td>\n",
       "      <td>-0.59521</td>\n",
       "      <td>1456704000000</td>\n",
       "      <td>2016-02-29 01:00:00</td>\n",
       "      <td>2016-02-29</td>\n",
       "      <td>5.112756</td>\n",
       "    </tr>\n",
       "  </tbody>\n",
       "</table>\n",
       "</div>"
      ],
      "text/plain": [
       "         lat      lon      timestamp             datetime        date  \\\n",
       "0  39.624722 -0.59521  1456790400000  2016-03-01 01:00:00  2016-03-01   \n",
       "1  39.624722 -0.59521  1456768800000  2016-02-29 19:00:00  2016-02-29   \n",
       "2  39.624722 -0.59521  1456747200000  2016-02-29 13:00:00  2016-02-29   \n",
       "3  39.624722 -0.59521  1456725600000  2016-02-29 07:00:00  2016-02-29   \n",
       "4  39.624722 -0.59521  1456704000000  2016-02-29 01:00:00  2016-02-29   \n",
       "\n",
       "   temperature  \n",
       "0     5.074487  \n",
       "1     7.257257  \n",
       "2     8.097009  \n",
       "3     4.240259  \n",
       "4     5.112756  "
      ]
     },
     "execution_count": 592,
     "metadata": {},
     "output_type": "execute_result"
    }
   ],
   "source": [
    "df.head()"
   ]
  },
  {
   "cell_type": "markdown",
   "metadata": {},
   "source": [
    "## Visualize"
   ]
  },
  {
   "cell_type": "code",
   "execution_count": 593,
   "metadata": {},
   "outputs": [],
   "source": [
    "import os\n",
    "import numpy as np\n",
    "import folium\n",
    "from folium.plugins import HeatMap"
   ]
  },
  {
   "cell_type": "code",
   "execution_count": 594,
   "metadata": {},
   "outputs": [
    {
     "data": {
      "text/plain": [
       "lat        lon     \n",
       "39.624722  -0.59521    999.962396\n",
       "Name: temperature, dtype: float64"
      ]
     },
     "execution_count": 594,
     "metadata": {},
     "output_type": "execute_result"
    }
   ],
   "source": [
    "df.groupby(['lat','lon'])['temperature'].agg('sum')"
   ]
  },
  {
   "cell_type": "code",
   "execution_count": 595,
   "metadata": {},
   "outputs": [
    {
     "data": {
      "text/html": [
       "<div style=\"width:100%;\"><div style=\"position:relative;width:100%;height:0;padding-bottom:60%;\"><iframe src=\"data:text/html;charset=utf-8;base64,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\" style=\"position:absolute;width:100%;height:100%;left:0;top:0;border:none !important;\" allowfullscreen webkitallowfullscreen mozallowfullscreen></iframe></div></div>"
      ],
      "text/plain": [
       "<folium.folium.Map at 0x11a61c210>"
      ]
     },
     "execution_count": 595,
     "metadata": {},
     "output_type": "execute_result"
    }
   ],
   "source": [
    "m = folium.Map([48., 5.], tiles='stamentoner', zoom_start=7)\n",
    "data = df[['lat', 'lon', 'temperature']].values.tolist()\n",
    "HeatMap(data).add_to(m)\n",
    "m.save(os.path.join('/Users/charilaostsarouchas/Downloads/', 'Heatmap.html'))\n",
    "m"
   ]
  },
  {
   "cell_type": "code",
   "execution_count": 531,
   "metadata": {
    "collapsed": true
   },
   "outputs": [],
   "source": [
    "import folium\n",
    "import folium.plugins as plugins\n",
    "import numpy as np\n",
    "\n",
    "np.random.seed(3141592)\n",
    "initial_data = (\n",
    "    np.random.normal(size=(100, 2)) * np.array([[1, 1]]) +\n",
    "    np.array([[48, 5]])\n",
    ")\n",
    "\n",
    "move_data = np.random.normal(size=(100, 2)) * 0.01\n",
    "\n",
    "data = [(initial_data + move_data * i).tolist() for i in range(100)]"
   ]
  },
  {
   "cell_type": "code",
   "execution_count": null,
   "metadata": {},
   "outputs": [],
   "source": [
    "df.groupby('')"
   ]
  },
  {
   "cell_type": "code",
   "execution_count": 538,
   "metadata": {},
   "outputs": [
    {
     "data": {
      "text/html": [
       "<div style=\"width:100%;\"><div style=\"position:relative;width:100%;height:0;padding-bottom:60%;\"><iframe src=\"data:text/html;charset=utf-8;base64,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\" style=\"position:absolute;width:100%;height:100%;left:0;top:0;border:none !important;\" allowfullscreen webkitallowfullscreen mozallowfullscreen></iframe></div></div>"
      ],
      "text/plain": [
       "<folium.folium.Map at 0x12cbbae50>"
      ]
     },
     "execution_count": 538,
     "metadata": {},
     "output_type": "execute_result"
    }
   ],
   "source": [
    "data = df.sort_values(by='timestamp')[['lat', 'lon', 'temperature']].values.tolist()\n",
    "m = folium.Map([48., 5.], tiles='stamentoner', zoom_start=6)\n",
    "hm = plugins.HeatMapWithTime(data)\n",
    "hm.add_to(m)\n",
    "m"
   ]
  },
  {
   "cell_type": "code",
   "execution_count": null,
   "metadata": {
    "collapsed": true
   },
   "outputs": [],
   "source": []
  },
  {
   "cell_type": "code",
   "execution_count": null,
   "metadata": {
    "collapsed": true
   },
   "outputs": [],
   "source": []
  },
  {
   "cell_type": "code",
   "execution_count": null,
   "metadata": {
    "collapsed": true
   },
   "outputs": [],
   "source": [
    "# curl \\\n",
    "#   -X POST \"https://ibmpairs-mvp2-api.mybluemix.net/queryjobs?spatialLimitsType=area\" \\\n",
    "#   -H \"Content-Type: application/json\" \\\n",
    "#   -H \"X-Access-Token: 4usk9y29lzsj2vuwb0rwvad1rg9ogdmbijcp4b6a\" \\\n",
    "#   -d '{\"name\":\"Agriculture in Midwestern U.S.\",\"description\":\"We compare the US Department of Agriculture's crop data with PRISM (historical weather observation in USA) temperature data during the beginning of June 2017. Since the crop data is associated with January 1st, the query uses different temporal intervals for each layer.\",\"isPublic\":true,\"layers\":[{\"dataLayerId\":\"48522\",\"startingDateTime\":\"2017-01-01T00:00:00.000Z\",\"endingDateTime\":\"2017-01-01T00:00:00.000Z\",\"aggregationOperator\":\"None\",\"dimensions\":[]},{\"dataLayerId\":\"92\",\"startingDateTime\":\"2017-06-01T00:00:00.000Z\",\"endingDateTime\":\"2017-06-07T00:00:00.000Z\",\"aggregationOperator\":\"None\",\"dimensions\":[]}],\"filters\":[],\"space\":{\"northEastCoordinate\":{\"latitude\":42.391008609205045,\"longitude\":-88.83544921875},\"southWestCoordinate\":{\"latitude\":36.13787471840729,\"longitude\":-100.61279296875}}}'\n",
    "                                \n",
    "# curl \"https://ibmpairs-mvp2-api.mybluemix.net/queryjobs/00000000-2137-8c84-0000-00002155c70a\" \\\n",
    "#   -H \"X-Access-Token: 4usk9y29lzsj2vuwb0rwvad1rg9ogdmbijcp4b6a\""
   ]
  },
  {
   "cell_type": "code",
   "execution_count": 55,
   "metadata": {},
   "outputs": [],
   "source": [
    "import os\n",
    "cmd = 'curl \"https://ibmpairs-mvp2-api.mybluemix.net/queryjobs/00000000-0cd6-1fa3-0000-000002f71050\" -H \"X-Access-Token: 4usk9y29lzsj2vuwb0rwvad1rg9ogdmbijcp4b6a\"'\n",
    "result = os.popen(cmd).read()\n",
    "\n",
    "# move str result to dictionary\n",
    "d = json.loads(result)"
   ]
  },
  {
   "cell_type": "code",
   "execution_count": 56,
   "metadata": {},
   "outputs": [
    {
     "name": "stdout",
     "output_type": "stream",
     "text": [
      "{\n",
      "  \"status\": \"success\", \n",
      "  \"visualization\": {\n",
      "    \"displayedBoundingBox\": {\n",
      "      \"northEastCoordinate\": {\n",
      "        \"latitude\": 71.254509, \n",
      "        \"longitude\": 33.1398048\n",
      "      }, \n",
      "      \"southWestCoordinate\": {\n",
      "        \"latitude\": 33.0167274, \n",
      "        \"longitude\": -11.8601971\n",
      "      }\n",
      "    }, \n",
      "    \"layers\": [\n",
      "      {\n",
      "        \"endingDateTime\": \"2015-01-01T00:00:00.084Z\", \n",
      "        \"aggregationOperator\": \"None\", \n",
      "        \"dataLayer\": {\n",
      "          \"description\": null, \n",
      "          \"timeRange\": {\n",
      "            \"startingDateTime\": \"2000-01-01T00:00:01.000Z\", \n",
      "            \"endingDateTime\": \"2015-01-01T00:00:01.000Z\"\n",
      "          }, \n",
      "          \"boundingBox\": {\n",
      "            \"northEastCoordinate\": {\n",
      "              \"latitude\": 83.80147199999999, \n",
      "              \"longitude\": 180.185856\n",
      "            }, \n",
      "            \"southWestCoordinate\": {\n",
      "              \"latitude\": -56.183424, \n",
      "              \"longitude\": -180.0\n",
      "            }\n",
      "          }, \n",
      "          \"units\": \"humans/km^2\", \n",
      "          \"dimensions\": [], \n",
      "          \"type\": \"RASTER\", \n",
      "          \"id\": \"48774\", \n",
      "          \"dataSetId\": \"106\", \n",
      "          \"name\": \"Global Population Density\"\n",
      "        }, \n",
      "        \"displayUnits\": \"humans/km^2\", \n",
      "        \"wms\": {\n",
      "          \"filter\": \"\", \n",
      "          \"legendStyledLayerDescriptor\": \"https://pairs.res.ibm.com:443/map/sld?type=raster&min=0.000000&max=250.000000&colorTableId=4&property=value&layer=pairs:1520182800_21381516GlobalPopulation-GlobalPopulationDensity-01_01_2015T000000\", \n",
      "          \"styledLayerDescriptor\": \"https://pairs.res.ibm.com:443/map/sld?type=raster&min=0.000000&max=250.000000&colorTableId=4&no_data=-1&property=value&layer=pairs:1520182800_21381516GlobalPopulation-GlobalPopulationDensity-01_01_2015T000000\", \n",
      "          \"geoserverUrl\": \"https://pairs.res.ibm.com:8443/geoserver/wms\", \n",
      "          \"name\": \"1520182800_21381516GlobalPopulation-GlobalPopulationDensity-01_01_2015T000000\"\n",
      "        }, \n",
      "        \"startingDateTime\": \"2015-01-01T00:00:00.084Z\", \n",
      "        \"id\": \"2029537337\", \n",
      "        \"dimensions\": []\n",
      "      }\n",
      "    ], \n",
      "    \"timeRange\": {\n",
      "      \"startingDateTime\": \"2015-01-01T00:00:00.000Z\", \n",
      "      \"endingDateTime\": \"2015-01-01T00:00:00.000Z\"\n",
      "    }\n",
      "  }, \n",
      "  \"isSampleQueryJob\": true, \n",
      "  \"queuePosition\": 0, \n",
      "  \"statusDescription\": \"Success\", \n",
      "  \"notebook\": null, \n",
      "  \"progress\": 100, \n",
      "  \"query\": {\n",
      "    \"layers\": [\n",
      "      {\n",
      "        \"startingDateTime\": \"2015-01-01T00:00:00.000Z\", \n",
      "        \"dataLayerId\": \"48774\", \n",
      "        \"endingDateTime\": \"2015-01-01T00:00:00.000Z\", \n",
      "        \"aggregationOperator\": \"None\", \n",
      "        \"dimensions\": []\n",
      "      }\n",
      "    ], \n",
      "    \"name\": \"Population Density of Europe\", \n",
      "    \"space\": {\n",
      "      \"northEastCoordinate\": {\n",
      "        \"latitude\": 71.25450934954355, \n",
      "        \"longitude\": 33.139802999999986\n",
      "      }, \n",
      "      \"southWestCoordinate\": {\n",
      "        \"latitude\": 33.016726206498475, \n",
      "        \"longitude\": -11.860197000000005\n",
      "      }\n",
      "    }, \n",
      "    \"isPublic\": true, \n",
      "    \"filters\": [], \n",
      "    \"description\": \"The query shows the population density of Europe. Using the settings menu to change the color scale leads to a better graphical representation of areas with low or high population respectively.\"\n",
      "  }, \n",
      "  \"ownerId\": null, \n",
      "  \"queueSize\": 1, \n",
      "  \"creationDateTime\": \"2018-03-04T22:48:55.926Z\", \n",
      "  \"id\": \"00000000-0cd6-1fa3-0000-000002f71050\", \n",
      "  \"downloadUri\": null\n",
      "}\n"
     ]
    }
   ],
   "source": [
    "# move d to json\n",
    "print(json.dumps(d, indent=2))"
   ]
  },
  {
   "cell_type": "code",
   "execution_count": 57,
   "metadata": {},
   "outputs": [
    {
     "name": "stdout",
     "output_type": "stream",
     "text": [
      "['status', 'visualization', 'isSampleQueryJob', 'queuePosition', 'statusDescription', 'notebook', 'progress', 'query', 'ownerId', 'queueSize', 'creationDateTime', 'id', 'downloadUri']\n"
     ]
    }
   ],
   "source": [
    "print [str(i) for i in d.keys()]"
   ]
  },
  {
   "cell_type": "code",
   "execution_count": 61,
   "metadata": {},
   "outputs": [
    {
     "data": {
      "text/plain": [
       "{u'description': u'The query shows the population density of Europe. Using the settings menu to change the color scale leads to a better graphical representation of areas with low or high population respectively.',\n",
       " u'filters': [],\n",
       " u'isPublic': True,\n",
       " u'layers': [{u'aggregationOperator': u'None',\n",
       "   u'dataLayerId': u'48774',\n",
       "   u'dimensions': [],\n",
       "   u'endingDateTime': u'2015-01-01T00:00:00.000Z',\n",
       "   u'startingDateTime': u'2015-01-01T00:00:00.000Z'}],\n",
       " u'name': u'Population Density of Europe',\n",
       " u'space': {u'northEastCoordinate': {u'latitude': 71.25450934954355,\n",
       "   u'longitude': 33.139802999999986},\n",
       "  u'southWestCoordinate': {u'latitude': 33.016726206498475,\n",
       "   u'longitude': -11.860197000000005}}}"
      ]
     },
     "execution_count": 61,
     "metadata": {},
     "output_type": "execute_result"
    }
   ],
   "source": [
    "d['query']"
   ]
  },
  {
   "cell_type": "code",
   "execution_count": 30,
   "metadata": {},
   "outputs": [
    {
     "data": {
      "text/html": [
       "<div>\n",
       "<table border=\"1\" class=\"dataframe\">\n",
       "  <thead>\n",
       "    <tr style=\"text-align: right;\">\n",
       "      <th></th>\n",
       "      <th>creationDateTime</th>\n",
       "      <th>downloadUri</th>\n",
       "      <th>id</th>\n",
       "      <th>isSampleQueryJob</th>\n",
       "      <th>notebook</th>\n",
       "      <th>ownerId</th>\n",
       "      <th>progress</th>\n",
       "      <th>query</th>\n",
       "      <th>queuePosition</th>\n",
       "      <th>queueSize</th>\n",
       "      <th>status</th>\n",
       "      <th>statusDescription</th>\n",
       "      <th>visualization</th>\n",
       "    </tr>\n",
       "  </thead>\n",
       "  <tbody>\n",
       "    <tr>\n",
       "      <th>description</th>\n",
       "      <td>2018-03-05T03:31:31.949Z</td>\n",
       "      <td>None</td>\n",
       "      <td>00000000-2137-8c84-0000-00002155c70a</td>\n",
       "      <td>True</td>\n",
       "      <td>None</td>\n",
       "      <td>None</td>\n",
       "      <td>100</td>\n",
       "      <td>We compare the US Department of Agriculture's ...</td>\n",
       "      <td>0</td>\n",
       "      <td>1</td>\n",
       "      <td>success</td>\n",
       "      <td>Success</td>\n",
       "      <td>NaN</td>\n",
       "    </tr>\n",
       "    <tr>\n",
       "      <th>displayedBoundingBox</th>\n",
       "      <td>2018-03-05T03:31:31.949Z</td>\n",
       "      <td>None</td>\n",
       "      <td>00000000-2137-8c84-0000-00002155c70a</td>\n",
       "      <td>True</td>\n",
       "      <td>None</td>\n",
       "      <td>None</td>\n",
       "      <td>100</td>\n",
       "      <td>NaN</td>\n",
       "      <td>0</td>\n",
       "      <td>1</td>\n",
       "      <td>success</td>\n",
       "      <td>Success</td>\n",
       "      <td>{u'northEastCoordinate': {u'latitude': 42.3910...</td>\n",
       "    </tr>\n",
       "    <tr>\n",
       "      <th>filters</th>\n",
       "      <td>2018-03-05T03:31:31.949Z</td>\n",
       "      <td>None</td>\n",
       "      <td>00000000-2137-8c84-0000-00002155c70a</td>\n",
       "      <td>True</td>\n",
       "      <td>None</td>\n",
       "      <td>None</td>\n",
       "      <td>100</td>\n",
       "      <td>[]</td>\n",
       "      <td>0</td>\n",
       "      <td>1</td>\n",
       "      <td>success</td>\n",
       "      <td>Success</td>\n",
       "      <td>NaN</td>\n",
       "    </tr>\n",
       "    <tr>\n",
       "      <th>isPublic</th>\n",
       "      <td>2018-03-05T03:31:31.949Z</td>\n",
       "      <td>None</td>\n",
       "      <td>00000000-2137-8c84-0000-00002155c70a</td>\n",
       "      <td>True</td>\n",
       "      <td>None</td>\n",
       "      <td>None</td>\n",
       "      <td>100</td>\n",
       "      <td>True</td>\n",
       "      <td>0</td>\n",
       "      <td>1</td>\n",
       "      <td>success</td>\n",
       "      <td>Success</td>\n",
       "      <td>NaN</td>\n",
       "    </tr>\n",
       "    <tr>\n",
       "      <th>layers</th>\n",
       "      <td>2018-03-05T03:31:31.949Z</td>\n",
       "      <td>None</td>\n",
       "      <td>00000000-2137-8c84-0000-00002155c70a</td>\n",
       "      <td>True</td>\n",
       "      <td>None</td>\n",
       "      <td>None</td>\n",
       "      <td>100</td>\n",
       "      <td>[{u'startingDateTime': u'2017-01-01T00:00:00.0...</td>\n",
       "      <td>0</td>\n",
       "      <td>1</td>\n",
       "      <td>success</td>\n",
       "      <td>Success</td>\n",
       "      <td>[{u'endingDateTime': u'2017-01-01T00:00:00.882...</td>\n",
       "    </tr>\n",
       "    <tr>\n",
       "      <th>name</th>\n",
       "      <td>2018-03-05T03:31:31.949Z</td>\n",
       "      <td>None</td>\n",
       "      <td>00000000-2137-8c84-0000-00002155c70a</td>\n",
       "      <td>True</td>\n",
       "      <td>None</td>\n",
       "      <td>None</td>\n",
       "      <td>100</td>\n",
       "      <td>Agriculture in Midwestern U.S.</td>\n",
       "      <td>0</td>\n",
       "      <td>1</td>\n",
       "      <td>success</td>\n",
       "      <td>Success</td>\n",
       "      <td>NaN</td>\n",
       "    </tr>\n",
       "    <tr>\n",
       "      <th>space</th>\n",
       "      <td>2018-03-05T03:31:31.949Z</td>\n",
       "      <td>None</td>\n",
       "      <td>00000000-2137-8c84-0000-00002155c70a</td>\n",
       "      <td>True</td>\n",
       "      <td>None</td>\n",
       "      <td>None</td>\n",
       "      <td>100</td>\n",
       "      <td>{u'northEastCoordinate': {u'latitude': 42.3910...</td>\n",
       "      <td>0</td>\n",
       "      <td>1</td>\n",
       "      <td>success</td>\n",
       "      <td>Success</td>\n",
       "      <td>NaN</td>\n",
       "    </tr>\n",
       "    <tr>\n",
       "      <th>timeRange</th>\n",
       "      <td>2018-03-05T03:31:31.949Z</td>\n",
       "      <td>None</td>\n",
       "      <td>00000000-2137-8c84-0000-00002155c70a</td>\n",
       "      <td>True</td>\n",
       "      <td>None</td>\n",
       "      <td>None</td>\n",
       "      <td>100</td>\n",
       "      <td>NaN</td>\n",
       "      <td>0</td>\n",
       "      <td>1</td>\n",
       "      <td>success</td>\n",
       "      <td>Success</td>\n",
       "      <td>{u'startingDateTime': u'2017-01-01T00:00:00.00...</td>\n",
       "    </tr>\n",
       "  </tbody>\n",
       "</table>\n",
       "</div>"
      ],
      "text/plain": [
       "                              creationDateTime downloadUri  \\\n",
       "description           2018-03-05T03:31:31.949Z        None   \n",
       "displayedBoundingBox  2018-03-05T03:31:31.949Z        None   \n",
       "filters               2018-03-05T03:31:31.949Z        None   \n",
       "isPublic              2018-03-05T03:31:31.949Z        None   \n",
       "layers                2018-03-05T03:31:31.949Z        None   \n",
       "name                  2018-03-05T03:31:31.949Z        None   \n",
       "space                 2018-03-05T03:31:31.949Z        None   \n",
       "timeRange             2018-03-05T03:31:31.949Z        None   \n",
       "\n",
       "                                                        id isSampleQueryJob  \\\n",
       "description           00000000-2137-8c84-0000-00002155c70a             True   \n",
       "displayedBoundingBox  00000000-2137-8c84-0000-00002155c70a             True   \n",
       "filters               00000000-2137-8c84-0000-00002155c70a             True   \n",
       "isPublic              00000000-2137-8c84-0000-00002155c70a             True   \n",
       "layers                00000000-2137-8c84-0000-00002155c70a             True   \n",
       "name                  00000000-2137-8c84-0000-00002155c70a             True   \n",
       "space                 00000000-2137-8c84-0000-00002155c70a             True   \n",
       "timeRange             00000000-2137-8c84-0000-00002155c70a             True   \n",
       "\n",
       "                     notebook ownerId  progress  \\\n",
       "description              None    None       100   \n",
       "displayedBoundingBox     None    None       100   \n",
       "filters                  None    None       100   \n",
       "isPublic                 None    None       100   \n",
       "layers                   None    None       100   \n",
       "name                     None    None       100   \n",
       "space                    None    None       100   \n",
       "timeRange                None    None       100   \n",
       "\n",
       "                                                                  query  \\\n",
       "description           We compare the US Department of Agriculture's ...   \n",
       "displayedBoundingBox                                                NaN   \n",
       "filters                                                              []   \n",
       "isPublic                                                           True   \n",
       "layers                [{u'startingDateTime': u'2017-01-01T00:00:00.0...   \n",
       "name                                     Agriculture in Midwestern U.S.   \n",
       "space                 {u'northEastCoordinate': {u'latitude': 42.3910...   \n",
       "timeRange                                                           NaN   \n",
       "\n",
       "                      queuePosition  queueSize   status statusDescription  \\\n",
       "description                       0          1  success           Success   \n",
       "displayedBoundingBox              0          1  success           Success   \n",
       "filters                           0          1  success           Success   \n",
       "isPublic                          0          1  success           Success   \n",
       "layers                            0          1  success           Success   \n",
       "name                              0          1  success           Success   \n",
       "space                             0          1  success           Success   \n",
       "timeRange                         0          1  success           Success   \n",
       "\n",
       "                                                          visualization  \n",
       "description                                                         NaN  \n",
       "displayedBoundingBox  {u'northEastCoordinate': {u'latitude': 42.3910...  \n",
       "filters                                                             NaN  \n",
       "isPublic                                                            NaN  \n",
       "layers                [{u'endingDateTime': u'2017-01-01T00:00:00.882...  \n",
       "name                                                                NaN  \n",
       "space                                                               NaN  \n",
       "timeRange             {u'startingDateTime': u'2017-01-01T00:00:00.00...  "
      ]
     },
     "execution_count": 30,
     "metadata": {},
     "output_type": "execute_result"
    }
   ],
   "source": [
    "import pandas as pd\n",
    "pd.DataFrame(d)"
   ]
  },
  {
   "cell_type": "code",
   "execution_count": null,
   "metadata": {
    "collapsed": true
   },
   "outputs": [],
   "source": []
  }
 ],
 "metadata": {
  "kernelspec": {
   "display_name": "Python 2",
   "language": "python",
   "name": "python2"
  },
  "language_info": {
   "codemirror_mode": {
    "name": "ipython",
    "version": 2
   },
   "file_extension": ".py",
   "mimetype": "text/x-python",
   "name": "python",
   "nbconvert_exporter": "python",
   "pygments_lexer": "ipython2",
   "version": "2.7.12"
  }
 },
 "nbformat": 4,
 "nbformat_minor": 2
}
