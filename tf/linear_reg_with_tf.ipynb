{
 "cells": [
  {
   "cell_type": "code",
   "execution_count": 98,
   "metadata": {},
   "outputs": [],
   "source": [
    "import tensorflow as tf\n",
    "\n",
    "import matplotlib.pyplot as plt\n",
    "import numpy as np\n",
    "import pandas as pd\n",
    "from sklearn import datasets"
   ]
  },
  {
   "cell_type": "markdown",
   "metadata": {},
   "source": [
    "### Libs"
   ]
  },
  {
   "cell_type": "code",
   "execution_count": 124,
   "metadata": {},
   "outputs": [],
   "source": [
    "# to make this notebook's output stable across runs\n",
    "def reset_graph(seed=42):\n",
    "    tf.reset_default_graph()\n",
    "    tf.set_random_seed(seed)\n",
    "    np.random.seed(seed)\n",
    "    \n",
    "# plot the regression fit for comparison\n",
    "def plot_fit(feature, target, coefficients, intercept):\n",
    "    plt.scatter(feature, target,  color='blue')\n",
    "    xi = np.arange(0.0, 1.0, 0.1)\n",
    "    line = coefficients * xi + [[intercept]]\n",
    "    plt.plot(xi, line[0])\n",
    "    return plt"
   ]
  },
  {
   "cell_type": "markdown",
   "metadata": {},
   "source": [
    "### Data"
   ]
  },
  {
   "cell_type": "code",
   "execution_count": 100,
   "metadata": {},
   "outputs": [
    {
     "data": {
      "text/html": [
       "<div>\n",
       "<style scoped>\n",
       "    .dataframe tbody tr th:only-of-type {\n",
       "        vertical-align: middle;\n",
       "    }\n",
       "\n",
       "    .dataframe tbody tr th {\n",
       "        vertical-align: top;\n",
       "    }\n",
       "\n",
       "    .dataframe thead th {\n",
       "        text-align: right;\n",
       "    }\n",
       "</style>\n",
       "<table border=\"1\" class=\"dataframe\">\n",
       "  <thead>\n",
       "    <tr style=\"text-align: right;\">\n",
       "      <th></th>\n",
       "      <th>feature</th>\n",
       "      <th>target</th>\n",
       "    </tr>\n",
       "  </thead>\n",
       "  <tbody>\n",
       "    <tr>\n",
       "      <th>0</th>\n",
       "      <td>0.374540</td>\n",
       "      <td>0.380826</td>\n",
       "    </tr>\n",
       "    <tr>\n",
       "      <th>1</th>\n",
       "      <td>0.950714</td>\n",
       "      <td>1.077996</td>\n",
       "    </tr>\n",
       "    <tr>\n",
       "      <th>2</th>\n",
       "      <td>0.731994</td>\n",
       "      <td>0.794865</td>\n",
       "    </tr>\n",
       "  </tbody>\n",
       "</table>\n",
       "</div>"
      ],
      "text/plain": [
       "    feature    target\n",
       "0  0.374540  0.380826\n",
       "1  0.950714  1.077996\n",
       "2  0.731994  0.794865"
      ]
     },
     "execution_count": 100,
     "metadata": {},
     "output_type": "execute_result"
    }
   ],
   "source": [
    "# we fake some events with good correlation\n",
    "N_EVENTS = 100\n",
    "feature = np.random.rand(N_EVENTS)\n",
    "target = feature + np.random.rand(N_EVENTS)*0.2\n",
    "df = pd.DataFrame(data = zip(feature, target), columns=['feature', 'target'])\n",
    "df.head(3)"
   ]
  },
  {
   "cell_type": "code",
   "execution_count": 101,
   "metadata": {},
   "outputs": [
    {
     "data": {
      "image/png": "[encoded data removed]",
      "text/plain": [
       "<matplotlib.figure.Figure at 0x1a2bb6b810>"
      ]
     },
     "metadata": {},
     "output_type": "display_data"
    }
   ],
   "source": [
    "plt.scatter(feature, target, color='blue')\n",
    "plt.show()"
   ]
  },
  {
   "cell_type": "markdown",
   "metadata": {},
   "source": [
    "### Prepare Data for Tensor Flow"
   ]
  },
  {
   "cell_type": "code",
   "execution_count": 102,
   "metadata": {},
   "outputs": [],
   "source": [
    "m = N_EVENTS\n",
    "n = 1 # one feature\n",
    "\n",
    "data_plus_bias = np.c_[np.ones((m, 1)), feature]\n",
    "X = tf.constant(data_plus_bias, dtype=tf.float32, name=\"X\")\n",
    "y = tf.constant(target.reshape(-1, 1), dtype=tf.float32, name=\"y\")"
   ]
  },
  {
   "cell_type": "markdown",
   "metadata": {},
   "source": [
    "### => regression with scikit (for comparisons)"
   ]
  },
  {
   "cell_type": "code",
   "execution_count": 128,
   "metadata": {},
   "outputs": [
    {
     "name": "stdout",
     "output_type": "stream",
     "text": [
      "coefficients (slope):  [0.99329367]\n",
      "intercept:  0.10271953128020728\n"
     ]
    }
   ],
   "source": [
    "from sklearn.linear_model import LinearRegression\n",
    "lin_reg = LinearRegression()\n",
    "lin_reg.fit(np.c_[feature], target)\n",
    "intercept = lin_reg.intercept_.reshape(-1, 1)[0][0]\n",
    "coefficients = lin_reg.coef_.T\n",
    "print \"coefficients (slope): \", coefficients\n",
    "print \"intercept: \", intercept"
   ]
  },
  {
   "cell_type": "code",
   "execution_count": 129,
   "metadata": {},
   "outputs": [
    {
     "data": {
      "image/png": "[encoded data removed]",
      "text/plain": [
       "<matplotlib.figure.Figure at 0x1a2ac328d0>"
      ]
     },
     "metadata": {},
     "output_type": "display_data"
    }
   ],
   "source": [
    "plot_fit(feature, target, coefficients, intercept).show()"
   ]
  },
  {
   "cell_type": "markdown",
   "metadata": {},
   "source": [
    "### => regression using Normal Equation"
   ]
  },
  {
   "cell_type": "code",
   "execution_count": 133,
   "metadata": {},
   "outputs": [
    {
     "name": "stdout",
     "output_type": "stream",
     "text": [
      "coefficients (slope):  [0.99329287]\n",
      "intercept:  0.1027199\n"
     ]
    },
    {
     "data": {
      "image/png": "[encoded data removed]",
      "text/plain": [
       "<matplotlib.figure.Figure at 0x1a2bde6b90>"
      ]
     },
     "metadata": {},
     "output_type": "display_data"
    }
   ],
   "source": [
    "XT = tf.transpose(X)\n",
    "theta = tf.matmul(tf.matmul(tf.matrix_inverse(tf.matmul(XT, X)), XT), y)\n",
    "with tf.Session() as sess:\n",
    "    theta_value = theta.eval()\n",
    "intercept, coefficients = theta_value\n",
    "intercept = intercept[0]\n",
    "print \"coefficients (slope): \", coefficients\n",
    "print \"intercept: \", intercept\n",
    "plot_fit(feature, target, coefficients, intercept).show()"
   ]
  },
  {
   "cell_type": "markdown",
   "metadata": {},
   "source": [
    "### => regression using Tensor Flow Estimator "
   ]
  },
  {
   "cell_type": "code",
   "execution_count": 238,
   "metadata": {},
   "outputs": [
    {
     "name": "stdout",
     "output_type": "stream",
     "text": [
      "0.8120035 0.19490708\n"
     ]
    }
   ],
   "source": [
    "# create placeholders for input X (number of fire) and label Y (number of theft)\n",
    "X  =  tf.placeholder(tf.float32 ,  name = \"X\")\n",
    "Y  =  tf.placeholder(tf.float32 ,  name = \"Y\")\n",
    "# create weight and bias, initialized to 0\n",
    "w  =  tf.Variable(0.0, name = \"weights\") \n",
    "b  =  tf.Variable(0.0,  name = \"bias\")\n",
    "# construct model to predict Y \n",
    "Y_predicted  =  X  *  w  +  b\n",
    "# use the square error as the loss function\n",
    "loss  =  tf.square(Y- Y_predicted ,  name = \"loss\")\n",
    "# we could use here the mse too\n",
    "# mse = tf.reduce_mean(tf.square(Y- Y_predicted), name=\"mse\")\n",
    "\n",
    "# using gradient descent with learning rate of 0.01 to minimize loss\n",
    "optimizer  =  tf.train.GradientDescentOptimizer( learning_rate = 0.001 ).minimize(loss)\n",
    "\n",
    "with  tf.Session ()   as  sess:\n",
    "    #initialize the necessary variables, in this case, w and b \n",
    "    sess.run(tf.global_variables_initializer())\n",
    "    # train the model\n",
    "    # run 100 epochs \n",
    "    for  i  in  range (100):  \n",
    "        for  x ,  y  in  zip(feature, target):\n",
    "            # Session runs train_op to minimize loss\n",
    "            sess.run(optimizer ,  feed_dict ={ X :  x ,  Y : y })\n",
    "    # Step 9: output the values of w and b\n",
    "    w_value ,  b_value  =  sess.run ([ w ,  b ])\n",
    "    \n",
    "coefficients\n",
    "print \"coefficients (slope): \", w_value\n",
    "print \"intercept: \", b_value\n",
    "plot_fit(feature, target, coefficients, intercept).show()"
   ]
  },
  {
   "cell_type": "markdown",
   "metadata": {},
   "source": [
    "### => regression using Batch Gradient Descent"
   ]
  },
  {
   "cell_type": "code",
   "execution_count": 176,
   "metadata": {},
   "outputs": [
    {
     "data": {
      "text/html": [
       "<div>\n",
       "<style scoped>\n",
       "    .dataframe tbody tr th:only-of-type {\n",
       "        vertical-align: middle;\n",
       "    }\n",
       "\n",
       "    .dataframe tbody tr th {\n",
       "        vertical-align: top;\n",
       "    }\n",
       "\n",
       "    .dataframe thead th {\n",
       "        text-align: right;\n",
       "    }\n",
       "</style>\n",
       "<table border=\"1\" class=\"dataframe\">\n",
       "  <thead>\n",
       "    <tr style=\"text-align: right;\">\n",
       "      <th></th>\n",
       "      <th>feature</th>\n",
       "      <th>target</th>\n",
       "    </tr>\n",
       "  </thead>\n",
       "  <tbody>\n",
       "    <tr>\n",
       "      <th>0</th>\n",
       "      <td>0.374540</td>\n",
       "      <td>0.380826</td>\n",
       "    </tr>\n",
       "    <tr>\n",
       "      <th>1</th>\n",
       "      <td>0.950714</td>\n",
       "      <td>1.077996</td>\n",
       "    </tr>\n",
       "    <tr>\n",
       "      <th>2</th>\n",
       "      <td>0.731994</td>\n",
       "      <td>0.794865</td>\n",
       "    </tr>\n",
       "  </tbody>\n",
       "</table>\n",
       "</div>"
      ],
      "text/plain": [
       "    feature    target\n",
       "0  0.374540  0.380826\n",
       "1  0.950714  1.077996\n",
       "2  0.731994  0.794865"
      ]
     },
     "execution_count": 176,
     "metadata": {},
     "output_type": "execute_result"
    }
   ],
   "source": [
    "# Gradient Descent requires scaling the feature vectors first. \n",
    "# We could do this using TF, but let's just use Scikit-Learn for now.\n",
    "from sklearn.preprocessing import StandardScaler\n",
    "scaler = StandardScaler()\n",
    "scaled_X = scaler.fit_transform(np.c_[feature])\n",
    "m = len(feature)\n",
    "scaled_X_plus_bias = np.concatenate((np.ones((m, 1)), scaled_X), axis=1)\n",
    "pd.DataFrame(data = np.concatenate((scaled_X_plus_bias, np.c_[target]), axis=1), \n",
    "             columns=['feature', 'bias', 'target'])\n",
    "df.head(3)"
   ]
  },
  {
   "cell_type": "code",
   "execution_count": 229,
   "metadata": {},
   "outputs": [
    {
     "name": "stdout",
     "output_type": "stream",
     "text": [
      "('Epoch', 0, 'MSE =', 1.1195977)\n",
      "('Epoch', 100, 'MSE =', 0.023029918)\n",
      "('Epoch', 200, 'MSE =', 0.0037435465)\n",
      "('Epoch', 300, 'MSE =', 0.0034043354)\n",
      "('Epoch', 400, 'MSE =', 0.003398369)\n",
      "('Epoch', 500, 'MSE =', 0.0033982643)\n",
      "('Epoch', 600, 'MSE =', 0.003398263)\n",
      "('Epoch', 700, 'MSE =', 0.003398262)\n",
      "('Epoch', 800, 'MSE =', 0.003398262)\n",
      "('Epoch', 900, 'MSE =', 0.003398262)\n"
     ]
    },
    {
     "data": {
      "text/plain": [
       "array([[0.56974566],\n",
       "       [0.29401243]], dtype=float32)"
      ]
     },
     "execution_count": 229,
     "metadata": {},
     "output_type": "execute_result"
    }
   ],
   "source": [
    "reset_graph()\n",
    "\n",
    "n_epochs = 1000\n",
    "learning_rate = 0.01\n",
    "\n",
    "X = tf.constant(scaled_X_plus_bias, dtype=tf.float32, name=\"X\")\n",
    "y = tf.constant(target.reshape(-1, 1), dtype=tf.float32, name=\"y\")\n",
    "m, n = scaled_X.shape\n",
    "theta = tf.Variable(tf.random_uniform([n + 1, 1], -1.0, 1.0, seed=42), name=\"theta\")\n",
    "y_pred = tf.matmul(X, theta, name=\"predictions\")\n",
    "error = y_pred - y\n",
    "mse = tf.reduce_mean(tf.square(error), name=\"mse\")\n",
    "gradients = 2./m * tf.matmul(tf.transpose(X), error)\n",
    "training_op = tf.assign(theta, theta - learning_rate * gradients)\n",
    "\n",
    "init = tf.global_variables_initializer()\n",
    "\n",
    "with tf.Session() as sess:\n",
    "    sess.run(init)\n",
    "\n",
    "    for epoch in range(n_epochs):\n",
    "        if epoch % 100 == 0:\n",
    "            print(\"Epoch\", epoch, \"MSE =\", mse.eval())\n",
    "        sess.run(training_op)\n",
    "    \n",
    "    best_theta = theta.eval()\n",
    "best_theta"
   ]
  },
  {
   "cell_type": "code",
   "execution_count": 230,
   "metadata": {},
   "outputs": [
    {
     "name": "stdout",
     "output_type": "stream",
     "text": [
      "coefficients (slope):  [0.56974566]\n",
      "intercept:  0.29401243\n"
     ]
    },
    {
     "data": {
      "image/png": "[encoded data removed]",
      "text/plain": [
       "<matplotlib.figure.Figure at 0x1a2c707c90>"
      ]
     },
     "metadata": {},
     "output_type": "display_data"
    }
   ],
   "source": [
    "coefficients, intercept = best_theta\n",
    "intercept = intercept[0]\n",
    "print \"coefficients (slope): \", coefficients\n",
    "print \"intercept: \", intercept\n",
    "plot_fit(feature, target, coefficients, intercept).show()"
   ]
  },
  {
   "cell_type": "markdown",
   "metadata": {},
   "source": [
    "### => regression using Batch Gradient Descent & Autodiff"
   ]
  },
  {
   "cell_type": "code",
   "execution_count": 231,
   "metadata": {},
   "outputs": [
    {
     "name": "stdout",
     "output_type": "stream",
     "text": [
      "('Epoch', 0, 'MSE =', 1.1195977)\n",
      "('Epoch', 100, 'MSE =', 0.023029923)\n",
      "('Epoch', 200, 'MSE =', 0.0037435489)\n",
      "('Epoch', 300, 'MSE =', 0.0034043354)\n",
      "('Epoch', 400, 'MSE =', 0.003398369)\n",
      "('Epoch', 500, 'MSE =', 0.0033982643)\n",
      "('Epoch', 600, 'MSE =', 0.003398263)\n",
      "('Epoch', 700, 'MSE =', 0.003398262)\n",
      "('Epoch', 800, 'MSE =', 0.003398262)\n",
      "('Epoch', 900, 'MSE =', 0.003398262)\n",
      "Best theta:\n",
      "[[0.56974566]\n",
      " [0.29401243]]\n"
     ]
    }
   ],
   "source": [
    "reset_graph()\n",
    "\n",
    "n_epochs = 1000\n",
    "learning_rate = 0.01\n",
    "\n",
    "X = tf.constant(scaled_X_plus_bias, dtype=tf.float32, name=\"X\")\n",
    "y = tf.constant(target.reshape(-1, 1), dtype=tf.float32, name=\"y\")\n",
    "m, n = scaled_X.shape\n",
    "theta = tf.Variable(tf.random_uniform([n + 1, 1], -1.0, 1.0, seed=42), name=\"theta\")\n",
    "y_pred = tf.matmul(X, theta, name=\"predictions\")\n",
    "error = y_pred - y\n",
    "mse = tf.reduce_mean(tf.square(error), name=\"mse\")\n",
    "gradients = 2./m * tf.matmul(tf.transpose(X), error)\n",
    "training_op = tf.assign(theta, theta - learning_rate * gradients)\n",
    "\n",
    "gradients = tf.gradients(mse, [theta])[0]\n",
    "training_op = tf.assign(theta, theta - learning_rate * gradients)\n",
    "\n",
    "init = tf.global_variables_initializer()\n",
    "\n",
    "with tf.Session() as sess:\n",
    "    sess.run(init)\n",
    "\n",
    "    for epoch in range(n_epochs):\n",
    "        if epoch % 100 == 0:\n",
    "            print(\"Epoch\", epoch, \"MSE =\", mse.eval())\n",
    "        sess.run(training_op)\n",
    "    \n",
    "    best_theta = theta.eval()\n",
    "\n",
    "print(\"Best theta:\")\n",
    "print(best_theta)"
   ]
  },
  {
   "cell_type": "markdown",
   "metadata": {},
   "source": [
    "### => regression using Batch Gradient Descent & Autodiff & optimizer"
   ]
  },
  {
   "cell_type": "code",
   "execution_count": null,
   "metadata": {
    "collapsed": true
   },
   "outputs": [],
   "source": [
    "reset_graph()\n",
    "\n",
    "n_epochs = 1000\n",
    "learning_rate = 0.01\n",
    "\n",
    "X = tf.constant(scaled_housing_data_plus_bias, dtype=tf.float32, name=\"X\")\n",
    "y = tf.constant(housing.target.reshape(-1, 1), dtype=tf.float32, name=\"y\")\n",
    "theta = tf.Variable(tf.random_uniform([n + 1, 1], -1.0, 1.0, seed=42), name=\"theta\")\n",
    "y_pred = tf.matmul(X, theta, name=\"predictions\")\n",
    "error = y_pred - y\n",
    "mse = tf.reduce_mean(tf.square(error), name=\"mse\")\n",
    "\n"
   ]
  },
  {
   "cell_type": "code",
   "execution_count": null,
   "metadata": {
    "collapsed": true
   },
   "outputs": [],
   "source": []
  },
  {
   "cell_type": "code",
   "execution_count": null,
   "metadata": {
    "collapsed": true
   },
   "outputs": [],
   "source": []
  }
 ],
 "metadata": {
  "kernelspec": {
   "display_name": "Python 2",
   "language": "python",
   "name": "python2"
  },
  "language_info": {
   "codemirror_mode": {
    "name": "ipython",
    "version": 2
   },
   "file_extension": ".py",
   "mimetype": "text/x-python",
   "name": "python",
   "nbconvert_exporter": "python",
   "pygments_lexer": "ipython2",
   "version": "2.7.14"
  }
 },
 "nbformat": 4,
 "nbformat_minor": 2
}
