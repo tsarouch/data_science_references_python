{
 "cells": [
  {
   "cell_type": "markdown",
   "metadata": {},
   "source": [
    "\"\"\"\n",
    "Main Code from here:\n",
    "https://www.dataiku.com/learn/guide/code/python/export-a-dataset-to-google-spreadsheets.html\n",
    "\n",
    "Read about OAuth credentials:\n",
    "http://gspread.readthedocs.io/en/latest/oauth2.html\n",
    "\n",
    "\n",
    "Go to Google Sheets and share your spreadsheet with an email you have in your \n",
    "json_key['client_email']. \n",
    "Otherwise you’ll get a SpreadsheetNotFound exception when trying to open it.\n",
    "\n",
    "Install oauth2client and PyOpenSSL\n",
    "> pip install --upgrade oauth2client\n",
    "(In case of this error:\n",
    "ImportError: cannot import name SignedJwtAssertionCredentials\n",
    "do\n",
    "> pip install oauth2client==1.5.2\n",
    ")\n",
    "\n",
    "> pip install PyOpenSSL\n",
    "\n",
    "\"\"\""
   ]
  },
  {
   "cell_type": "code",
   "execution_count": 56,
   "metadata": {
    "collapsed": false
   },
   "outputs": [],
   "source": [
    "import pandas as pd\n",
    "import numpy as np\n",
    "import json\n",
    "import gspread\n",
    "from oauth2client.client import SignedJwtAssertionCredentials\n",
    "\n",
    "json_key = json.load(open('/Users/.../xxx.json'))\n",
    "\n",
    "scope = ['https://spreadsheets.google.com/feeds']\n",
    "\n",
    "credentials = SignedJwtAssertionCredentials(json_key['client_email'], \n",
    "                                            json_key['private_key'].encode(), \n",
    "                                            scope)\n",
    "\n",
    "gc = gspread.authorize(credentials)"
   ]
  },
  {
   "cell_type": "code",
   "execution_count": 57,
   "metadata": {
    "collapsed": false
   },
   "outputs": [
    {
     "data": {
      "text/html": [
       "<div>\n",
       "<table border=\"1\" class=\"dataframe\">\n",
       "  <thead>\n",
       "    <tr style=\"text-align: right;\">\n",
       "      <th></th>\n",
       "      <th>A</th>\n",
       "      <th>B</th>\n",
       "      <th>C</th>\n",
       "      <th>D</th>\n",
       "    </tr>\n",
       "  </thead>\n",
       "  <tbody>\n",
       "    <tr>\n",
       "      <th>2000-01-01</th>\n",
       "      <td>0.221910</td>\n",
       "      <td>2.099965</td>\n",
       "      <td>-0.827370</td>\n",
       "      <td>0.806158</td>\n",
       "    </tr>\n",
       "    <tr>\n",
       "      <th>2000-01-02</th>\n",
       "      <td>0.324799</td>\n",
       "      <td>-0.904801</td>\n",
       "      <td>1.854935</td>\n",
       "      <td>0.054225</td>\n",
       "    </tr>\n",
       "    <tr>\n",
       "      <th>2000-01-03</th>\n",
       "      <td>-1.606639</td>\n",
       "      <td>0.544335</td>\n",
       "      <td>1.591256</td>\n",
       "      <td>-0.093204</td>\n",
       "    </tr>\n",
       "    <tr>\n",
       "      <th>2000-01-04</th>\n",
       "      <td>-0.239656</td>\n",
       "      <td>-1.495653</td>\n",
       "      <td>0.245264</td>\n",
       "      <td>-1.294125</td>\n",
       "    </tr>\n",
       "  </tbody>\n",
       "</table>\n",
       "</div>"
      ],
      "text/plain": [
       "                   A         B         C         D\n",
       "2000-01-01  0.221910  2.099965 -0.827370  0.806158\n",
       "2000-01-02  0.324799 -0.904801  1.854935  0.054225\n",
       "2000-01-03 -1.606639  0.544335  1.591256 -0.093204\n",
       "2000-01-04 -0.239656 -1.495653  0.245264 -1.294125"
      ]
     },
     "execution_count": 57,
     "metadata": {},
     "output_type": "execute_result"
    }
   ],
   "source": [
    "# create sample dataframe\n",
    "ts = pd.Series(np.random.randn(1000), index=pd.date_range('1/1/2000', periods=1000))\n",
    "df = pd.DataFrame(np.random.randn(1000, 4), index=ts.index, columns=['A', 'B', 'C', 'D'])\n",
    "df.head(4)"
   ]
  },
  {
   "cell_type": "code",
   "execution_count": 85,
   "metadata": {
    "collapsed": true
   },
   "outputs": [],
   "source": [
    "def numberToLetters(q):\n",
    "    q = q - 1\n",
    "    result = ''\n",
    "    while q >= 0:\n",
    "        remain = q % 26\n",
    "        result = chr(remain+65) + result;\n",
    "        q = q//26 - 1\n",
    "    return result\n",
    "\n",
    "def create_columns(worksheet, df):\n",
    "    # columns names\n",
    "    columns = df.columns.values.tolist()\n",
    "    # selection of the range that will be updated\n",
    "    cell_list = worksheet.range('A1:'+numberToLetters(len(columns))+'1')\n",
    "    # modifying the values in the range\n",
    "    for cell in cell_list:\n",
    "        val = columns[cell.col-1]\n",
    "        if type(val) is str:\n",
    "            val = val.decode('utf-8')\n",
    "        cell.value = val\n",
    "    # update in batch\n",
    "    worksheet.update_cells(cell_list)\n",
    "    \n",
    "    \n",
    "def create_rows(worksheet, df):\n",
    "    # number of lines and columns\n",
    "    num_lines, num_columns = df.shape\n",
    "    worksheet.resize(num_lines + 1, num_columns)\n",
    "    \n",
    "    # selection of the range that will be updated\n",
    "    cell_list = worksheet.range('A2:'+numberToLetters(num_columns)+str(num_lines+1))\n",
    "    # modifying the values in the range\n",
    "    for cell in cell_list:\n",
    "        val = df.iloc[cell.row-2,cell.col-1]\n",
    "        if type(val) is str:\n",
    "            val = val.decode('utf-8')\n",
    "        elif isinstance(val, (int, long, float, complex)):\n",
    "            # note that we round all numbers\n",
    "            val = int(round(val))\n",
    "        cell.value = val\n",
    "    # update in batch\n",
    "    worksheet.update_cells(cell_list)    \n",
    "    "
   ]
  },
  {
   "cell_type": "code",
   "execution_count": 81,
   "metadata": {
    "collapsed": false
   },
   "outputs": [],
   "source": [
    "# open the document \n",
    "sh = gc.open_by_url('https://docs.google.com/spreadsheets/d/.../edit#gid=0')"
   ]
  },
  {
   "cell_type": "code",
   "execution_count": 82,
   "metadata": {
    "collapsed": true
   },
   "outputs": [],
   "source": [
    "worksheet = sh.get_worksheet(0)"
   ]
  },
  {
   "cell_type": "code",
   "execution_count": 83,
   "metadata": {
    "collapsed": false
   },
   "outputs": [],
   "source": [
    "create_columns(worksheet, df)"
   ]
  },
  {
   "cell_type": "code",
   "execution_count": 86,
   "metadata": {
    "collapsed": false
   },
   "outputs": [],
   "source": [
    "create_rows(worksheet, df)"
   ]
  },
  {
   "cell_type": "code",
   "execution_count": null,
   "metadata": {
    "collapsed": true
   },
   "outputs": [],
   "source": []
  }
 ],
 "metadata": {
  "kernelspec": {
   "display_name": "Python 2",
   "language": "python",
   "name": "python2"
  },
  "language_info": {
   "codemirror_mode": {
    "name": "ipython",
    "version": 2
   },
   "file_extension": ".py",
   "mimetype": "text/x-python",
   "name": "python",
   "nbconvert_exporter": "python",
   "pygments_lexer": "ipython2",
   "version": "2.7.10"
  }
 },
 "nbformat": 4,
 "nbformat_minor": 0
}
