{
 "cells": [
  {
   "cell_type": "markdown",
   "metadata": {},
   "source": [
    "\"\"\"\n",
    "Main Code from here:\n",
    "https://www.dataiku.com/learn/guide/code/python/export-a-dataset-to-google-spreadsheets.html\n",
    "\n",
    "Read about OAuth credentials:\n",
    "http://gspread.readthedocs.io/en/latest/oauth2.html\n",
    "\n",
    "\n",
    "Go to Google Sheets and share your spreadsheet with an email you have in your \n",
    "json_key['client_email']. \n",
    "Otherwise you’ll get a SpreadsheetNotFound exception when trying to open it.\n",
    "\n",
    "Install oauth2client and PyOpenSSL\n",
    "> pip install --upgrade oauth2client\n",
    "(In case of this error:\n",
    "ImportError: cannot import name SignedJwtAssertionCredentials\n",
    "do\n",
    "> pip install oauth2client==1.5.2\n",
    ")\n",
    "\n",
    "> pip install PyOpenSSL\n",
    "\n",
    "\"\"\""
   ]
  },
  {
   "cell_type": "code",
   "execution_count": 30,
   "metadata": {
    "collapsed": false
   },
   "outputs": [],
   "source": [
    "import pandas as pd\n",
    "import numpy as np\n",
    "import json\n",
    "import gspread\n",
    "from oauth2client.client import SignedJwtAssertionCredentials\n",
    "\n",
    "#json_key = json.load(open('/Users/.../xxx.json'))\n",
    "json_key = json.load(open('/Users/charilaostsarouchas/PT_local/GoogleSheets/BI Project-d2d4efc312f2.json'))\n",
    "url = 'https://docs.google.com/a/project-thor.ch/spreadsheets/d/1uOAyNPuGeXtGwdTZHRCnv1LpBU3Ws1UxYbMGvqwb-Q4/edit?usp=sharing'\n",
    "\n",
    "\n",
    "scope = ['https://spreadsheets.google.com/feeds']\n",
    "\n",
    "credentials = SignedJwtAssertionCredentials(json_key['client_email'], \n",
    "                                            json_key['private_key'].encode(), \n",
    "                                            scope)\n",
    "\n",
    "gc = gspread.authorize(credentials)"
   ]
  },
  {
   "cell_type": "code",
   "execution_count": 31,
   "metadata": {
    "collapsed": false
   },
   "outputs": [
    {
     "data": {
      "text/html": [
       "<div>\n",
       "<table border=\"1\" class=\"dataframe\">\n",
       "  <thead>\n",
       "    <tr style=\"text-align: right;\">\n",
       "      <th></th>\n",
       "      <th>A</th>\n",
       "      <th>B</th>\n",
       "      <th>C</th>\n",
       "      <th>D</th>\n",
       "    </tr>\n",
       "  </thead>\n",
       "  <tbody>\n",
       "    <tr>\n",
       "      <th>2000-01-01</th>\n",
       "      <td>-0.697462</td>\n",
       "      <td>0.463494</td>\n",
       "      <td>1.005237</td>\n",
       "      <td>1.474883</td>\n",
       "    </tr>\n",
       "    <tr>\n",
       "      <th>2000-01-02</th>\n",
       "      <td>-0.427325</td>\n",
       "      <td>1.309479</td>\n",
       "      <td>-0.022745</td>\n",
       "      <td>-0.319290</td>\n",
       "    </tr>\n",
       "    <tr>\n",
       "      <th>2000-01-03</th>\n",
       "      <td>-1.079871</td>\n",
       "      <td>-0.154020</td>\n",
       "      <td>0.911107</td>\n",
       "      <td>1.430430</td>\n",
       "    </tr>\n",
       "    <tr>\n",
       "      <th>2000-01-04</th>\n",
       "      <td>-0.200460</td>\n",
       "      <td>0.013035</td>\n",
       "      <td>2.208474</td>\n",
       "      <td>-1.220945</td>\n",
       "    </tr>\n",
       "  </tbody>\n",
       "</table>\n",
       "</div>"
      ],
      "text/plain": [
       "                   A         B         C         D\n",
       "2000-01-01 -0.697462  0.463494  1.005237  1.474883\n",
       "2000-01-02 -0.427325  1.309479 -0.022745 -0.319290\n",
       "2000-01-03 -1.079871 -0.154020  0.911107  1.430430\n",
       "2000-01-04 -0.200460  0.013035  2.208474 -1.220945"
      ]
     },
     "execution_count": 31,
     "metadata": {},
     "output_type": "execute_result"
    }
   ],
   "source": [
    "# create sample dataframe\n",
    "ts = pd.Series(np.random.randn(1000), index=pd.date_range('1/1/2000', periods=1000))\n",
    "df = pd.DataFrame(np.random.randn(1000, 4), index=ts.index, columns=['A', 'B', 'C', 'D'])\n",
    "df.head(4)"
   ]
  },
  {
   "cell_type": "code",
   "execution_count": 32,
   "metadata": {
    "collapsed": true
   },
   "outputs": [],
   "source": [
    "def numberToLetters(q):\n",
    "    q = q - 1\n",
    "    result = ''\n",
    "    while q >= 0:\n",
    "        remain = q % 26\n",
    "        result = chr(remain+65) + result;\n",
    "        q = q//26 - 1\n",
    "    return result\n",
    "\n",
    "def create_columns(worksheet, df):\n",
    "    # columns names\n",
    "    columns = df.columns.values.tolist()\n",
    "    # selection of the range that will be updated\n",
    "    print 'A1:'+numberToLetters(len(columns))+'1'\n",
    "    cell_list = worksheet.range('A1:'+numberToLetters(len(columns))+'1')\n",
    "    # modifying the values in the range\n",
    "    for cell in cell_list:\n",
    "        val = columns[cell.col-1]\n",
    "        if type(val) is str:\n",
    "            val = val.decode('utf-8')\n",
    "        cell.value = val\n",
    "    # update in batch\n",
    "    worksheet.update_cells(cell_list)\n",
    "    \n",
    "    \n",
    "def create_rows(worksheet, df):\n",
    "    # number of lines and columns\n",
    "    num_lines, num_columns = df.shape\n",
    "    worksheet.resize(num_lines + 1, num_columns)\n",
    "    \n",
    "    # selection of the range that will be updated\n",
    "    cell_list = worksheet.range('A2:'+numberToLetters(num_columns)+str(num_lines+1))\n",
    "    # modifying the values in the range\n",
    "    for cell in cell_list:\n",
    "        val = df.iloc[cell.row-2,cell.col-1]\n",
    "        if type(val) is str:\n",
    "            val = val.decode('utf-8')\n",
    "        elif isinstance(val, (int, long, float, complex)):\n",
    "            # note that we round all numbers\n",
    "            val = int(round(val))\n",
    "        cell.value = val\n",
    "    # update in batch\n",
    "    worksheet.update_cells(cell_list)    \n",
    "    "
   ]
  },
  {
   "cell_type": "code",
   "execution_count": 33,
   "metadata": {
    "collapsed": false
   },
   "outputs": [],
   "source": [
    "# open the document \n",
    "#sh = gc.open_by_url('https://docs.google.com/spreadsheets/d/.../edit#gid=0')\n",
    "sh = gc.open_by_url(url)\n",
    "\n"
   ]
  },
  {
   "cell_type": "code",
   "execution_count": 34,
   "metadata": {
    "collapsed": true
   },
   "outputs": [],
   "source": [
    "worksheet = sh.get_worksheet(0)"
   ]
  },
  {
   "cell_type": "code",
   "execution_count": 37,
   "metadata": {
    "collapsed": false
   },
   "outputs": [
    {
     "data": {
      "text/plain": [
       "[<Cell R1C1 'A'>, <Cell R1C2 'B'>, <Cell R1C3 ''>]"
      ]
     },
     "execution_count": 37,
     "metadata": {},
     "output_type": "execute_result"
    }
   ],
   "source": [
    "num_lines, num_columns = df.shape\n",
    "worksheet.resize(num_lines + 1, num_columns)\n",
    "    \n",
    "worksheet.range('A1:C1')"
   ]
  },
  {
   "cell_type": "code",
   "execution_count": 21,
   "metadata": {
    "collapsed": false
   },
   "outputs": [
    {
     "name": "stdout",
     "output_type": "stream",
     "text": [
      "A1:D1\n"
     ]
    },
    {
     "ename": "HTTPError",
     "evalue": "400: Ung��ltiges Abfrageargument f��r range.",
     "output_type": "error",
     "traceback": [
      "\u001b[0;31m---------------------------------------------------------------------------\u001b[0m",
      "\u001b[0;31mHTTPError\u001b[0m                                 Traceback (most recent call last)",
      "\u001b[0;32m<ipython-input-21-d635ea298027>\u001b[0m in \u001b[0;36m<module>\u001b[0;34m()\u001b[0m\n\u001b[0;32m----> 1\u001b[0;31m \u001b[0mcreate_columns\u001b[0m\u001b[0;34m(\u001b[0m\u001b[0mworksheet\u001b[0m\u001b[0;34m,\u001b[0m \u001b[0mdf\u001b[0m\u001b[0;34m)\u001b[0m\u001b[0;31m#df[['A', 'B']])\u001b[0m\u001b[0;34m\u001b[0m\u001b[0m\n\u001b[0m",
      "\u001b[0;32m<ipython-input-17-fd79739933e1>\u001b[0m in \u001b[0;36mcreate_columns\u001b[0;34m(worksheet, df)\u001b[0m\n\u001b[1;32m     13\u001b[0m     \u001b[0;31m# selection of the range that will be updated\u001b[0m\u001b[0;34m\u001b[0m\u001b[0;34m\u001b[0m\u001b[0m\n\u001b[1;32m     14\u001b[0m     \u001b[0;32mprint\u001b[0m \u001b[0;34m'A1:'\u001b[0m\u001b[0;34m+\u001b[0m\u001b[0mnumberToLetters\u001b[0m\u001b[0;34m(\u001b[0m\u001b[0mlen\u001b[0m\u001b[0;34m(\u001b[0m\u001b[0mcolumns\u001b[0m\u001b[0;34m)\u001b[0m\u001b[0;34m)\u001b[0m\u001b[0;34m+\u001b[0m\u001b[0;34m'1'\u001b[0m\u001b[0;34m\u001b[0m\u001b[0m\n\u001b[0;32m---> 15\u001b[0;31m     \u001b[0mcell_list\u001b[0m \u001b[0;34m=\u001b[0m \u001b[0mworksheet\u001b[0m\u001b[0;34m.\u001b[0m\u001b[0mrange\u001b[0m\u001b[0;34m(\u001b[0m\u001b[0;34m'A1:'\u001b[0m\u001b[0;34m+\u001b[0m\u001b[0mnumberToLetters\u001b[0m\u001b[0;34m(\u001b[0m\u001b[0mlen\u001b[0m\u001b[0;34m(\u001b[0m\u001b[0mcolumns\u001b[0m\u001b[0;34m)\u001b[0m\u001b[0;34m)\u001b[0m\u001b[0;34m+\u001b[0m\u001b[0;34m'1'\u001b[0m\u001b[0;34m)\u001b[0m\u001b[0;34m\u001b[0m\u001b[0m\n\u001b[0m\u001b[1;32m     16\u001b[0m     \u001b[0;31m# modifying the values in the range\u001b[0m\u001b[0;34m\u001b[0m\u001b[0;34m\u001b[0m\u001b[0m\n\u001b[1;32m     17\u001b[0m     \u001b[0;32mfor\u001b[0m \u001b[0mcell\u001b[0m \u001b[0;32min\u001b[0m \u001b[0mcell_list\u001b[0m\u001b[0;34m:\u001b[0m\u001b[0;34m\u001b[0m\u001b[0m\n",
      "\u001b[0;32m/Users/charilaostsarouchas/anaconda/lib/python2.7/site-packages/gspread/models.pyc\u001b[0m in \u001b[0;36mrange\u001b[0;34m(self, alphanum)\u001b[0m\n\u001b[1;32m    337\u001b[0m         \"\"\"\n\u001b[1;32m    338\u001b[0m         feed = self.client.get_cells_feed(self, params={'range': alphanum,\n\u001b[0;32m--> 339\u001b[0;31m                                                         'return-empty': 'true'})\n\u001b[0m\u001b[1;32m    340\u001b[0m         \u001b[0;32mreturn\u001b[0m \u001b[0;34m[\u001b[0m\u001b[0mCell\u001b[0m\u001b[0;34m(\u001b[0m\u001b[0mself\u001b[0m\u001b[0;34m,\u001b[0m \u001b[0melem\u001b[0m\u001b[0;34m)\u001b[0m \u001b[0;32mfor\u001b[0m \u001b[0melem\u001b[0m \u001b[0;32min\u001b[0m \u001b[0mfeed\u001b[0m\u001b[0;34m.\u001b[0m\u001b[0mfindall\u001b[0m\u001b[0;34m(\u001b[0m\u001b[0m_ns\u001b[0m\u001b[0;34m(\u001b[0m\u001b[0;34m'entry'\u001b[0m\u001b[0;34m)\u001b[0m\u001b[0;34m)\u001b[0m\u001b[0;34m]\u001b[0m\u001b[0;34m\u001b[0m\u001b[0m\n\u001b[1;32m    341\u001b[0m \u001b[0;34m\u001b[0m\u001b[0m\n",
      "\u001b[0;32m/Users/charilaostsarouchas/anaconda/lib/python2.7/site-packages/gspread/client.pyc\u001b[0m in \u001b[0;36mget_cells_feed\u001b[0;34m(self, worksheet, visibility, projection, params)\u001b[0m\n\u001b[1;32m    250\u001b[0m             \u001b[0murl\u001b[0m \u001b[0;34m=\u001b[0m \u001b[0;34m'%s?%s'\u001b[0m \u001b[0;34m%\u001b[0m \u001b[0;34m(\u001b[0m\u001b[0murl\u001b[0m\u001b[0;34m,\u001b[0m \u001b[0mparams\u001b[0m\u001b[0;34m)\u001b[0m\u001b[0;34m\u001b[0m\u001b[0m\n\u001b[1;32m    251\u001b[0m \u001b[0;34m\u001b[0m\u001b[0m\n\u001b[0;32m--> 252\u001b[0;31m         \u001b[0mr\u001b[0m \u001b[0;34m=\u001b[0m \u001b[0mself\u001b[0m\u001b[0;34m.\u001b[0m\u001b[0msession\u001b[0m\u001b[0;34m.\u001b[0m\u001b[0mget\u001b[0m\u001b[0;34m(\u001b[0m\u001b[0murl\u001b[0m\u001b[0;34m)\u001b[0m\u001b[0;34m\u001b[0m\u001b[0m\n\u001b[0m\u001b[1;32m    253\u001b[0m         \u001b[0;32mreturn\u001b[0m \u001b[0mElementTree\u001b[0m\u001b[0;34m.\u001b[0m\u001b[0mfromstring\u001b[0m\u001b[0;34m(\u001b[0m\u001b[0mr\u001b[0m\u001b[0;34m.\u001b[0m\u001b[0mcontent\u001b[0m\u001b[0;34m)\u001b[0m\u001b[0;34m\u001b[0m\u001b[0m\n\u001b[1;32m    254\u001b[0m \u001b[0;34m\u001b[0m\u001b[0m\n",
      "\u001b[0;32m/Users/charilaostsarouchas/anaconda/lib/python2.7/site-packages/gspread/httpsession.pyc\u001b[0m in \u001b[0;36mget\u001b[0;34m(self, url, **kwargs)\u001b[0m\n\u001b[1;32m     73\u001b[0m \u001b[0;34m\u001b[0m\u001b[0m\n\u001b[1;32m     74\u001b[0m     \u001b[0;32mdef\u001b[0m \u001b[0mget\u001b[0m\u001b[0;34m(\u001b[0m\u001b[0mself\u001b[0m\u001b[0;34m,\u001b[0m \u001b[0murl\u001b[0m\u001b[0;34m,\u001b[0m \u001b[0;34m**\u001b[0m\u001b[0mkwargs\u001b[0m\u001b[0;34m)\u001b[0m\u001b[0;34m:\u001b[0m\u001b[0;34m\u001b[0m\u001b[0m\n\u001b[0;32m---> 75\u001b[0;31m         \u001b[0;32mreturn\u001b[0m \u001b[0mself\u001b[0m\u001b[0;34m.\u001b[0m\u001b[0mrequest\u001b[0m\u001b[0;34m(\u001b[0m\u001b[0;34m'GET'\u001b[0m\u001b[0;34m,\u001b[0m \u001b[0murl\u001b[0m\u001b[0;34m,\u001b[0m \u001b[0;34m**\u001b[0m\u001b[0mkwargs\u001b[0m\u001b[0;34m)\u001b[0m\u001b[0;34m\u001b[0m\u001b[0m\n\u001b[0m\u001b[1;32m     76\u001b[0m \u001b[0;34m\u001b[0m\u001b[0m\n\u001b[1;32m     77\u001b[0m     \u001b[0;32mdef\u001b[0m \u001b[0mdelete\u001b[0m\u001b[0;34m(\u001b[0m\u001b[0mself\u001b[0m\u001b[0;34m,\u001b[0m \u001b[0murl\u001b[0m\u001b[0;34m,\u001b[0m \u001b[0;34m**\u001b[0m\u001b[0mkwargs\u001b[0m\u001b[0;34m)\u001b[0m\u001b[0;34m:\u001b[0m\u001b[0;34m\u001b[0m\u001b[0m\n",
      "\u001b[0;32m/Users/charilaostsarouchas/anaconda/lib/python2.7/site-packages/gspread/httpsession.pyc\u001b[0m in \u001b[0;36mrequest\u001b[0;34m(self, method, url, data, headers)\u001b[0m\n\u001b[1;32m     69\u001b[0m         \u001b[0;32mif\u001b[0m \u001b[0mresponse\u001b[0m\u001b[0;34m.\u001b[0m\u001b[0mstatus_code\u001b[0m \u001b[0;34m>\u001b[0m \u001b[0;36m399\u001b[0m\u001b[0;34m:\u001b[0m\u001b[0;34m\u001b[0m\u001b[0m\n\u001b[1;32m     70\u001b[0m             raise HTTPError(response.status_code, \"{}: {}\".format(\n\u001b[0;32m---> 71\u001b[0;31m                 response.status_code, response.content))\n\u001b[0m\u001b[1;32m     72\u001b[0m         \u001b[0;32mreturn\u001b[0m \u001b[0mresponse\u001b[0m\u001b[0;34m\u001b[0m\u001b[0m\n\u001b[1;32m     73\u001b[0m \u001b[0;34m\u001b[0m\u001b[0m\n",
      "\u001b[0;31mHTTPError\u001b[0m: 400: Ung��ltiges Abfrageargument f��r range."
     ]
    }
   ],
   "source": [
    "create_columns(worksheet, df)#df[['A', 'B']])"
   ]
  },
  {
   "cell_type": "code",
   "execution_count": 86,
   "metadata": {
    "collapsed": false
   },
   "outputs": [],
   "source": [
    "create_rows(worksheet, df)"
   ]
  },
  {
   "cell_type": "code",
   "execution_count": null,
   "metadata": {
    "collapsed": true
   },
   "outputs": [],
   "source": []
  }
 ],
 "metadata": {
  "kernelspec": {
   "display_name": "Python 2",
   "language": "python",
   "name": "python2"
  },
  "language_info": {
   "codemirror_mode": {
    "name": "ipython",
    "version": 2
   },
   "file_extension": ".py",
   "mimetype": "text/x-python",
   "name": "python",
   "nbconvert_exporter": "python",
   "pygments_lexer": "ipython2",
   "version": "2.7.10"
  }
 },
 "nbformat": 4,
 "nbformat_minor": 0
}
